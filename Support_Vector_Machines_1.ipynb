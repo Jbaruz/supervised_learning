{
  "nbformat": 4,
  "nbformat_minor": 0,
  "metadata": {
    "colab": {
      "provenance": [],
      "authorship_tag": "ABX9TyPHRq9DtpQxZkZpoADamVHh",
      "include_colab_link": true
    },
    "kernelspec": {
      "name": "python3",
      "display_name": "Python 3"
    },
    "language_info": {
      "name": "python"
    }
  },
  "cells": [
    {
      "cell_type": "markdown",
      "metadata": {
        "id": "view-in-github",
        "colab_type": "text"
      },
      "source": [
        "<a href=\"https://colab.research.google.com/github/Jbaruz/supervised_learning/blob/main/Support_Vector_Machines_1.ipynb\" target=\"_parent\"><img src=\"https://colab.research.google.com/assets/colab-badge.svg\" alt=\"Open In Colab\"/></a>"
      ]
    },
    {
      "cell_type": "code",
      "execution_count": 7,
      "metadata": {
        "id": "P7ZTMpnNrzz1"
      },
      "outputs": [],
      "source": [
        "import sys\n",
        "\n",
        "assert sys.version_info >= (3, 7)"
      ]
    },
    {
      "cell_type": "code",
      "source": [
        "from packaging import version\n",
        "import sklearn\n",
        "\n",
        "assert version.parse(sklearn.__version__) >= version.parse(\"1.0.1\")"
      ],
      "metadata": {
        "id": "BNzz3rWPr5B-"
      },
      "execution_count": 8,
      "outputs": []
    },
    {
      "cell_type": "code",
      "source": [
        "import matplotlib.pyplot as plt\n",
        "\n",
        "plt.rc('font', size=14)\n",
        "plt.rc('axes', labelsize=14, titlesize=14)\n",
        "plt.rc('legend', fontsize=14)\n",
        "plt.rc('xtick', labelsize=10)\n",
        "plt.rc('ytick', labelsize=10)"
      ],
      "metadata": {
        "id": "v0-D1vsTr5Qa"
      },
      "execution_count": 9,
      "outputs": []
    },
    {
      "cell_type": "code",
      "source": [
        "from pathlib import Path\n",
        "\n",
        "IMAGES_PATH = Path() / \"images\" / \"classification\"\n",
        "IMAGES_PATH.mkdir(parents=True, exist_ok=True)\n",
        "\n",
        "def save_fig(fig_id, tight_layout=True, fig_extension=\"png\", resolution=300):\n",
        "    path = IMAGES_PATH / f\"{fig_id}.{fig_extension}\"\n",
        "    if tight_layout:\n",
        "        plt.tight_layout()\n",
        "    plt.savefig(path, format=fig_extension, dpi=resolution)"
      ],
      "metadata": {
        "id": "Gm-_HON8r9jj"
      },
      "execution_count": 10,
      "outputs": []
    },
    {
      "cell_type": "markdown",
      "source": [
        "Load the data into a pandas dataframe named data_firstname\n",
        "where first name is you name"
      ],
      "metadata": {
        "id": "RYANh_RcsAOL"
      }
    },
    {
      "cell_type": "code",
      "source": [
        "import numpy as np\n",
        "import pandas as pd\n",
        "\n",
        "data_juan = pd.read_csv(\"sample_data/breast_cancer.csv\")\n",
        "\n",
        "print(data_juan)"
      ],
      "metadata": {
        "colab": {
          "base_uri": "https://localhost:8080/"
        },
        "id": "OkfwLB9xsO6t",
        "outputId": "6f56b4f4-899d-46ca-bd2c-69022e3cb8ea"
      },
      "execution_count": 11,
      "outputs": [
        {
          "output_type": "stream",
          "name": "stdout",
          "text": [
            "          ID  thickness  size  shape  Marg  Epith bare  b1  nucleoli  Mitoses  \\\n",
            "0    1000025          5     1      1     1      2    1   3         1        1   \n",
            "1    1002945          5     4      4     5      7   10   3         2        1   \n",
            "2    1015425          3     1      1     1      2    2   3         1        1   \n",
            "3    1016277          6     8      8     1      3    4   3         7        1   \n",
            "4    1017023          4     1      1     3      2    1   3         1        1   \n",
            "..       ...        ...   ...    ...   ...    ...  ...  ..       ...      ...   \n",
            "694   776715          3     1      1     1      3    2   1         1        1   \n",
            "695   841769          2     1      1     1      2    1   1         1        1   \n",
            "696   888820          5    10     10     3      7    3   8        10        2   \n",
            "697   897471          4     8      6     4      3    4  10         6        1   \n",
            "698   897471          4     8      8     5      4    5  10         4        1   \n",
            "\n",
            "     class  \n",
            "0        2  \n",
            "1        2  \n",
            "2        2  \n",
            "3        2  \n",
            "4        2  \n",
            "..     ...  \n",
            "694      2  \n",
            "695      2  \n",
            "696      4  \n",
            "697      4  \n",
            "698      4  \n",
            "\n",
            "[699 rows x 11 columns]\n"
          ]
        }
      ]
    },
    {
      "cell_type": "markdown",
      "source": [
        "### Carryout some initial investigations\n",
        "a.\tCheck the names and types of columns"
      ],
      "metadata": {
        "id": "iXvQrauetMfY"
      }
    },
    {
      "cell_type": "code",
      "source": [
        "data_juan.keys()"
      ],
      "metadata": {
        "colab": {
          "base_uri": "https://localhost:8080/"
        },
        "id": "47ec8X9lsyRD",
        "outputId": "0235e0d2-bcde-4f13-8f96-227311336c5d"
      },
      "execution_count": 12,
      "outputs": [
        {
          "output_type": "execute_result",
          "data": {
            "text/plain": [
              "Index(['ID', 'thickness', 'size', 'shape', 'Marg', 'Epith', 'bare', 'b1',\n",
              "       'nucleoli', 'Mitoses', 'class'],\n",
              "      dtype='object')"
            ]
          },
          "metadata": {},
          "execution_count": 12
        }
      ]
    },
    {
      "cell_type": "code",
      "source": [
        "data_juan.dtypes"
      ],
      "metadata": {
        "colab": {
          "base_uri": "https://localhost:8080/"
        },
        "id": "rXMOleVFtYff",
        "outputId": "0039a141-6f7c-44fc-f5ab-0fca726259e3"
      },
      "execution_count": 13,
      "outputs": [
        {
          "output_type": "execute_result",
          "data": {
            "text/plain": [
              "ID            int64\n",
              "thickness     int64\n",
              "size          int64\n",
              "shape         int64\n",
              "Marg          int64\n",
              "Epith         int64\n",
              "bare         object\n",
              "b1            int64\n",
              "nucleoli      int64\n",
              "Mitoses       int64\n",
              "class         int64\n",
              "dtype: object"
            ]
          },
          "metadata": {},
          "execution_count": 13
        }
      ]
    },
    {
      "cell_type": "markdown",
      "source": [
        " b.\tCheck the missing values"
      ],
      "metadata": {
        "id": "EK7Rm9ThtlOp"
      }
    },
    {
      "cell_type": "code",
      "source": [
        "data_juan.isnull().sum()"
      ],
      "metadata": {
        "colab": {
          "base_uri": "https://localhost:8080/"
        },
        "id": "6oUpkPd6te5k",
        "outputId": "1d4abfa7-999c-459b-a28f-00b4305d5b0b"
      },
      "execution_count": 14,
      "outputs": [
        {
          "output_type": "execute_result",
          "data": {
            "text/plain": [
              "ID           0\n",
              "thickness    0\n",
              "size         0\n",
              "shape        0\n",
              "Marg         0\n",
              "Epith        0\n",
              "bare         0\n",
              "b1           0\n",
              "nucleoli     0\n",
              "Mitoses      0\n",
              "class        0\n",
              "dtype: int64"
            ]
          },
          "metadata": {},
          "execution_count": 14
        }
      ]
    },
    {
      "cell_type": "code",
      "source": [
        "data_juan.info()"
      ],
      "metadata": {
        "colab": {
          "base_uri": "https://localhost:8080/"
        },
        "id": "lcP06rcetqat",
        "outputId": "692b84db-5137-4454-e81c-674b24328e75"
      },
      "execution_count": 15,
      "outputs": [
        {
          "output_type": "stream",
          "name": "stdout",
          "text": [
            "<class 'pandas.core.frame.DataFrame'>\n",
            "RangeIndex: 699 entries, 0 to 698\n",
            "Data columns (total 11 columns):\n",
            " #   Column     Non-Null Count  Dtype \n",
            "---  ------     --------------  ----- \n",
            " 0   ID         699 non-null    int64 \n",
            " 1   thickness  699 non-null    int64 \n",
            " 2   size       699 non-null    int64 \n",
            " 3   shape      699 non-null    int64 \n",
            " 4   Marg       699 non-null    int64 \n",
            " 5   Epith      699 non-null    int64 \n",
            " 6   bare       699 non-null    object\n",
            " 7   b1         699 non-null    int64 \n",
            " 8   nucleoli   699 non-null    int64 \n",
            " 9   Mitoses    699 non-null    int64 \n",
            " 10  class      699 non-null    int64 \n",
            "dtypes: int64(10), object(1)\n",
            "memory usage: 60.2+ KB\n"
          ]
        }
      ]
    },
    {
      "cell_type": "code",
      "source": [
        "data_juan.isnull()"
      ],
      "metadata": {
        "colab": {
          "base_uri": "https://localhost:8080/",
          "height": 423
        },
        "id": "h-Y-PdiRt5MM",
        "outputId": "de5c53b4-9662-46cd-d827-47880b12ad2a"
      },
      "execution_count": 16,
      "outputs": [
        {
          "output_type": "execute_result",
          "data": {
            "text/plain": [
              "        ID  thickness   size  shape   Marg  Epith   bare     b1  nucleoli  \\\n",
              "0    False      False  False  False  False  False  False  False     False   \n",
              "1    False      False  False  False  False  False  False  False     False   \n",
              "2    False      False  False  False  False  False  False  False     False   \n",
              "3    False      False  False  False  False  False  False  False     False   \n",
              "4    False      False  False  False  False  False  False  False     False   \n",
              "..     ...        ...    ...    ...    ...    ...    ...    ...       ...   \n",
              "694  False      False  False  False  False  False  False  False     False   \n",
              "695  False      False  False  False  False  False  False  False     False   \n",
              "696  False      False  False  False  False  False  False  False     False   \n",
              "697  False      False  False  False  False  False  False  False     False   \n",
              "698  False      False  False  False  False  False  False  False     False   \n",
              "\n",
              "     Mitoses  class  \n",
              "0      False  False  \n",
              "1      False  False  \n",
              "2      False  False  \n",
              "3      False  False  \n",
              "4      False  False  \n",
              "..       ...    ...  \n",
              "694    False  False  \n",
              "695    False  False  \n",
              "696    False  False  \n",
              "697    False  False  \n",
              "698    False  False  \n",
              "\n",
              "[699 rows x 11 columns]"
            ],
            "text/html": [
              "\n",
              "  <div id=\"df-77eac54e-1bd8-4063-aeee-1082ca2c26cf\" class=\"colab-df-container\">\n",
              "    <div>\n",
              "<style scoped>\n",
              "    .dataframe tbody tr th:only-of-type {\n",
              "        vertical-align: middle;\n",
              "    }\n",
              "\n",
              "    .dataframe tbody tr th {\n",
              "        vertical-align: top;\n",
              "    }\n",
              "\n",
              "    .dataframe thead th {\n",
              "        text-align: right;\n",
              "    }\n",
              "</style>\n",
              "<table border=\"1\" class=\"dataframe\">\n",
              "  <thead>\n",
              "    <tr style=\"text-align: right;\">\n",
              "      <th></th>\n",
              "      <th>ID</th>\n",
              "      <th>thickness</th>\n",
              "      <th>size</th>\n",
              "      <th>shape</th>\n",
              "      <th>Marg</th>\n",
              "      <th>Epith</th>\n",
              "      <th>bare</th>\n",
              "      <th>b1</th>\n",
              "      <th>nucleoli</th>\n",
              "      <th>Mitoses</th>\n",
              "      <th>class</th>\n",
              "    </tr>\n",
              "  </thead>\n",
              "  <tbody>\n",
              "    <tr>\n",
              "      <th>0</th>\n",
              "      <td>False</td>\n",
              "      <td>False</td>\n",
              "      <td>False</td>\n",
              "      <td>False</td>\n",
              "      <td>False</td>\n",
              "      <td>False</td>\n",
              "      <td>False</td>\n",
              "      <td>False</td>\n",
              "      <td>False</td>\n",
              "      <td>False</td>\n",
              "      <td>False</td>\n",
              "    </tr>\n",
              "    <tr>\n",
              "      <th>1</th>\n",
              "      <td>False</td>\n",
              "      <td>False</td>\n",
              "      <td>False</td>\n",
              "      <td>False</td>\n",
              "      <td>False</td>\n",
              "      <td>False</td>\n",
              "      <td>False</td>\n",
              "      <td>False</td>\n",
              "      <td>False</td>\n",
              "      <td>False</td>\n",
              "      <td>False</td>\n",
              "    </tr>\n",
              "    <tr>\n",
              "      <th>2</th>\n",
              "      <td>False</td>\n",
              "      <td>False</td>\n",
              "      <td>False</td>\n",
              "      <td>False</td>\n",
              "      <td>False</td>\n",
              "      <td>False</td>\n",
              "      <td>False</td>\n",
              "      <td>False</td>\n",
              "      <td>False</td>\n",
              "      <td>False</td>\n",
              "      <td>False</td>\n",
              "    </tr>\n",
              "    <tr>\n",
              "      <th>3</th>\n",
              "      <td>False</td>\n",
              "      <td>False</td>\n",
              "      <td>False</td>\n",
              "      <td>False</td>\n",
              "      <td>False</td>\n",
              "      <td>False</td>\n",
              "      <td>False</td>\n",
              "      <td>False</td>\n",
              "      <td>False</td>\n",
              "      <td>False</td>\n",
              "      <td>False</td>\n",
              "    </tr>\n",
              "    <tr>\n",
              "      <th>4</th>\n",
              "      <td>False</td>\n",
              "      <td>False</td>\n",
              "      <td>False</td>\n",
              "      <td>False</td>\n",
              "      <td>False</td>\n",
              "      <td>False</td>\n",
              "      <td>False</td>\n",
              "      <td>False</td>\n",
              "      <td>False</td>\n",
              "      <td>False</td>\n",
              "      <td>False</td>\n",
              "    </tr>\n",
              "    <tr>\n",
              "      <th>...</th>\n",
              "      <td>...</td>\n",
              "      <td>...</td>\n",
              "      <td>...</td>\n",
              "      <td>...</td>\n",
              "      <td>...</td>\n",
              "      <td>...</td>\n",
              "      <td>...</td>\n",
              "      <td>...</td>\n",
              "      <td>...</td>\n",
              "      <td>...</td>\n",
              "      <td>...</td>\n",
              "    </tr>\n",
              "    <tr>\n",
              "      <th>694</th>\n",
              "      <td>False</td>\n",
              "      <td>False</td>\n",
              "      <td>False</td>\n",
              "      <td>False</td>\n",
              "      <td>False</td>\n",
              "      <td>False</td>\n",
              "      <td>False</td>\n",
              "      <td>False</td>\n",
              "      <td>False</td>\n",
              "      <td>False</td>\n",
              "      <td>False</td>\n",
              "    </tr>\n",
              "    <tr>\n",
              "      <th>695</th>\n",
              "      <td>False</td>\n",
              "      <td>False</td>\n",
              "      <td>False</td>\n",
              "      <td>False</td>\n",
              "      <td>False</td>\n",
              "      <td>False</td>\n",
              "      <td>False</td>\n",
              "      <td>False</td>\n",
              "      <td>False</td>\n",
              "      <td>False</td>\n",
              "      <td>False</td>\n",
              "    </tr>\n",
              "    <tr>\n",
              "      <th>696</th>\n",
              "      <td>False</td>\n",
              "      <td>False</td>\n",
              "      <td>False</td>\n",
              "      <td>False</td>\n",
              "      <td>False</td>\n",
              "      <td>False</td>\n",
              "      <td>False</td>\n",
              "      <td>False</td>\n",
              "      <td>False</td>\n",
              "      <td>False</td>\n",
              "      <td>False</td>\n",
              "    </tr>\n",
              "    <tr>\n",
              "      <th>697</th>\n",
              "      <td>False</td>\n",
              "      <td>False</td>\n",
              "      <td>False</td>\n",
              "      <td>False</td>\n",
              "      <td>False</td>\n",
              "      <td>False</td>\n",
              "      <td>False</td>\n",
              "      <td>False</td>\n",
              "      <td>False</td>\n",
              "      <td>False</td>\n",
              "      <td>False</td>\n",
              "    </tr>\n",
              "    <tr>\n",
              "      <th>698</th>\n",
              "      <td>False</td>\n",
              "      <td>False</td>\n",
              "      <td>False</td>\n",
              "      <td>False</td>\n",
              "      <td>False</td>\n",
              "      <td>False</td>\n",
              "      <td>False</td>\n",
              "      <td>False</td>\n",
              "      <td>False</td>\n",
              "      <td>False</td>\n",
              "      <td>False</td>\n",
              "    </tr>\n",
              "  </tbody>\n",
              "</table>\n",
              "<p>699 rows × 11 columns</p>\n",
              "</div>\n",
              "    <div class=\"colab-df-buttons\">\n",
              "\n",
              "  <div class=\"colab-df-container\">\n",
              "    <button class=\"colab-df-convert\" onclick=\"convertToInteractive('df-77eac54e-1bd8-4063-aeee-1082ca2c26cf')\"\n",
              "            title=\"Convert this dataframe to an interactive table.\"\n",
              "            style=\"display:none;\">\n",
              "\n",
              "  <svg xmlns=\"http://www.w3.org/2000/svg\" height=\"24px\" viewBox=\"0 -960 960 960\">\n",
              "    <path d=\"M120-120v-720h720v720H120Zm60-500h600v-160H180v160Zm220 220h160v-160H400v160Zm0 220h160v-160H400v160ZM180-400h160v-160H180v160Zm440 0h160v-160H620v160ZM180-180h160v-160H180v160Zm440 0h160v-160H620v160Z\"/>\n",
              "  </svg>\n",
              "    </button>\n",
              "\n",
              "  <style>\n",
              "    .colab-df-container {\n",
              "      display:flex;\n",
              "      gap: 12px;\n",
              "    }\n",
              "\n",
              "    .colab-df-convert {\n",
              "      background-color: #E8F0FE;\n",
              "      border: none;\n",
              "      border-radius: 50%;\n",
              "      cursor: pointer;\n",
              "      display: none;\n",
              "      fill: #1967D2;\n",
              "      height: 32px;\n",
              "      padding: 0 0 0 0;\n",
              "      width: 32px;\n",
              "    }\n",
              "\n",
              "    .colab-df-convert:hover {\n",
              "      background-color: #E2EBFA;\n",
              "      box-shadow: 0px 1px 2px rgba(60, 64, 67, 0.3), 0px 1px 3px 1px rgba(60, 64, 67, 0.15);\n",
              "      fill: #174EA6;\n",
              "    }\n",
              "\n",
              "    .colab-df-buttons div {\n",
              "      margin-bottom: 4px;\n",
              "    }\n",
              "\n",
              "    [theme=dark] .colab-df-convert {\n",
              "      background-color: #3B4455;\n",
              "      fill: #D2E3FC;\n",
              "    }\n",
              "\n",
              "    [theme=dark] .colab-df-convert:hover {\n",
              "      background-color: #434B5C;\n",
              "      box-shadow: 0px 1px 3px 1px rgba(0, 0, 0, 0.15);\n",
              "      filter: drop-shadow(0px 1px 2px rgba(0, 0, 0, 0.3));\n",
              "      fill: #FFFFFF;\n",
              "    }\n",
              "  </style>\n",
              "\n",
              "    <script>\n",
              "      const buttonEl =\n",
              "        document.querySelector('#df-77eac54e-1bd8-4063-aeee-1082ca2c26cf button.colab-df-convert');\n",
              "      buttonEl.style.display =\n",
              "        google.colab.kernel.accessAllowed ? 'block' : 'none';\n",
              "\n",
              "      async function convertToInteractive(key) {\n",
              "        const element = document.querySelector('#df-77eac54e-1bd8-4063-aeee-1082ca2c26cf');\n",
              "        const dataTable =\n",
              "          await google.colab.kernel.invokeFunction('convertToInteractive',\n",
              "                                                    [key], {});\n",
              "        if (!dataTable) return;\n",
              "\n",
              "        const docLinkHtml = 'Like what you see? Visit the ' +\n",
              "          '<a target=\"_blank\" href=https://colab.research.google.com/notebooks/data_table.ipynb>data table notebook</a>'\n",
              "          + ' to learn more about interactive tables.';\n",
              "        element.innerHTML = '';\n",
              "        dataTable['output_type'] = 'display_data';\n",
              "        await google.colab.output.renderOutput(dataTable, element);\n",
              "        const docLink = document.createElement('div');\n",
              "        docLink.innerHTML = docLinkHtml;\n",
              "        element.appendChild(docLink);\n",
              "      }\n",
              "    </script>\n",
              "  </div>\n",
              "\n",
              "\n",
              "<div id=\"df-c7d60497-f69b-4d8d-be93-587dde67f383\">\n",
              "  <button class=\"colab-df-quickchart\" onclick=\"quickchart('df-c7d60497-f69b-4d8d-be93-587dde67f383')\"\n",
              "            title=\"Suggest charts\"\n",
              "            style=\"display:none;\">\n",
              "\n",
              "<svg xmlns=\"http://www.w3.org/2000/svg\" height=\"24px\"viewBox=\"0 0 24 24\"\n",
              "     width=\"24px\">\n",
              "    <g>\n",
              "        <path d=\"M19 3H5c-1.1 0-2 .9-2 2v14c0 1.1.9 2 2 2h14c1.1 0 2-.9 2-2V5c0-1.1-.9-2-2-2zM9 17H7v-7h2v7zm4 0h-2V7h2v10zm4 0h-2v-4h2v4z\"/>\n",
              "    </g>\n",
              "</svg>\n",
              "  </button>\n",
              "\n",
              "<style>\n",
              "  .colab-df-quickchart {\n",
              "      --bg-color: #E8F0FE;\n",
              "      --fill-color: #1967D2;\n",
              "      --hover-bg-color: #E2EBFA;\n",
              "      --hover-fill-color: #174EA6;\n",
              "      --disabled-fill-color: #AAA;\n",
              "      --disabled-bg-color: #DDD;\n",
              "  }\n",
              "\n",
              "  [theme=dark] .colab-df-quickchart {\n",
              "      --bg-color: #3B4455;\n",
              "      --fill-color: #D2E3FC;\n",
              "      --hover-bg-color: #434B5C;\n",
              "      --hover-fill-color: #FFFFFF;\n",
              "      --disabled-bg-color: #3B4455;\n",
              "      --disabled-fill-color: #666;\n",
              "  }\n",
              "\n",
              "  .colab-df-quickchart {\n",
              "    background-color: var(--bg-color);\n",
              "    border: none;\n",
              "    border-radius: 50%;\n",
              "    cursor: pointer;\n",
              "    display: none;\n",
              "    fill: var(--fill-color);\n",
              "    height: 32px;\n",
              "    padding: 0;\n",
              "    width: 32px;\n",
              "  }\n",
              "\n",
              "  .colab-df-quickchart:hover {\n",
              "    background-color: var(--hover-bg-color);\n",
              "    box-shadow: 0 1px 2px rgba(60, 64, 67, 0.3), 0 1px 3px 1px rgba(60, 64, 67, 0.15);\n",
              "    fill: var(--button-hover-fill-color);\n",
              "  }\n",
              "\n",
              "  .colab-df-quickchart-complete:disabled,\n",
              "  .colab-df-quickchart-complete:disabled:hover {\n",
              "    background-color: var(--disabled-bg-color);\n",
              "    fill: var(--disabled-fill-color);\n",
              "    box-shadow: none;\n",
              "  }\n",
              "\n",
              "  .colab-df-spinner {\n",
              "    border: 2px solid var(--fill-color);\n",
              "    border-color: transparent;\n",
              "    border-bottom-color: var(--fill-color);\n",
              "    animation:\n",
              "      spin 1s steps(1) infinite;\n",
              "  }\n",
              "\n",
              "  @keyframes spin {\n",
              "    0% {\n",
              "      border-color: transparent;\n",
              "      border-bottom-color: var(--fill-color);\n",
              "      border-left-color: var(--fill-color);\n",
              "    }\n",
              "    20% {\n",
              "      border-color: transparent;\n",
              "      border-left-color: var(--fill-color);\n",
              "      border-top-color: var(--fill-color);\n",
              "    }\n",
              "    30% {\n",
              "      border-color: transparent;\n",
              "      border-left-color: var(--fill-color);\n",
              "      border-top-color: var(--fill-color);\n",
              "      border-right-color: var(--fill-color);\n",
              "    }\n",
              "    40% {\n",
              "      border-color: transparent;\n",
              "      border-right-color: var(--fill-color);\n",
              "      border-top-color: var(--fill-color);\n",
              "    }\n",
              "    60% {\n",
              "      border-color: transparent;\n",
              "      border-right-color: var(--fill-color);\n",
              "    }\n",
              "    80% {\n",
              "      border-color: transparent;\n",
              "      border-right-color: var(--fill-color);\n",
              "      border-bottom-color: var(--fill-color);\n",
              "    }\n",
              "    90% {\n",
              "      border-color: transparent;\n",
              "      border-bottom-color: var(--fill-color);\n",
              "    }\n",
              "  }\n",
              "</style>\n",
              "\n",
              "  <script>\n",
              "    async function quickchart(key) {\n",
              "      const quickchartButtonEl =\n",
              "        document.querySelector('#' + key + ' button');\n",
              "      quickchartButtonEl.disabled = true;  // To prevent multiple clicks.\n",
              "      quickchartButtonEl.classList.add('colab-df-spinner');\n",
              "      try {\n",
              "        const charts = await google.colab.kernel.invokeFunction(\n",
              "            'suggestCharts', [key], {});\n",
              "      } catch (error) {\n",
              "        console.error('Error during call to suggestCharts:', error);\n",
              "      }\n",
              "      quickchartButtonEl.classList.remove('colab-df-spinner');\n",
              "      quickchartButtonEl.classList.add('colab-df-quickchart-complete');\n",
              "    }\n",
              "    (() => {\n",
              "      let quickchartButtonEl =\n",
              "        document.querySelector('#df-c7d60497-f69b-4d8d-be93-587dde67f383 button');\n",
              "      quickchartButtonEl.style.display =\n",
              "        google.colab.kernel.accessAllowed ? 'block' : 'none';\n",
              "    })();\n",
              "  </script>\n",
              "</div>\n",
              "\n",
              "    </div>\n",
              "  </div>\n"
            ],
            "application/vnd.google.colaboratory.intrinsic+json": {
              "type": "dataframe",
              "summary": "{\n  \"name\": \"data_juan\",\n  \"rows\": 699,\n  \"fields\": [\n    {\n      \"column\": \"ID\",\n      \"properties\": {\n        \"dtype\": \"boolean\",\n        \"num_unique_values\": 1,\n        \"samples\": [\n          false\n        ],\n        \"semantic_type\": \"\",\n        \"description\": \"\"\n      }\n    },\n    {\n      \"column\": \"thickness\",\n      \"properties\": {\n        \"dtype\": \"boolean\",\n        \"num_unique_values\": 1,\n        \"samples\": [\n          false\n        ],\n        \"semantic_type\": \"\",\n        \"description\": \"\"\n      }\n    },\n    {\n      \"column\": \"size\",\n      \"properties\": {\n        \"dtype\": \"boolean\",\n        \"num_unique_values\": 1,\n        \"samples\": [\n          false\n        ],\n        \"semantic_type\": \"\",\n        \"description\": \"\"\n      }\n    },\n    {\n      \"column\": \"shape\",\n      \"properties\": {\n        \"dtype\": \"boolean\",\n        \"num_unique_values\": 1,\n        \"samples\": [\n          false\n        ],\n        \"semantic_type\": \"\",\n        \"description\": \"\"\n      }\n    },\n    {\n      \"column\": \"Marg\",\n      \"properties\": {\n        \"dtype\": \"boolean\",\n        \"num_unique_values\": 1,\n        \"samples\": [\n          false\n        ],\n        \"semantic_type\": \"\",\n        \"description\": \"\"\n      }\n    },\n    {\n      \"column\": \"Epith\",\n      \"properties\": {\n        \"dtype\": \"boolean\",\n        \"num_unique_values\": 1,\n        \"samples\": [\n          false\n        ],\n        \"semantic_type\": \"\",\n        \"description\": \"\"\n      }\n    },\n    {\n      \"column\": \"bare\",\n      \"properties\": {\n        \"dtype\": \"boolean\",\n        \"num_unique_values\": 1,\n        \"samples\": [\n          false\n        ],\n        \"semantic_type\": \"\",\n        \"description\": \"\"\n      }\n    },\n    {\n      \"column\": \"b1\",\n      \"properties\": {\n        \"dtype\": \"boolean\",\n        \"num_unique_values\": 1,\n        \"samples\": [\n          false\n        ],\n        \"semantic_type\": \"\",\n        \"description\": \"\"\n      }\n    },\n    {\n      \"column\": \"nucleoli\",\n      \"properties\": {\n        \"dtype\": \"boolean\",\n        \"num_unique_values\": 1,\n        \"samples\": [\n          false\n        ],\n        \"semantic_type\": \"\",\n        \"description\": \"\"\n      }\n    },\n    {\n      \"column\": \"Mitoses\",\n      \"properties\": {\n        \"dtype\": \"boolean\",\n        \"num_unique_values\": 1,\n        \"samples\": [\n          false\n        ],\n        \"semantic_type\": \"\",\n        \"description\": \"\"\n      }\n    },\n    {\n      \"column\": \"class\",\n      \"properties\": {\n        \"dtype\": \"boolean\",\n        \"num_unique_values\": 1,\n        \"samples\": [\n          false\n        ],\n        \"semantic_type\": \"\",\n        \"description\": \"\"\n      }\n    }\n  ]\n}"
            }
          },
          "metadata": {},
          "execution_count": 16
        }
      ]
    },
    {
      "cell_type": "code",
      "source": [
        "data_juan.shape"
      ],
      "metadata": {
        "colab": {
          "base_uri": "https://localhost:8080/"
        },
        "id": "rlofJAdduGFp",
        "outputId": "67e3933d-34ca-482b-9f1a-35a9383baedd"
      },
      "execution_count": 17,
      "outputs": [
        {
          "output_type": "execute_result",
          "data": {
            "text/plain": [
              "(699, 11)"
            ]
          },
          "metadata": {},
          "execution_count": 17
        }
      ]
    },
    {
      "cell_type": "markdown",
      "source": [
        "c.\tCheck the statistics of the numeric fields (mean, min, max, median,\n",
        "                                                   count..etc.)\""
      ],
      "metadata": {
        "id": "8G1BrtMCuWZm"
      }
    },
    {
      "cell_type": "code",
      "source": [
        "data_juan.describe().T"
      ],
      "metadata": {
        "colab": {
          "base_uri": "https://localhost:8080/",
          "height": 363
        },
        "id": "n-DKteFpuTYe",
        "outputId": "487f7d3b-a852-432d-f716-8ff03211c528"
      },
      "execution_count": 18,
      "outputs": [
        {
          "output_type": "execute_result",
          "data": {
            "text/plain": [
              "           count          mean            std      min       25%        50%  \\\n",
              "ID         699.0  1.071704e+06  617095.729819  61634.0  870688.5  1171710.0   \n",
              "thickness  699.0  4.417740e+00       2.815741      1.0       2.0        4.0   \n",
              "size       699.0  3.134478e+00       3.051459      1.0       1.0        1.0   \n",
              "shape      699.0  3.207439e+00       2.971913      1.0       1.0        1.0   \n",
              "Marg       699.0  2.806867e+00       2.855379      1.0       1.0        1.0   \n",
              "Epith      699.0  3.216023e+00       2.214300      1.0       2.0        2.0   \n",
              "b1         699.0  3.437768e+00       2.438364      1.0       2.0        3.0   \n",
              "nucleoli   699.0  2.866953e+00       3.053634      1.0       1.0        1.0   \n",
              "Mitoses    699.0  1.589413e+00       1.715078      1.0       1.0        1.0   \n",
              "class      699.0  2.689557e+00       0.951273      2.0       2.0        2.0   \n",
              "\n",
              "                 75%         max  \n",
              "ID         1238298.0  13454352.0  \n",
              "thickness        6.0        10.0  \n",
              "size             5.0        10.0  \n",
              "shape            5.0        10.0  \n",
              "Marg             4.0        10.0  \n",
              "Epith            4.0        10.0  \n",
              "b1               5.0        10.0  \n",
              "nucleoli         4.0        10.0  \n",
              "Mitoses          1.0        10.0  \n",
              "class            4.0         4.0  "
            ],
            "text/html": [
              "\n",
              "  <div id=\"df-1932bb65-66e8-45c3-a7ad-4bbba717efb7\" class=\"colab-df-container\">\n",
              "    <div>\n",
              "<style scoped>\n",
              "    .dataframe tbody tr th:only-of-type {\n",
              "        vertical-align: middle;\n",
              "    }\n",
              "\n",
              "    .dataframe tbody tr th {\n",
              "        vertical-align: top;\n",
              "    }\n",
              "\n",
              "    .dataframe thead th {\n",
              "        text-align: right;\n",
              "    }\n",
              "</style>\n",
              "<table border=\"1\" class=\"dataframe\">\n",
              "  <thead>\n",
              "    <tr style=\"text-align: right;\">\n",
              "      <th></th>\n",
              "      <th>count</th>\n",
              "      <th>mean</th>\n",
              "      <th>std</th>\n",
              "      <th>min</th>\n",
              "      <th>25%</th>\n",
              "      <th>50%</th>\n",
              "      <th>75%</th>\n",
              "      <th>max</th>\n",
              "    </tr>\n",
              "  </thead>\n",
              "  <tbody>\n",
              "    <tr>\n",
              "      <th>ID</th>\n",
              "      <td>699.0</td>\n",
              "      <td>1.071704e+06</td>\n",
              "      <td>617095.729819</td>\n",
              "      <td>61634.0</td>\n",
              "      <td>870688.5</td>\n",
              "      <td>1171710.0</td>\n",
              "      <td>1238298.0</td>\n",
              "      <td>13454352.0</td>\n",
              "    </tr>\n",
              "    <tr>\n",
              "      <th>thickness</th>\n",
              "      <td>699.0</td>\n",
              "      <td>4.417740e+00</td>\n",
              "      <td>2.815741</td>\n",
              "      <td>1.0</td>\n",
              "      <td>2.0</td>\n",
              "      <td>4.0</td>\n",
              "      <td>6.0</td>\n",
              "      <td>10.0</td>\n",
              "    </tr>\n",
              "    <tr>\n",
              "      <th>size</th>\n",
              "      <td>699.0</td>\n",
              "      <td>3.134478e+00</td>\n",
              "      <td>3.051459</td>\n",
              "      <td>1.0</td>\n",
              "      <td>1.0</td>\n",
              "      <td>1.0</td>\n",
              "      <td>5.0</td>\n",
              "      <td>10.0</td>\n",
              "    </tr>\n",
              "    <tr>\n",
              "      <th>shape</th>\n",
              "      <td>699.0</td>\n",
              "      <td>3.207439e+00</td>\n",
              "      <td>2.971913</td>\n",
              "      <td>1.0</td>\n",
              "      <td>1.0</td>\n",
              "      <td>1.0</td>\n",
              "      <td>5.0</td>\n",
              "      <td>10.0</td>\n",
              "    </tr>\n",
              "    <tr>\n",
              "      <th>Marg</th>\n",
              "      <td>699.0</td>\n",
              "      <td>2.806867e+00</td>\n",
              "      <td>2.855379</td>\n",
              "      <td>1.0</td>\n",
              "      <td>1.0</td>\n",
              "      <td>1.0</td>\n",
              "      <td>4.0</td>\n",
              "      <td>10.0</td>\n",
              "    </tr>\n",
              "    <tr>\n",
              "      <th>Epith</th>\n",
              "      <td>699.0</td>\n",
              "      <td>3.216023e+00</td>\n",
              "      <td>2.214300</td>\n",
              "      <td>1.0</td>\n",
              "      <td>2.0</td>\n",
              "      <td>2.0</td>\n",
              "      <td>4.0</td>\n",
              "      <td>10.0</td>\n",
              "    </tr>\n",
              "    <tr>\n",
              "      <th>b1</th>\n",
              "      <td>699.0</td>\n",
              "      <td>3.437768e+00</td>\n",
              "      <td>2.438364</td>\n",
              "      <td>1.0</td>\n",
              "      <td>2.0</td>\n",
              "      <td>3.0</td>\n",
              "      <td>5.0</td>\n",
              "      <td>10.0</td>\n",
              "    </tr>\n",
              "    <tr>\n",
              "      <th>nucleoli</th>\n",
              "      <td>699.0</td>\n",
              "      <td>2.866953e+00</td>\n",
              "      <td>3.053634</td>\n",
              "      <td>1.0</td>\n",
              "      <td>1.0</td>\n",
              "      <td>1.0</td>\n",
              "      <td>4.0</td>\n",
              "      <td>10.0</td>\n",
              "    </tr>\n",
              "    <tr>\n",
              "      <th>Mitoses</th>\n",
              "      <td>699.0</td>\n",
              "      <td>1.589413e+00</td>\n",
              "      <td>1.715078</td>\n",
              "      <td>1.0</td>\n",
              "      <td>1.0</td>\n",
              "      <td>1.0</td>\n",
              "      <td>1.0</td>\n",
              "      <td>10.0</td>\n",
              "    </tr>\n",
              "    <tr>\n",
              "      <th>class</th>\n",
              "      <td>699.0</td>\n",
              "      <td>2.689557e+00</td>\n",
              "      <td>0.951273</td>\n",
              "      <td>2.0</td>\n",
              "      <td>2.0</td>\n",
              "      <td>2.0</td>\n",
              "      <td>4.0</td>\n",
              "      <td>4.0</td>\n",
              "    </tr>\n",
              "  </tbody>\n",
              "</table>\n",
              "</div>\n",
              "    <div class=\"colab-df-buttons\">\n",
              "\n",
              "  <div class=\"colab-df-container\">\n",
              "    <button class=\"colab-df-convert\" onclick=\"convertToInteractive('df-1932bb65-66e8-45c3-a7ad-4bbba717efb7')\"\n",
              "            title=\"Convert this dataframe to an interactive table.\"\n",
              "            style=\"display:none;\">\n",
              "\n",
              "  <svg xmlns=\"http://www.w3.org/2000/svg\" height=\"24px\" viewBox=\"0 -960 960 960\">\n",
              "    <path d=\"M120-120v-720h720v720H120Zm60-500h600v-160H180v160Zm220 220h160v-160H400v160Zm0 220h160v-160H400v160ZM180-400h160v-160H180v160Zm440 0h160v-160H620v160ZM180-180h160v-160H180v160Zm440 0h160v-160H620v160Z\"/>\n",
              "  </svg>\n",
              "    </button>\n",
              "\n",
              "  <style>\n",
              "    .colab-df-container {\n",
              "      display:flex;\n",
              "      gap: 12px;\n",
              "    }\n",
              "\n",
              "    .colab-df-convert {\n",
              "      background-color: #E8F0FE;\n",
              "      border: none;\n",
              "      border-radius: 50%;\n",
              "      cursor: pointer;\n",
              "      display: none;\n",
              "      fill: #1967D2;\n",
              "      height: 32px;\n",
              "      padding: 0 0 0 0;\n",
              "      width: 32px;\n",
              "    }\n",
              "\n",
              "    .colab-df-convert:hover {\n",
              "      background-color: #E2EBFA;\n",
              "      box-shadow: 0px 1px 2px rgba(60, 64, 67, 0.3), 0px 1px 3px 1px rgba(60, 64, 67, 0.15);\n",
              "      fill: #174EA6;\n",
              "    }\n",
              "\n",
              "    .colab-df-buttons div {\n",
              "      margin-bottom: 4px;\n",
              "    }\n",
              "\n",
              "    [theme=dark] .colab-df-convert {\n",
              "      background-color: #3B4455;\n",
              "      fill: #D2E3FC;\n",
              "    }\n",
              "\n",
              "    [theme=dark] .colab-df-convert:hover {\n",
              "      background-color: #434B5C;\n",
              "      box-shadow: 0px 1px 3px 1px rgba(0, 0, 0, 0.15);\n",
              "      filter: drop-shadow(0px 1px 2px rgba(0, 0, 0, 0.3));\n",
              "      fill: #FFFFFF;\n",
              "    }\n",
              "  </style>\n",
              "\n",
              "    <script>\n",
              "      const buttonEl =\n",
              "        document.querySelector('#df-1932bb65-66e8-45c3-a7ad-4bbba717efb7 button.colab-df-convert');\n",
              "      buttonEl.style.display =\n",
              "        google.colab.kernel.accessAllowed ? 'block' : 'none';\n",
              "\n",
              "      async function convertToInteractive(key) {\n",
              "        const element = document.querySelector('#df-1932bb65-66e8-45c3-a7ad-4bbba717efb7');\n",
              "        const dataTable =\n",
              "          await google.colab.kernel.invokeFunction('convertToInteractive',\n",
              "                                                    [key], {});\n",
              "        if (!dataTable) return;\n",
              "\n",
              "        const docLinkHtml = 'Like what you see? Visit the ' +\n",
              "          '<a target=\"_blank\" href=https://colab.research.google.com/notebooks/data_table.ipynb>data table notebook</a>'\n",
              "          + ' to learn more about interactive tables.';\n",
              "        element.innerHTML = '';\n",
              "        dataTable['output_type'] = 'display_data';\n",
              "        await google.colab.output.renderOutput(dataTable, element);\n",
              "        const docLink = document.createElement('div');\n",
              "        docLink.innerHTML = docLinkHtml;\n",
              "        element.appendChild(docLink);\n",
              "      }\n",
              "    </script>\n",
              "  </div>\n",
              "\n",
              "\n",
              "<div id=\"df-6642a822-604f-41f8-9a57-6391eb28c8ce\">\n",
              "  <button class=\"colab-df-quickchart\" onclick=\"quickchart('df-6642a822-604f-41f8-9a57-6391eb28c8ce')\"\n",
              "            title=\"Suggest charts\"\n",
              "            style=\"display:none;\">\n",
              "\n",
              "<svg xmlns=\"http://www.w3.org/2000/svg\" height=\"24px\"viewBox=\"0 0 24 24\"\n",
              "     width=\"24px\">\n",
              "    <g>\n",
              "        <path d=\"M19 3H5c-1.1 0-2 .9-2 2v14c0 1.1.9 2 2 2h14c1.1 0 2-.9 2-2V5c0-1.1-.9-2-2-2zM9 17H7v-7h2v7zm4 0h-2V7h2v10zm4 0h-2v-4h2v4z\"/>\n",
              "    </g>\n",
              "</svg>\n",
              "  </button>\n",
              "\n",
              "<style>\n",
              "  .colab-df-quickchart {\n",
              "      --bg-color: #E8F0FE;\n",
              "      --fill-color: #1967D2;\n",
              "      --hover-bg-color: #E2EBFA;\n",
              "      --hover-fill-color: #174EA6;\n",
              "      --disabled-fill-color: #AAA;\n",
              "      --disabled-bg-color: #DDD;\n",
              "  }\n",
              "\n",
              "  [theme=dark] .colab-df-quickchart {\n",
              "      --bg-color: #3B4455;\n",
              "      --fill-color: #D2E3FC;\n",
              "      --hover-bg-color: #434B5C;\n",
              "      --hover-fill-color: #FFFFFF;\n",
              "      --disabled-bg-color: #3B4455;\n",
              "      --disabled-fill-color: #666;\n",
              "  }\n",
              "\n",
              "  .colab-df-quickchart {\n",
              "    background-color: var(--bg-color);\n",
              "    border: none;\n",
              "    border-radius: 50%;\n",
              "    cursor: pointer;\n",
              "    display: none;\n",
              "    fill: var(--fill-color);\n",
              "    height: 32px;\n",
              "    padding: 0;\n",
              "    width: 32px;\n",
              "  }\n",
              "\n",
              "  .colab-df-quickchart:hover {\n",
              "    background-color: var(--hover-bg-color);\n",
              "    box-shadow: 0 1px 2px rgba(60, 64, 67, 0.3), 0 1px 3px 1px rgba(60, 64, 67, 0.15);\n",
              "    fill: var(--button-hover-fill-color);\n",
              "  }\n",
              "\n",
              "  .colab-df-quickchart-complete:disabled,\n",
              "  .colab-df-quickchart-complete:disabled:hover {\n",
              "    background-color: var(--disabled-bg-color);\n",
              "    fill: var(--disabled-fill-color);\n",
              "    box-shadow: none;\n",
              "  }\n",
              "\n",
              "  .colab-df-spinner {\n",
              "    border: 2px solid var(--fill-color);\n",
              "    border-color: transparent;\n",
              "    border-bottom-color: var(--fill-color);\n",
              "    animation:\n",
              "      spin 1s steps(1) infinite;\n",
              "  }\n",
              "\n",
              "  @keyframes spin {\n",
              "    0% {\n",
              "      border-color: transparent;\n",
              "      border-bottom-color: var(--fill-color);\n",
              "      border-left-color: var(--fill-color);\n",
              "    }\n",
              "    20% {\n",
              "      border-color: transparent;\n",
              "      border-left-color: var(--fill-color);\n",
              "      border-top-color: var(--fill-color);\n",
              "    }\n",
              "    30% {\n",
              "      border-color: transparent;\n",
              "      border-left-color: var(--fill-color);\n",
              "      border-top-color: var(--fill-color);\n",
              "      border-right-color: var(--fill-color);\n",
              "    }\n",
              "    40% {\n",
              "      border-color: transparent;\n",
              "      border-right-color: var(--fill-color);\n",
              "      border-top-color: var(--fill-color);\n",
              "    }\n",
              "    60% {\n",
              "      border-color: transparent;\n",
              "      border-right-color: var(--fill-color);\n",
              "    }\n",
              "    80% {\n",
              "      border-color: transparent;\n",
              "      border-right-color: var(--fill-color);\n",
              "      border-bottom-color: var(--fill-color);\n",
              "    }\n",
              "    90% {\n",
              "      border-color: transparent;\n",
              "      border-bottom-color: var(--fill-color);\n",
              "    }\n",
              "  }\n",
              "</style>\n",
              "\n",
              "  <script>\n",
              "    async function quickchart(key) {\n",
              "      const quickchartButtonEl =\n",
              "        document.querySelector('#' + key + ' button');\n",
              "      quickchartButtonEl.disabled = true;  // To prevent multiple clicks.\n",
              "      quickchartButtonEl.classList.add('colab-df-spinner');\n",
              "      try {\n",
              "        const charts = await google.colab.kernel.invokeFunction(\n",
              "            'suggestCharts', [key], {});\n",
              "      } catch (error) {\n",
              "        console.error('Error during call to suggestCharts:', error);\n",
              "      }\n",
              "      quickchartButtonEl.classList.remove('colab-df-spinner');\n",
              "      quickchartButtonEl.classList.add('colab-df-quickchart-complete');\n",
              "    }\n",
              "    (() => {\n",
              "      let quickchartButtonEl =\n",
              "        document.querySelector('#df-6642a822-604f-41f8-9a57-6391eb28c8ce button');\n",
              "      quickchartButtonEl.style.display =\n",
              "        google.colab.kernel.accessAllowed ? 'block' : 'none';\n",
              "    })();\n",
              "  </script>\n",
              "</div>\n",
              "\n",
              "    </div>\n",
              "  </div>\n"
            ],
            "application/vnd.google.colaboratory.intrinsic+json": {
              "type": "dataframe",
              "summary": "{\n  \"name\": \"data_juan\",\n  \"rows\": 10,\n  \"fields\": [\n    {\n      \"column\": \"count\",\n      \"properties\": {\n        \"dtype\": \"number\",\n        \"std\": 0.0,\n        \"min\": 699.0,\n        \"max\": 699.0,\n        \"num_unique_values\": 1,\n        \"samples\": [\n          699.0\n        ],\n        \"semantic_type\": \"\",\n        \"description\": \"\"\n      }\n    },\n    {\n      \"column\": \"mean\",\n      \"properties\": {\n        \"dtype\": \"number\",\n        \"std\": 338901.63141608133,\n        \"min\": 1.5894134477825466,\n        \"max\": 1071704.0987124464,\n        \"num_unique_values\": 10,\n        \"samples\": [\n          1.5894134477825466\n        ],\n        \"semantic_type\": \"\",\n        \"description\": \"\"\n      }\n    },\n    {\n      \"column\": \"std\",\n      \"properties\": {\n        \"dtype\": \"number\",\n        \"std\": 195142.02870017334,\n        \"min\": 0.9512725322121832,\n        \"max\": 617095.7298192448,\n        \"num_unique_values\": 10,\n        \"samples\": [\n          1.7150779425067944\n        ],\n        \"semantic_type\": \"\",\n        \"description\": \"\"\n      }\n    },\n    {\n      \"column\": \"min\",\n      \"properties\": {\n        \"dtype\": \"number\",\n        \"std\": 19490.03076903107,\n        \"min\": 1.0,\n        \"max\": 61634.0,\n        \"num_unique_values\": 3,\n        \"samples\": [\n          61634.0\n        ],\n        \"semantic_type\": \"\",\n        \"description\": \"\"\n      }\n    },\n    {\n      \"column\": \"25%\",\n      \"properties\": {\n        \"dtype\": \"number\",\n        \"std\": 275335.4224785601,\n        \"min\": 1.0,\n        \"max\": 870688.5,\n        \"num_unique_values\": 3,\n        \"samples\": [\n          870688.5\n        ],\n        \"semantic_type\": \"\",\n        \"description\": \"\"\n      }\n    },\n    {\n      \"column\": \"50%\",\n      \"properties\": {\n        \"dtype\": \"number\",\n        \"std\": 370526.67353832675,\n        \"min\": 1.0,\n        \"max\": 1171710.0,\n        \"num_unique_values\": 5,\n        \"samples\": [\n          4.0\n        ],\n        \"semantic_type\": \"\",\n        \"description\": \"\"\n      }\n    },\n    {\n      \"column\": \"75%\",\n      \"properties\": {\n        \"dtype\": \"number\",\n        \"std\": 391582.8750214243,\n        \"min\": 1.0,\n        \"max\": 1238298.0,\n        \"num_unique_values\": 5,\n        \"samples\": [\n          6.0\n        ],\n        \"semantic_type\": \"\",\n        \"description\": \"\"\n      }\n    },\n    {\n      \"column\": \"max\",\n      \"properties\": {\n        \"dtype\": \"number\",\n        \"std\": 4254636.724705444,\n        \"min\": 4.0,\n        \"max\": 13454352.0,\n        \"num_unique_values\": 3,\n        \"samples\": [\n          13454352.0\n        ],\n        \"semantic_type\": \"\",\n        \"description\": \"\"\n      }\n    }\n  ]\n}"
            }
          },
          "metadata": {},
          "execution_count": 18
        }
      ]
    },
    {
      "cell_type": "code",
      "source": [
        "data_juan.to_string()"
      ],
      "metadata": {
        "colab": {
          "base_uri": "https://localhost:8080/",
          "height": 124
        },
        "id": "VXtjXZEQuP6H",
        "outputId": "e1b055fe-095c-423a-e997-7feed0a74054"
      },
      "execution_count": 19,
      "outputs": [
        {
          "output_type": "execute_result",
          "data": {
            "text/plain": [
              "'           ID  thickness  size  shape  Marg  Epith bare  b1  nucleoli  Mitoses  class\\n0     1000025          5     1      1     1      2    1   3         1        1      2\\n1     1002945          5     4      4     5      7   10   3         2        1      2\\n2     1015425          3     1      1     1      2    2   3         1        1      2\\n3     1016277          6     8      8     1      3    4   3         7        1      2\\n4     1017023          4     1      1     3      2    1   3         1        1      2\\n5     1017122          8    10     10     8      7   10   9         7        1      4\\n6     1018099          1     1      1     1      2   10   3         1        1      2\\n7     1018561          2     1      2     1      2    1   3         1        1      2\\n8     1033078          2     1      1     1      2    1   1         1        5      2\\n9     1033078          4     2      1     1      2    1   2         1        1      2\\n10    1035283          1     1      1     1      1    1   3         1        1      2\\n11    1036172          2     1      1     1      2    1   2         1        1      2\\n12    1041801          5     3      3     3      2    3   4         4        1      4\\n13    1043999          1     1      1     1      2    3   3         1        1      2\\n14    1044572          8     7      5    10      7    9   5         5        4      4\\n15    1047630          7     4      6     4      6    1   4         3        1      4\\n16    1048672          4     1      1     1      2    1   2         1        1      2\\n17    1049815          4     1      1     1      2    1   3         1        1      2\\n18    1050670         10     7      7     6      4   10   4         1        2      4\\n19    1050718          6     1      1     1      2    1   3         1        1      2\\n20    1054590          7     3      2    10      5   10   5         4        4      4\\n21    1054593         10     5      5     3      6    7   7        10        1      4\\n22    1056784          3     1      1     1      2    1   2         1        1      2\\n23    1057013          8     4      5     1      2    ?   7         3        1      4\\n24    1059552          1     1      1     1      2    1   3         1        1      2\\n25    1065726          5     2      3     4      2    7   3         6        1      4\\n26    1066373          3     2      1     1      1    1   2         1        1      2\\n27    1066979          5     1      1     1      2    1   2         1        1      2\\n28    1067444          2     1      1     1      2    1   2         1        1      2\\n29    1070935          1     1      3     1      2    1   1         1        1      2\\n30    1070935          3     1      1     1      1    1   2         1        1      2\\n31    1071760          2     1      1     1      2    1   3         1        1      2\\n32    1072179         10     7      7     3      8    5   7         4        3      4\\n33    1074610          2     1      1     2      2    1   3         1        1      2\\n34    1075123          3     1      2     1      2    1   2         1        1      2\\n35    1079304          2     1      1     1      2    1   2         1        1      2\\n36    1080185         10    10     10     8      6    1   8         9        1      4\\n37    1081791          6     2      1     1      1    1   7         1        1      2\\n38    1084584          5     4      4     9      2   10   5         6        1      4\\n39    1091262          2     5      3     3      6    7   7         5        1      4\\n40    1096800          6     6      6     9      6    ?   7         8        1      2\\n41    1099510         10     4      3     1      3    3   6         5        2      4\\n42    1100524          6    10     10     2      8   10   7         3        3      4\\n43    1102573          5     6      5     6     10    1   3         1        1      4\\n44    1103608         10    10     10     4      8    1   8        10        1      4\\n45    1103722          1     1      1     1      2    1   2         1        2      2\\n46    1105257          3     7      7     4      4    9   4         8        1      4\\n47    1105524          1     1      1     1      2    1   2         1        1      2\\n48    1106095          4     1      1     3      2    1   3         1        1      2\\n49    1106829          7     8      7     2      4    8   3         8        2      4\\n50    1108370          9     5      8     1      2    3   2         1        5      4\\n51    1108449          5     3      3     4      2    4   3         4        1      4\\n52    1110102         10     3      6     2      3    5   4        10        2      4\\n53    1110503          5     5      5     8     10    8   7         3        7      4\\n54    1110524         10     5      5     6      8    8   7         1        1      4\\n55    1111249         10     6      6     3      4    5   3         6        1      4\\n56    1112209          8    10     10     1      3    6   3         9        1      4\\n57    1113038          8     2      4     1      5    1   5         4        4      4\\n58    1113483          5     2      3     1      6   10   5         1        1      4\\n59    1113906          9     5      5     2      2    2   5         1        1      4\\n60    1115282          5     3      5     5      3    3   4        10        1      4\\n61    1115293          1     1      1     1      2    2   2         1        1      2\\n62    1116116          9    10     10     1     10    8   3         3        1      4\\n63    1116132          6     3      4     1      5    2   3         9        1      4\\n64    1116192          1     1      1     1      2    1   2         1        1      2\\n65    1116998         10     4      2     1      3    2   4         3       10      4\\n66    1117152          4     1      1     1      2    1   3         1        1      2\\n67    1118039          5     3      4     1      8   10   4         9        1      4\\n68    1120559          8     3      8     3      4    9   8         9        8      4\\n69    1121732          1     1      1     1      2    1   3         2        1      2\\n70    1121919          5     1      3     1      2    1   2         1        1      2\\n71    1123061          6    10      2     8     10    2   7         8       10      4\\n72    1124651          1     3      3     2      2    1   7         2        1      2\\n73    1125035          9     4      5    10      6   10   4         8        1      4\\n74    1126417         10     6      4     1      3    4   3         2        3      4\\n75    1131294          1     1      2     1      2    2   4         2        1      2\\n76    1132347          1     1      4     1      2    1   2         1        1      2\\n77    1133041          5     3      1     2      2    1   2         1        1      2\\n78    1133136          3     1      1     1      2    3   3         1        1      2\\n79    1136142          2     1      1     1      3    1   2         1        1      2\\n80    1137156          2     2      2     1      1    1   7         1        1      2\\n81    1143978          4     1      1     2      2    1   2         1        1      2\\n82    1143978          5     2      1     1      2    1   3         1        1      2\\n83    1147044          3     1      1     1      2    2   7         1        1      2\\n84    1147699          3     5      7     8      8    9   7        10        7      4\\n85    1147748          5    10      6     1     10    4   4        10       10      4\\n86    1148278          3     3      6     4      5    8   4         4        1      4\\n87    1148873          3     6      6     6      5   10   6         8        3      4\\n88    1152331          4     1      1     1      2    1   3         1        1      2\\n89    1155546          2     1      1     2      3    1   2         1        1      2\\n90    1156272          1     1      1     1      2    1   3         1        1      2\\n91    1156948          3     1      1     2      2    1   1         1        1      2\\n92    1157734          4     1      1     1      2    1   3         1        1      2\\n93    1158247          1     1      1     1      2    1   2         1        1      2\\n94    1160476          2     1      1     1      2    1   3         1        1      2\\n95    1164066          1     1      1     1      2    1   3         1        1      2\\n96    1165297          2     1      1     2      2    1   1         1        1      2\\n97    1165790          5     1      1     1      2    1   3         1        1      2\\n98    1165926          9     6      9     2     10    6   2         9       10      4\\n99    1166630          7     5      6    10      5   10   7         9        4      4\\n100   1166654         10     3      5     1     10    5   3        10        2      4\\n101   1167439          2     3      4     4      2    5   2         5        1      4\\n102   1167471          4     1      2     1      2    1   3         1        1      2\\n103   1168359          8     2      3     1      6    3   7         1        1      4\\n104   1168736         10    10     10    10     10    1   8         8        8      4\\n105   1169049          7     3      4     4      3    3   3         2        7      4\\n106   1170419         10    10     10     8      2   10   4         1        1      4\\n107   1170420          1     6      8    10      8   10   5         7        1      4\\n108   1171710          1     1      1     1      2    1   2         3        1      2\\n109   1171710          6     5      4     4      3    9   7         8        3      4\\n110   1171795          1     3      1     2      2    2   5         3        2      2\\n111   1171845          8     6      4     3      5    9   3         1        1      4\\n112   1172152         10     3      3    10      2   10   7         3        3      4\\n113   1173216         10    10     10     3     10    8   8         1        1      4\\n114   1173235          3     3      2     1      2    3   3         1        1      2\\n115   1173347          1     1      1     1      2    5   1         1        1      2\\n116   1173347          8     3      3     1      2    2   3         2        1      2\\n117   1173509          4     5      5    10      4   10   7         5        8      4\\n118   1173514          1     1      1     1      4    3   1         1        1      2\\n119   1173681          3     2      1     1      2    2   3         1        1      2\\n120   1174057          1     1      2     2      2    1   3         1        1      2\\n121   1174057          4     2      1     1      2    2   3         1        1      2\\n122   1174131         10    10     10     2     10   10   5         3        3      4\\n123   1174428          5     3      5     1      8   10   5         3        1      4\\n124   1175937          5     4      6     7      9    7   8        10        1      4\\n125   1176406          1     1      1     1      2    1   2         1        1      2\\n126   1176881          7     5      3     7      4   10   7         5        5      4\\n127   1177027          3     1      1     1      2    1   3         1        1      2\\n128   1177399          8     3      5     4      5   10   1         6        2      4\\n129   1177512          1     1      1     1     10    1   1         1        1      2\\n130   1178580          5     1      3     1      2    1   2         1        1      2\\n131   1179818          2     1      1     1      2    1   3         1        1      2\\n132   1180194          5    10      8    10      8   10   3         6        3      4\\n133   1180523          3     1      1     1      2    1   2         2        1      2\\n134   1180831          3     1      1     1      3    1   2         1        1      2\\n135   1181356          5     1      1     1      2    2   3         3        1      2\\n136   1182404          4     1      1     1      2    1   2         1        1      2\\n137   1182410          3     1      1     1      2    1   1         1        1      2\\n138   1183240          4     1      2     1      2    1   2         1        1      2\\n139   1183246          1     1      1     1      1    ?   2         1        1      2\\n140   1183516          3     1      1     1      2    1   1         1        1      2\\n141   1183911          2     1      1     1      2    1   1         1        1      2\\n142   1183983          9     5      5     4      4    5   4         3        3      4\\n143   1184184          1     1      1     1      2    5   1         1        1      2\\n144   1184241          2     1      1     1      2    1   2         1        1      2\\n145   1184840          1     1      3     1      2    ?   2         1        1      2\\n146   1185609          3     4      5     2      6    8   4         1        1      4\\n147   1185610          1     1      1     1      3    2   2         1        1      2\\n148   1187457          3     1      1     3      8    1   5         8        1      2\\n149   1187805          8     8      7     4     10   10   7         8        7      4\\n150   1188472          1     1      1     1      1    1   3         1        1      2\\n151   1189266          7     2      4     1      6   10   5         4        3      4\\n152   1189286         10    10      8     6      4    5   8        10        1      4\\n153   1190394          4     1      1     1      2    3   1         1        1      2\\n154   1190485          1     1      1     1      2    1   1         1        1      2\\n155   1192325          5     5      5     6      3   10   3         1        1      4\\n156   1193091          1     2      2     1      2    1   2         1        1      2\\n157   1193210          2     1      1     1      2    1   3         1        1      2\\n158   1193683          1     1      2     1      3    ?   1         1        1      2\\n159   1196295          9     9     10     3      6   10   7        10        6      4\\n160   1196915         10     7      7     4      5   10   5         7        2      4\\n161   1197080          4     1      1     1      2    1   3         2        1      2\\n162   1197270          3     1      1     1      2    1   3         1        1      2\\n163   1197440          1     1      1     2      1    3   1         1        7      2\\n164   1197510          5     1      1     1      2    ?   3         1        1      2\\n165   1197979          4     1      1     1      2    2   3         2        1      2\\n166   1197993          5     6      7     8      8   10   3        10        3      4\\n167   1198128         10     8     10    10      6    1   3         1       10      4\\n168   1198641          3     1      1     1      2    1   3         1        1      2\\n169   1199219          1     1      1     2      1    1   1         1        1      2\\n170   1199731          3     1      1     1      2    1   1         1        1      2\\n171   1199983          1     1      1     1      2    1   3         1        1      2\\n172   1200772          1     1      1     1      2    1   2         1        1      2\\n173   1200847          6    10     10    10      8   10  10        10        7      4\\n174   1200892          8     6      5     4      3   10   6         1        1      4\\n175   1200952          5     8      7     7     10   10   5         7        1      4\\n176   1201834          2     1      1     1      2    1   3         1        1      2\\n177   1201936          5    10     10     3      8    1   5        10        3      4\\n178   1202125          4     1      1     1      2    1   3         1        1      2\\n179   1202812          5     3      3     3      6   10   3         1        1      4\\n180   1203096          1     1      1     1      1    1   3         1        1      2\\n181   1204242          1     1      1     1      2    1   1         1        1      2\\n182   1204898          6     1      1     1      2    1   3         1        1      2\\n183   1205138          5     8      8     8      5   10   7         8        1      4\\n184   1205579          8     7      6     4      4   10   5         1        1      4\\n185   1206089          2     1      1     1      1    1   3         1        1      2\\n186   1206695          1     5      8     6      5    8   7        10        1      4\\n187   1206841         10     5      6    10      6   10   7         7       10      4\\n188   1207986          5     8      4    10      5    8   9        10        1      4\\n189   1208301          1     2      3     1      2    1   3         1        1      2\\n190   1210963         10    10     10     8      6    8   7        10        1      4\\n191   1211202          7     5     10    10     10   10   4        10        3      4\\n192   1212232          5     1      1     1      2    1   2         1        1      2\\n193   1212251          1     1      1     1      2    1   3         1        1      2\\n194   1212422          3     1      1     1      2    1   3         1        1      2\\n195   1212422          4     1      1     1      2    1   3         1        1      2\\n196   1213375          8     4      4     5      4    7   7         8        2      2\\n197   1213383          5     1      1     4      2    1   3         1        1      2\\n198   1214092          1     1      1     1      2    1   1         1        1      2\\n199   1214556          3     1      1     1      2    1   2         1        1      2\\n200   1214966          9     7      7     5      5   10   7         8        3      4\\n201   1216694         10     8      8     4     10   10   8         1        1      4\\n202   1216947          1     1      1     1      2    1   3         1        1      2\\n203   1217051          5     1      1     1      2    1   3         1        1      2\\n204   1217264          1     1      1     1      2    1   3         1        1      2\\n205   1218105          5    10     10     9      6   10   7        10        5      4\\n206   1218741         10    10      9     3      7    5   3         5        1      4\\n207   1218860          1     1      1     1      1    1   3         1        1      2\\n208   1218860          1     1      1     1      1    1   3         1        1      2\\n209   1219406          5     1      1     1      1    1   3         1        1      2\\n210   1219525          8    10     10    10      5   10   8        10        6      4\\n211   1219859          8    10      8     8      4    8   7         7        1      4\\n212   1220330          1     1      1     1      2    1   3         1        1      2\\n213   1221863         10    10     10    10      7   10   7        10        4      4\\n214   1222047         10    10     10    10      3   10  10         6        1      4\\n215   1222936          8     7      8     7      5    5   5        10        2      4\\n216   1223282          1     1      1     1      2    1   2         1        1      2\\n217   1223426          1     1      1     1      2    1   3         1        1      2\\n218   1223793          6    10      7     7      6    4   8        10        2      4\\n219   1223967          6     1      3     1      2    1   3         1        1      2\\n220   1224329          1     1      1     2      2    1   3         1        1      2\\n221   1225799         10     6      4     3     10   10   9        10        1      4\\n222   1226012          4     1      1     3      1    5   2         1        1      4\\n223   1226612          7     5      6     3      3    8   7         4        1      4\\n224   1227210         10     5      5     6      3   10   7         9        2      4\\n225   1227244          1     1      1     1      2    1   2         1        1      2\\n226   1227481         10     5      7     4      4   10   8         9        1      4\\n227   1228152          8     9      9     5      3    5   7         7        1      4\\n228   1228311          1     1      1     1      1    1   3         1        1      2\\n229   1230175         10    10     10     3     10   10   9        10        1      4\\n230   1230688          7     4      7     4      3    7   7         6        1      4\\n231   1231387          6     8      7     5      6    8   8         9        2      4\\n232   1231706          8     4      6     3      3    1   4         3        1      2\\n233   1232225         10     4      5     5      5   10   4         1        1      4\\n234   1236043          3     3      2     1      3    1   3         6        1      2\\n235   1241232          3     1      4     1      2    ?   3         1        1      2\\n236   1241559         10     8      8     2      8   10   4         8       10      4\\n237   1241679          9     8      8     5      6    2   4        10        4      4\\n238   1242364          8    10     10     8      6    9   3        10       10      4\\n239   1243256         10     4      3     2      3   10   5         3        2      4\\n240   1270479          5     1      3     3      2    2   2         3        1      2\\n241   1276091          3     1      1     3      1    1   3         1        1      2\\n242   1277018          2     1      1     1      2    1   3         1        1      2\\n243    128059          1     1      1     1      2    5   5         1        1      2\\n244   1285531          1     1      1     1      2    1   3         1        1      2\\n245   1287775          5     1      1     2      2    2   3         1        1      2\\n246    144888          8    10     10     8      5   10   7         8        1      4\\n247    145447          8     4      4     1      2    9   3         3        1      4\\n248    167528          4     1      1     1      2    1   3         6        1      2\\n249    169356          3     1      1     1      2    ?   3         1        1      2\\n250    183913          1     2      2     1      2    1   1         1        1      2\\n251    191250         10     4      4    10      2   10   5         3        3      4\\n252   1017023          6     3      3     5      3   10   3         5        3      2\\n253   1100524          6    10     10     2      8   10   7         3        3      4\\n254   1116116          9    10     10     1     10    8   3         3        1      4\\n255   1168736          5     6      6     2      4   10   3         6        1      4\\n256   1182404          3     1      1     1      2    1   1         1        1      2\\n257   1182404          3     1      1     1      2    1   2         1        1      2\\n258   1198641          3     1      1     1      2    1   3         1        1      2\\n259    242970          5     7      7     1      5    8   3         4        1      2\\n260    255644         10     5      8    10      3   10   5         1        3      4\\n261    263538          5    10     10     6     10   10  10         6        5      4\\n262    274137          8     8      9     4      5   10   7         8        1      4\\n263    303213         10     4      4    10      6   10   5         5        1      4\\n264    314428          7     9      4    10     10    3   5         3        3      4\\n265   1182404          5     1      4     1      2    1   3         2        1      2\\n266   1198641         10    10      6     3      3   10   4         3        2      4\\n267    320675          3     3      5     2      3   10   7         1        1      4\\n268    324427         10     8      8     2      3    4   8         7        8      4\\n269    385103          1     1      1     1      2    1   3         1        1      2\\n270    390840          8     4      7     1      3   10   3         9        2      4\\n271    411453          5     1      1     1      2    1   3         1        1      2\\n272    320675          3     3      5     2      3   10   7         1        1      4\\n273    428903          7     2      4     1      3    4   3         3        1      4\\n274    431495          3     1      1     1      2    1   3         2        1      2\\n275    432809          3     1      3     1      2    ?   2         1        1      2\\n276    434518          3     1      1     1      2    1   2         1        1      2\\n277    452264          1     1      1     1      2    1   2         1        1      2\\n278    456282          1     1      1     1      2    1   3         1        1      2\\n279    476903         10     5      7     3      3    7   3         3        8      4\\n280    486283          3     1      1     1      2    1   3         1        1      2\\n281    486662          2     1      1     2      2    1   3         1        1      2\\n282    488173          1     4      3    10      4   10   5         6        1      4\\n283    492268         10     4      6     1      2   10   5         3        1      4\\n284    508234          7     4      5    10      2   10   3         8        2      4\\n285    527363          8    10     10    10      8   10  10         7        3      4\\n286    529329         10    10     10    10     10   10   4        10       10      4\\n287    535331          3     1      1     1      3    1   2         1        1      2\\n288    543558          6     1      3     1      4    5   5        10        1      4\\n289    555977          5     6      6     8      6   10   4        10        4      4\\n290    560680          1     1      1     1      2    1   1         1        1      2\\n291    561477          1     1      1     1      2    1   3         1        1      2\\n292    563649          8     8      8     1      2    ?   6        10        1      4\\n293    601265         10     4      4     6      2   10   2         3        1      4\\n294    606140          1     1      1     1      2    ?   2         1        1      2\\n295    606722          5     5      7     8      6   10   7         4        1      4\\n296    616240          5     3      4     3      4    5   4         7        1      2\\n297     61634          5     4      3     1      2    ?   2         3        1      2\\n298    625201          8     2      1     1      5    1   1         1        1      2\\n299     63375          9     1      2     6      4   10   7         7        2      4\\n300    635844          8     4     10     5      4    4   7        10        1      4\\n301    636130          1     1      1     1      2    1   3         1        1      2\\n302    640744         10    10     10     7      9   10   7        10       10      4\\n303    646904          1     1      1     1      2    1   3         1        1      2\\n304    653777          8     3      4     9      3   10   3         3        1      4\\n305    659642         10     8      4     4      4   10   3        10        4      4\\n306    666090          1     1      1     1      2    1   3         1        1      2\\n307    666942          1     1      1     1      2    1   3         1        1      2\\n308    667204          7     8      7     6      4    3   8         8        4      4\\n309    673637          3     1      1     1      2    5   5         1        1      2\\n310    684955          2     1      1     1      3    1   2         1        1      2\\n311    688033          1     1      1     1      2    1   1         1        1      2\\n312    691628          8     6      4    10     10    1   3         5        1      4\\n313    693702          1     1      1     1      2    1   1         1        1      2\\n314    704097          1     1      1     1      1    1   2         1        1      2\\n315    704168          4     6      5     6      7    ?   4         9        1      2\\n316    706426          5     5      5     2      5   10   4         3        1      4\\n317    709287          6     8      7     8      6    8   8         9        1      4\\n318    718641          1     1      1     1      5    1   3         1        1      2\\n319    721482          4     4      4     4      6    5   7         3        1      2\\n320    730881          7     6      3     2      5   10   7         4        6      4\\n321    733639          3     1      1     1      2    ?   3         1        1      2\\n322    733639          3     1      1     1      2    1   3         1        1      2\\n323    733823          5     4      6    10      2   10   4         1        1      4\\n324    740492          1     1      1     1      2    1   3         1        1      2\\n325    743348          3     2      2     1      2    1   2         3        1      2\\n326    752904         10     1      1     1      2   10   5         4        1      4\\n327    756136          1     1      1     1      2    1   2         1        1      2\\n328    760001          8    10      3     2      6    4   3        10        1      4\\n329    760239         10     4      6     4      5   10   7         1        1      4\\n330     76389         10     4      7     2      2    8   6         1        1      4\\n331    764974          5     1      1     1      2    1   3         1        2      2\\n332    770066          5     2      2     2      2    1   2         2        1      2\\n333    785208          5     4      6     6      4   10   4         3        1      4\\n334    785615          8     6      7     3      3   10   3         4        2      4\\n335    792744          1     1      1     1      2    1   1         1        1      2\\n336    797327          6     5      5     8      4   10   3         4        1      4\\n337    798429          1     1      1     1      2    1   3         1        1      2\\n338    704097          1     1      1     1      1    1   2         1        1      2\\n339    806423          8     5      5     5      2   10   4         3        1      4\\n340    809912         10     3      3     1      2   10   7         6        1      4\\n341    810104          1     1      1     1      2    1   3         1        1      2\\n342    814265          2     1      1     1      2    1   1         1        1      2\\n343    814911          1     1      1     1      2    1   1         1        1      2\\n344    822829          7     6      4     8     10   10   9         5        3      4\\n345    826923          1     1      1     1      2    1   1         1        1      2\\n346    830690          5     2      2     2      3    1   1         3        1      2\\n347    831268          1     1      1     1      1    1   1         3        1      2\\n348    832226          3     4      4    10      5    1   3         3        1      4\\n349    832567          4     2      3     5      3    8   7         6        1      4\\n350    836433          5     1      1     3      2    1   1         1        1      2\\n351    837082          2     1      1     1      2    1   3         1        1      2\\n352    846832          3     4      5     3      7    3   4         6        1      2\\n353    850831          2     7     10    10      7   10   4         9        4      4\\n354    855524          1     1      1     1      2    1   2         1        1      2\\n355    857774          4     1      1     1      3    1   2         2        1      2\\n356    859164          5     3      3     1      3    3   3         3        3      4\\n357    859350          8    10     10     7     10   10   7         3        8      4\\n358    866325          8    10      5     3      8    4   4        10        3      4\\n359    873549         10     3      5     4      3    7   3         5        3      4\\n360    877291          6    10     10    10     10   10   8        10       10      4\\n361    877943          3    10      3    10      6   10   5         1        4      4\\n362    888169          3     2      2     1      4    3   2         1        1      2\\n363    888523          4     4      4     2      2    3   2         1        1      2\\n364    896404          2     1      1     1      2    1   3         1        1      2\\n365    897172          2     1      1     1      2    1   2         1        1      2\\n366     95719          6    10     10    10      8   10   7        10        7      4\\n367    160296          5     8      8    10      5   10   8        10        3      4\\n368    342245          1     1      3     1      2    1   1         1        1      2\\n369    428598          1     1      3     1      1    1   2         1        1      2\\n370    492561          4     3      2     1      3    1   2         1        1      2\\n371    493452          1     1      3     1      2    1   1         1        1      2\\n372    493452          4     1      2     1      2    1   2         1        1      2\\n373    521441          5     1      1     2      2    1   2         1        1      2\\n374    560680          3     1      2     1      2    1   2         1        1      2\\n375    636437          1     1      1     1      2    1   1         1        1      2\\n376    640712          1     1      1     1      2    1   2         1        1      2\\n377    654244          1     1      1     1      1    1   2         1        1      2\\n378    657753          3     1      1     4      3    1   2         2        1      2\\n379    685977          5     3      4     1      4    1   3         1        1      2\\n380    805448          1     1      1     1      2    1   1         1        1      2\\n381    846423         10     6      3     6      4   10   7         8        4      4\\n382   1002504          3     2      2     2      2    1   3         2        1      2\\n383   1022257          2     1      1     1      2    1   1         1        1      2\\n384   1026122          2     1      1     1      2    1   1         1        1      2\\n385   1071084          3     3      2     2      3    1   1         2        3      2\\n386   1080233          7     6      6     3      2   10   7         1        1      4\\n387   1114570          5     3      3     2      3    1   3         1        1      2\\n388   1114570          2     1      1     1      2    1   2         2        1      2\\n389   1116715          5     1      1     1      3    2   2         2        1      2\\n390   1131411          1     1      1     2      2    1   2         1        1      2\\n391   1151734         10     8      7     4      3   10   7         9        1      4\\n392   1156017          3     1      1     1      2    1   2         1        1      2\\n393   1158247          1     1      1     1      1    1   1         1        1      2\\n394   1158405          1     2      3     1      2    1   2         1        1      2\\n395   1168278          3     1      1     1      2    1   2         1        1      2\\n396   1176187          3     1      1     1      2    1   3         1        1      2\\n397   1196263          4     1      1     1      2    1   1         1        1      2\\n398   1196475          3     2      1     1      2    1   2         2        1      2\\n399   1206314          1     2      3     1      2    1   1         1        1      2\\n400   1211265          3    10      8     7      6    9   9         3        8      4\\n401   1213784          3     1      1     1      2    1   1         1        1      2\\n402   1223003          5     3      3     1      2    1   2         1        1      2\\n403   1223306          3     1      1     1      2    4   1         1        1      2\\n404   1223543          1     2      1     3      2    1   1         2        1      2\\n405   1229929          1     1      1     1      2    1   2         1        1      2\\n406   1231853          4     2      2     1      2    1   2         1        1      2\\n407   1234554          1     1      1     1      2    1   2         1        1      2\\n408   1236837          2     3      2     2      2    2   3         1        1      2\\n409   1237674          3     1      2     1      2    1   2         1        1      2\\n410   1238021          1     1      1     1      2    1   2         1        1      2\\n411   1238464          1     1      1     1      1    ?   2         1        1      2\\n412   1238633         10    10     10     6      8    4   8         5        1      4\\n413   1238915          5     1      2     1      2    1   3         1        1      2\\n414   1238948          8     5      6     2      3   10   6         6        1      4\\n415   1239232          3     3      2     6      3    3   3         5        1      2\\n416   1239347          8     7      8     5     10   10   7         2        1      4\\n417   1239967          1     1      1     1      2    1   2         1        1      2\\n418   1240337          5     2      2     2      2    2   3         2        2      2\\n419   1253505          2     3      1     1      5    1   1         1        1      2\\n420   1255384          3     2      2     3      2    3   3         1        1      2\\n421   1257200         10    10     10     7     10   10   8         2        1      4\\n422   1257648          4     3      3     1      2    1   3         3        1      2\\n423   1257815          5     1      3     1      2    1   2         1        1      2\\n424   1257938          3     1      1     1      2    1   1         1        1      2\\n425   1258549          9    10     10    10     10   10  10        10        1      4\\n426   1258556          5     3      6     1      2    1   1         1        1      2\\n427   1266154          8     7      8     2      4    2   5        10        1      4\\n428   1272039          1     1      1     1      2    1   2         1        1      2\\n429   1276091          2     1      1     1      2    1   2         1        1      2\\n430   1276091          1     3      1     1      2    1   2         2        1      2\\n431   1276091          5     1      1     3      4    1   3         2        1      2\\n432   1277629          5     1      1     1      2    1   2         2        1      2\\n433   1293439          3     2      2     3      2    1   1         1        1      2\\n434   1293439          6     9      7     5      5    8   4         2        1      2\\n435   1294562         10     8     10     1      3   10   5         1        1      4\\n436   1295186         10    10     10     1      6    1   2         8        1      4\\n437    527337          4     1      1     1      2    1   1         1        1      2\\n438    558538          4     1      3     3      2    1   1         1        1      2\\n439    566509          5     1      1     1      2    1   1         1        1      2\\n440    608157         10     4      3    10      4   10  10         1        1      4\\n441    677910          5     2      2     4      2    4   1         1        1      2\\n442    734111          1     1      1     3      2    3   1         1        1      2\\n443    734111          1     1      1     1      2    2   1         1        1      2\\n444    780555          5     1      1     6      3    1   2         1        1      2\\n445    827627          2     1      1     1      2    1   1         1        1      2\\n446   1049837          1     1      1     1      2    1   1         1        1      2\\n447   1058849          5     1      1     1      2    1   1         1        1      2\\n448   1182404          1     1      1     1      1    1   1         1        1      2\\n449   1193544          5     7      9     8      6   10   8        10        1      4\\n450   1201870          4     1      1     3      1    1   2         1        1      2\\n451   1202253          5     1      1     1      2    1   1         1        1      2\\n452   1227081          3     1      1     3      2    1   1         1        1      2\\n453   1230994          4     5      5     8      6   10  10         7        1      4\\n454   1238410          2     3      1     1      3    1   1         1        1      2\\n455   1246562         10     2      2     1      2    6   1         1        2      4\\n456   1257470         10     6      5     8      5   10   8         6        1      4\\n457   1259008          8     8      9     6      6    3  10        10        1      4\\n458   1266124          5     1      2     1      2    1   1         1        1      2\\n459   1267898          5     1      3     1      2    1   1         1        1      2\\n460   1268313          5     1      1     3      2    1   1         1        1      2\\n461   1268804          3     1      1     1      2    5   1         1        1      2\\n462   1276091          6     1      1     3      2    1   1         1        1      2\\n463   1280258          4     1      1     1      2    1   1         2        1      2\\n464   1293966          4     1      1     1      2    1   1         1        1      2\\n465   1296572         10     9      8     7      6    4   7        10        3      4\\n466   1298416         10     6      6     2      4   10   9         7        1      4\\n467   1299596          6     6      6     5      4   10   7         6        2      4\\n468   1105524          4     1      1     1      2    1   1         1        1      2\\n469   1181685          1     1      2     1      2    1   2         1        1      2\\n470   1211594          3     1      1     1      1    1   2         1        1      2\\n471   1238777          6     1      1     3      2    1   1         1        1      2\\n472   1257608          6     1      1     1      1    1   1         1        1      2\\n473   1269574          4     1      1     1      2    1   1         1        1      2\\n474   1277145          5     1      1     1      2    1   1         1        1      2\\n475   1287282          3     1      1     1      2    1   1         1        1      2\\n476   1296025          4     1      2     1      2    1   1         1        1      2\\n477   1296263          4     1      1     1      2    1   1         1        1      2\\n478   1296593          5     2      1     1      2    1   1         1        1      2\\n479   1299161          4     8      7    10      4   10   7         5        1      4\\n480   1301945          5     1      1     1      1    1   1         1        1      2\\n481   1302428          5     3      2     4      2    1   1         1        1      2\\n482   1318169          9    10     10    10     10    5  10        10       10      4\\n483    474162          8     7      8     5      5   10   9        10        1      4\\n484    787451          5     1      2     1      2    1   1         1        1      2\\n485   1002025          1     1      1     3      1    3   1         1        1      2\\n486   1070522          3     1      1     1      1    1   2         1        1      2\\n487   1073960         10    10     10    10      6   10   8         1        5      4\\n488   1076352          3     6      4    10      3    3   3         4        1      4\\n489   1084139          6     3      2     1      3    4   4         1        1      4\\n490   1115293          1     1      1     1      2    1   1         1        1      2\\n491   1119189          5     8      9     4      3   10   7         1        1      4\\n492   1133991          4     1      1     1      1    1   2         1        1      2\\n493   1142706          5    10     10    10      6   10   6         5        2      4\\n494   1155967          5     1      2    10      4    5   2         1        1      2\\n495   1170945          3     1      1     1      1    1   2         1        1      2\\n496   1181567          1     1      1     1      1    1   1         1        1      2\\n497   1182404          4     2      1     1      2    1   1         1        1      2\\n498   1204558          4     1      1     1      2    1   2         1        1      2\\n499   1217952          4     1      1     1      2    1   2         1        1      2\\n500   1224565          6     1      1     1      2    1   3         1        1      2\\n501   1238186          4     1      1     1      2    1   2         1        1      2\\n502   1253917          4     1      1     2      2    1   2         1        1      2\\n503   1265899          4     1      1     1      2    1   3         1        1      2\\n504   1268766          1     1      1     1      2    1   1         1        1      2\\n505   1277268          3     3      1     1      2    1   1         1        1      2\\n506   1286943          8    10     10    10      7    5   4         8        7      4\\n507   1295508          1     1      1     1      2    4   1         1        1      2\\n508   1297327          5     1      1     1      2    1   1         1        1      2\\n509   1297522          2     1      1     1      2    1   1         1        1      2\\n510   1298360          1     1      1     1      2    1   1         1        1      2\\n511   1299924          5     1      1     1      2    1   2         1        1      2\\n512   1299994          5     1      1     1      2    1   1         1        1      2\\n513   1304595          3     1      1     1      1    1   2         1        1      2\\n514   1306282          6     6      7    10      3   10   8        10        2      4\\n515   1313325          4    10      4     7      3   10   9        10        1      4\\n516   1320077          1     1      1     1      1    1   1         1        1      2\\n517   1320077          1     1      1     1      1    1   2         1        1      2\\n518   1320304          3     1      2     2      2    1   1         1        1      2\\n519   1330439          4     7      8     3      4   10   9         1        1      4\\n520    333093          1     1      1     1      3    1   1         1        1      2\\n521    369565          4     1      1     1      3    1   1         1        1      2\\n522    412300         10     4      5     4      3    5   7         3        1      4\\n523    672113          7     5      6    10      4   10   5         3        1      4\\n524    749653          3     1      1     1      2    1   2         1        1      2\\n525    769612          3     1      1     2      2    1   1         1        1      2\\n526    769612          4     1      1     1      2    1   1         1        1      2\\n527    798429          4     1      1     1      2    1   3         1        1      2\\n528    807657          6     1      3     2      2    1   1         1        1      2\\n529   8233704          4     1      1     1      1    1   2         1        1      2\\n530    837480          7     4      4     3      4   10   6         9        1      4\\n531    867392          4     2      2     1      2    1   2         1        1      2\\n532    869828          1     1      1     1      1    1   3         1        1      2\\n533   1043068          3     1      1     1      2    1   2         1        1      2\\n534   1056171          2     1      1     1      2    1   2         1        1      2\\n535   1061990          1     1      3     2      2    1   3         1        1      2\\n536   1113061          5     1      1     1      2    1   3         1        1      2\\n537   1116192          5     1      2     1      2    1   3         1        1      2\\n538   1135090          4     1      1     1      2    1   2         1        1      2\\n539   1145420          6     1      1     1      2    1   2         1        1      2\\n540   1158157          5     1      1     1      2    2   2         1        1      2\\n541   1171578          3     1      1     1      2    1   1         1        1      2\\n542   1174841          5     3      1     1      2    1   1         1        1      2\\n543   1184586          4     1      1     1      2    1   2         1        1      2\\n544   1186936          2     1      3     2      2    1   2         1        1      2\\n545   1197527          5     1      1     1      2    1   2         1        1      2\\n546   1222464          6    10     10    10      4   10   7        10        1      4\\n547   1240603          2     1      1     1      1    1   1         1        1      2\\n548   1240603          3     1      1     1      1    1   1         1        1      2\\n549   1241035          7     8      3     7      4    5   7         8        2      4\\n550   1287971          3     1      1     1      2    1   2         1        1      2\\n551   1289391          1     1      1     1      2    1   3         1        1      2\\n552   1299924          3     2      2     2      2    1   4         2        1      2\\n553   1306339          4     4      2     1      2    5   2         1        2      2\\n554   1313658          3     1      1     1      2    1   1         1        1      2\\n555   1313982          4     3      1     1      2    1   4         8        1      2\\n556   1321264          5     2      2     2      1    1   2         1        1      2\\n557   1321321          5     1      1     3      2    1   1         1        1      2\\n558   1321348          2     1      1     1      2    1   2         1        1      2\\n559   1321931          5     1      1     1      2    1   2         1        1      2\\n560   1321942          5     1      1     1      2    1   3         1        1      2\\n561   1321942          5     1      1     1      2    1   3         1        1      2\\n562   1328331          1     1      1     1      2    1   3         1        1      2\\n563   1328755          3     1      1     1      2    1   2         1        1      2\\n564   1331405          4     1      1     1      2    1   3         2        1      2\\n565   1331412          5     7     10    10      5   10  10        10        1      4\\n566   1333104          3     1      2     1      2    1   3         1        1      2\\n567   1334071          4     1      1     1      2    3   2         1        1      2\\n568   1343068          8     4      4     1      6   10   2         5        2      4\\n569   1343374         10    10      8    10      6    5  10         3        1      4\\n570   1344121          8    10      4     4      8   10   8         2        1      4\\n571    142932          7     6     10     5      3   10   9        10        2      4\\n572    183936          3     1      1     1      2    1   2         1        1      2\\n573    324382          1     1      1     1      2    1   2         1        1      2\\n574    378275         10     9      7     3      4    2   7         7        1      4\\n575    385103          5     1      2     1      2    1   3         1        1      2\\n576    690557          5     1      1     1      2    1   2         1        1      2\\n577    695091          1     1      1     1      2    1   2         1        1      2\\n578    695219          1     1      1     1      2    1   2         1        1      2\\n579    824249          1     1      1     1      2    1   3         1        1      2\\n580    871549          5     1      2     1      2    1   2         1        1      2\\n581    878358          5     7     10     6      5   10   7         5        1      4\\n582   1107684          6    10      5     5      4   10   6        10        1      4\\n583   1115762          3     1      1     1      2    1   1         1        1      2\\n584   1217717          5     1      1     6      3    1   1         1        1      2\\n585   1239420          1     1      1     1      2    1   1         1        1      2\\n586   1254538          8    10     10    10      6   10  10        10        1      4\\n587   1261751          5     1      1     1      2    1   2         2        1      2\\n588   1268275          9     8      8     9      6    3   4         1        1      4\\n589   1272166          5     1      1     1      2    1   1         1        1      2\\n590   1294261          4    10      8     5      4    1  10         1        1      4\\n591   1295529          2     5      7     6      4   10   7         6        1      4\\n592   1298484         10     3      4     5      3   10   4         1        1      4\\n593   1311875          5     1      2     1      2    1   1         1        1      2\\n594   1315506          4     8      6     3      4   10   7         1        1      4\\n595   1320141          5     1      1     1      2    1   2         1        1      2\\n596   1325309          4     1      2     1      2    1   2         1        1      2\\n597   1333063          5     1      3     1      2    1   3         1        1      2\\n598   1333495          3     1      1     1      2    1   2         1        1      2\\n599   1334659          5     2      4     1      1    1   1         1        1      2\\n600   1336798          3     1      1     1      2    1   2         1        1      2\\n601   1344449          1     1      1     1      1    1   2         1        1      2\\n602   1350568          4     1      1     1      2    1   2         1        1      2\\n603   1352663          5     4      6     8      4    1   8        10        1      4\\n604    188336          5     3      2     8      5   10   8         1        2      4\\n605    352431         10     5     10     3      5    8   7         8        3      4\\n606    353098          4     1      1     2      2    1   1         1        1      2\\n607    411453          1     1      1     1      2    1   1         1        1      2\\n608    557583          5    10     10    10     10   10  10         1        1      4\\n609    636375          5     1      1     1      2    1   1         1        1      2\\n610    736150         10     4      3    10      3   10   7         1        2      4\\n611    803531          5    10     10    10      5    2   8         5        1      4\\n612    822829          8    10     10    10      6   10  10        10       10      4\\n613   1016634          2     3      1     1      2    1   2         1        1      2\\n614   1031608          2     1      1     1      1    1   2         1        1      2\\n615   1041043          4     1      3     1      2    1   2         1        1      2\\n616   1042252          3     1      1     1      2    1   2         1        1      2\\n617   1057067          1     1      1     1      1    ?   1         1        1      2\\n618   1061990          4     1      1     1      2    1   2         1        1      2\\n619   1073836          5     1      1     1      2    1   2         1        1      2\\n620   1083817          3     1      1     1      2    1   2         1        1      2\\n621   1096352          6     3      3     3      3    2   6         1        1      2\\n622   1140597          7     1      2     3      2    1   2         1        1      2\\n623   1149548          1     1      1     1      2    1   1         1        1      2\\n624   1174009          5     1      1     2      1    1   2         1        1      2\\n625   1183596          3     1      3     1      3    4   1         1        1      2\\n626   1190386          4     6      6     5      7    6   7         7        3      4\\n627   1190546          2     1      1     1      2    5   1         1        1      2\\n628   1213273          2     1      1     1      2    1   1         1        1      2\\n629   1218982          4     1      1     1      2    1   1         1        1      2\\n630   1225382          6     2      3     1      2    1   1         1        1      2\\n631   1235807          5     1      1     1      2    1   2         1        1      2\\n632   1238777          1     1      1     1      2    1   1         1        1      2\\n633   1253955          8     7      4     4      5    3   5        10        1      4\\n634   1257366          3     1      1     1      2    1   1         1        1      2\\n635   1260659          3     1      4     1      2    1   1         1        1      2\\n636   1268952         10    10      7     8      7    1  10        10        3      4\\n637   1275807          4     2      4     3      2    2   2         1        1      2\\n638   1277792          4     1      1     1      2    1   1         1        1      2\\n639   1277792          5     1      1     3      2    1   1         1        1      2\\n640   1285722          4     1      1     3      2    1   1         1        1      2\\n641   1288608          3     1      1     1      2    1   2         1        1      2\\n642   1290203          3     1      1     1      2    1   2         1        1      2\\n643   1294413          1     1      1     1      2    1   1         1        1      2\\n644   1299596          2     1      1     1      2    1   1         1        1      2\\n645   1303489          3     1      1     1      2    1   2         1        1      2\\n646   1311033          1     2      2     1      2    1   1         1        1      2\\n647   1311108          1     1      1     3      2    1   1         1        1      2\\n648   1315807          5    10     10    10     10    2  10        10       10      4\\n649   1318671          3     1      1     1      2    1   2         1        1      2\\n650   1319609          3     1      1     2      3    4   1         1        1      2\\n651   1323477          1     2      1     3      2    1   2         1        1      2\\n652   1324572          5     1      1     1      2    1   2         2        1      2\\n653   1324681          4     1      1     1      2    1   2         1        1      2\\n654   1325159          3     1      1     1      2    1   3         1        1      2\\n655   1326892          3     1      1     1      2    1   2         1        1      2\\n656   1330361          5     1      1     1      2    1   2         1        1      2\\n657   1333877          5     4      5     1      8    1   3         6        1      2\\n658   1334015          7     8      8     7      3   10   7         2        3      4\\n659   1334667          1     1      1     1      2    1   1         1        1      2\\n660   1339781          1     1      1     1      2    1   2         1        1      2\\n661   1339781          4     1      1     1      2    1   3         1        1      2\\n662  13454352          1     1      3     1      2    1   2         1        1      2\\n663   1345452          1     1      3     1      2    1   2         1        1      2\\n664   1345593          3     1      1     3      2    1   2         1        1      2\\n665   1347749          1     1      1     1      2    1   1         1        1      2\\n666   1347943          5     2      2     2      2    1   1         1        2      2\\n667   1348851          3     1      1     1      2    1   3         1        1      2\\n668   1350319          5     7      4     1      6    1   7        10        3      4\\n669   1350423          5    10     10     8      5    5   7        10        1      4\\n670   1352848          3    10      7     8      5    8   7         4        1      4\\n671   1353092          3     2      1     2      2    1   3         1        1      2\\n672   1354840          2     1      1     1      2    1   3         1        1      2\\n673   1354840          5     3      2     1      3    1   1         1        1      2\\n674   1355260          1     1      1     1      2    1   2         1        1      2\\n675   1365075          4     1      4     1      2    1   1         1        1      2\\n676   1365328          1     1      2     1      2    1   2         1        1      2\\n677   1368267          5     1      1     1      2    1   1         1        1      2\\n678   1368273          1     1      1     1      2    1   1         1        1      2\\n679   1368882          2     1      1     1      2    1   1         1        1      2\\n680   1369821         10    10     10    10      5   10  10        10        7      4\\n681   1371026          5    10     10    10      4   10   5         6        3      4\\n682   1371920          5     1      1     1      2    1   3         2        1      2\\n683    466906          1     1      1     1      2    1   1         1        1      2\\n684    466906          1     1      1     1      2    1   1         1        1      2\\n685    534555          1     1      1     1      2    1   1         1        1      2\\n686    536708          1     1      1     1      2    1   1         1        1      2\\n687    566346          3     1      1     1      2    1   2         3        1      2\\n688    603148          4     1      1     1      2    1   1         1        1      2\\n689    654546          1     1      1     1      2    1   1         1        8      2\\n690    654546          1     1      1     3      2    1   1         1        1      2\\n691    695091          5    10     10     5      4    5   4         4        1      4\\n692    714039          3     1      1     1      2    1   1         1        1      2\\n693    763235          3     1      1     1      2    1   2         1        2      2\\n694    776715          3     1      1     1      3    2   1         1        1      2\\n695    841769          2     1      1     1      2    1   1         1        1      2\\n696    888820          5    10     10     3      7    3   8        10        2      4\\n697    897471          4     8      6     4      3    4  10         6        1      4\\n698    897471          4     8      8     5      4    5  10         4        1      4'"
            ],
            "application/vnd.google.colaboratory.intrinsic+json": {
              "type": "string"
            }
          },
          "metadata": {},
          "execution_count": 19
        }
      ]
    },
    {
      "cell_type": "markdown",
      "source": [
        "# Preprocess"
      ],
      "metadata": {
        "id": "-qRhNkSuuspy"
      }
    },
    {
      "cell_type": "code",
      "source": [
        "# Check if there are any '?' in the dataset\n",
        "contains_question_mark = (data_juan == '?').any().any()\n",
        "print(\"Does the dataset contain '?':\", contains_question_mark)\n",
        "\n",
        "# Count how many '?' are in the dataset\n",
        "question_mark_count = (data_juan == '?').sum().sum()\n",
        "print(\"Number of '?' in the dataset:\", question_mark_count)\n",
        "\n",
        "# Identify which columns have '?' and count them\n",
        "question_marks_per_column = (data_juan == '?').sum()\n",
        "print(\"Number of '?' per column:\")\n",
        "print(question_marks_per_column)"
      ],
      "metadata": {
        "colab": {
          "base_uri": "https://localhost:8080/"
        },
        "id": "U6s_iX1GunLT",
        "outputId": "08af56cc-1960-4be5-f777-5baa91b3f816"
      },
      "execution_count": 20,
      "outputs": [
        {
          "output_type": "stream",
          "name": "stdout",
          "text": [
            "Does the dataset contain '?': True\n",
            "Number of '?' in the dataset: 16\n",
            "Number of '?' per column:\n",
            "ID            0\n",
            "thickness     0\n",
            "size          0\n",
            "shape         0\n",
            "Marg          0\n",
            "Epith         0\n",
            "bare         16\n",
            "b1            0\n",
            "nucleoli      0\n",
            "Mitoses       0\n",
            "class         0\n",
            "dtype: int64\n"
          ]
        }
      ]
    },
    {
      "cell_type": "markdown",
      "source": [
        "3.\tReplace the ‘?’ mark in the ‘bare’ column by np.nan and change the type\n",
        " to ‘float’"
      ],
      "metadata": {
        "id": "4k6qAoMpviIm"
      }
    },
    {
      "cell_type": "code",
      "source": [
        "# Replace '?' with np.nan in the 'bare' column and convert to float\n",
        "data_juan['bare'] = data_juan['bare'].replace('?', np.nan).astype(float)\n",
        "\n",
        "# Print the updated column to verify changes\n",
        "print(data_juan['bare'])"
      ],
      "metadata": {
        "colab": {
          "base_uri": "https://localhost:8080/"
        },
        "id": "xbDed9UJvmU1",
        "outputId": "9cd4496a-21ac-4462-c8ce-2a4d24939573"
      },
      "execution_count": 21,
      "outputs": [
        {
          "output_type": "stream",
          "name": "stdout",
          "text": [
            "0       1.0\n",
            "1      10.0\n",
            "2       2.0\n",
            "3       4.0\n",
            "4       1.0\n",
            "       ... \n",
            "694     2.0\n",
            "695     1.0\n",
            "696     3.0\n",
            "697     4.0\n",
            "698     5.0\n",
            "Name: bare, Length: 699, dtype: float64\n"
          ]
        }
      ]
    },
    {
      "cell_type": "code",
      "source": [
        "# Identify which columns have '?' and count them\n",
        "question_marks_per_column = (data_juan == '?').sum()\n",
        "print(\"Number of '?' per column:\")\n",
        "print(question_marks_per_column)"
      ],
      "metadata": {
        "colab": {
          "base_uri": "https://localhost:8080/"
        },
        "id": "8niiam46wbWC",
        "outputId": "7d391350-0416-401f-b531-b8f06025b365"
      },
      "execution_count": 22,
      "outputs": [
        {
          "output_type": "stream",
          "name": "stdout",
          "text": [
            "Number of '?' per column:\n",
            "ID           0\n",
            "thickness    0\n",
            "size         0\n",
            "shape        0\n",
            "Marg         0\n",
            "Epith        0\n",
            "bare         0\n",
            "b1           0\n",
            "nucleoli     0\n",
            "Mitoses      0\n",
            "class        0\n",
            "dtype: int64\n"
          ]
        }
      ]
    },
    {
      "cell_type": "markdown",
      "source": [
        "4.\tFill any missing data with the median of the column"
      ],
      "metadata": {
        "id": "-nzpagj4xLic"
      }
    },
    {
      "cell_type": "code",
      "source": [
        "# Check for missing values in the dataset\n",
        "missing_data = data_juan.isna().sum()\n",
        "\n",
        "# Print the result\n",
        "print(\"Number of missing values in each column:\")\n",
        "print(missing_data)"
      ],
      "metadata": {
        "colab": {
          "base_uri": "https://localhost:8080/"
        },
        "id": "q4dGUK1vw-TE",
        "outputId": "74801333-549c-4d5c-b27a-c58f3ce100da"
      },
      "execution_count": 23,
      "outputs": [
        {
          "output_type": "stream",
          "name": "stdout",
          "text": [
            "Number of missing values in each column:\n",
            "ID            0\n",
            "thickness     0\n",
            "size          0\n",
            "shape         0\n",
            "Marg          0\n",
            "Epith         0\n",
            "bare         16\n",
            "b1            0\n",
            "nucleoli      0\n",
            "Mitoses       0\n",
            "class         0\n",
            "dtype: int64\n"
          ]
        }
      ]
    },
    {
      "cell_type": "code",
      "source": [
        "data_juan = data_juan.fillna(data_juan.median())"
      ],
      "metadata": {
        "id": "05aSff-Zxeu7"
      },
      "execution_count": 24,
      "outputs": []
    },
    {
      "cell_type": "code",
      "source": [
        "# Check for missing values in the dataset\n",
        "missing_data = data_juan.isna().sum()\n",
        "\n",
        "# Print the result\n",
        "print(\"Number of missing values in each column:\")\n",
        "print(missing_data)"
      ],
      "metadata": {
        "colab": {
          "base_uri": "https://localhost:8080/"
        },
        "id": "EY4auNYvxmzP",
        "outputId": "82aa1179-0f83-454e-a05a-57ec5a590851"
      },
      "execution_count": 25,
      "outputs": [
        {
          "output_type": "stream",
          "name": "stdout",
          "text": [
            "Number of missing values in each column:\n",
            "ID           0\n",
            "thickness    0\n",
            "size         0\n",
            "shape        0\n",
            "Marg         0\n",
            "Epith        0\n",
            "bare         0\n",
            "b1           0\n",
            "nucleoli     0\n",
            "Mitoses      0\n",
            "class        0\n",
            "dtype: int64\n"
          ]
        }
      ]
    },
    {
      "cell_type": "markdown",
      "source": [
        "5.\tDrop the ID column"
      ],
      "metadata": {
        "id": "wo77FjbIxuXv"
      }
    },
    {
      "cell_type": "code",
      "source": [
        "# Drop the 'ID' column from the dataset\n",
        "data_juan = data_juan.drop('ID', axis=1)\n",
        "\n",
        "# Print the DataFrame to verify that the column has been dropped\n",
        "print(data_juan)"
      ],
      "metadata": {
        "colab": {
          "base_uri": "https://localhost:8080/"
        },
        "id": "wD8uUhNCxrtQ",
        "outputId": "839d7d85-4b94-471e-c857-d4079a5d9ee6"
      },
      "execution_count": 26,
      "outputs": [
        {
          "output_type": "stream",
          "name": "stdout",
          "text": [
            "     thickness  size  shape  Marg  Epith  bare  b1  nucleoli  Mitoses  class\n",
            "0            5     1      1     1      2   1.0   3         1        1      2\n",
            "1            5     4      4     5      7  10.0   3         2        1      2\n",
            "2            3     1      1     1      2   2.0   3         1        1      2\n",
            "3            6     8      8     1      3   4.0   3         7        1      2\n",
            "4            4     1      1     3      2   1.0   3         1        1      2\n",
            "..         ...   ...    ...   ...    ...   ...  ..       ...      ...    ...\n",
            "694          3     1      1     1      3   2.0   1         1        1      2\n",
            "695          2     1      1     1      2   1.0   1         1        1      2\n",
            "696          5    10     10     3      7   3.0   8        10        2      4\n",
            "697          4     8      6     4      3   4.0  10         6        1      4\n",
            "698          4     8      8     5      4   5.0  10         4        1      4\n",
            "\n",
            "[699 rows x 10 columns]\n"
          ]
        }
      ]
    },
    {
      "cell_type": "code",
      "source": [
        "data_juan.head()"
      ],
      "metadata": {
        "colab": {
          "base_uri": "https://localhost:8080/",
          "height": 206
        },
        "id": "uU9LyTR1x7Mp",
        "outputId": "912c9fdb-5e44-4abd-ca62-94a78e221ad9"
      },
      "execution_count": 27,
      "outputs": [
        {
          "output_type": "execute_result",
          "data": {
            "text/plain": [
              "   thickness  size  shape  Marg  Epith  bare  b1  nucleoli  Mitoses  class\n",
              "0          5     1      1     1      2   1.0   3         1        1      2\n",
              "1          5     4      4     5      7  10.0   3         2        1      2\n",
              "2          3     1      1     1      2   2.0   3         1        1      2\n",
              "3          6     8      8     1      3   4.0   3         7        1      2\n",
              "4          4     1      1     3      2   1.0   3         1        1      2"
            ],
            "text/html": [
              "\n",
              "  <div id=\"df-33038eb3-3370-48f1-8131-623d50ab872d\" class=\"colab-df-container\">\n",
              "    <div>\n",
              "<style scoped>\n",
              "    .dataframe tbody tr th:only-of-type {\n",
              "        vertical-align: middle;\n",
              "    }\n",
              "\n",
              "    .dataframe tbody tr th {\n",
              "        vertical-align: top;\n",
              "    }\n",
              "\n",
              "    .dataframe thead th {\n",
              "        text-align: right;\n",
              "    }\n",
              "</style>\n",
              "<table border=\"1\" class=\"dataframe\">\n",
              "  <thead>\n",
              "    <tr style=\"text-align: right;\">\n",
              "      <th></th>\n",
              "      <th>thickness</th>\n",
              "      <th>size</th>\n",
              "      <th>shape</th>\n",
              "      <th>Marg</th>\n",
              "      <th>Epith</th>\n",
              "      <th>bare</th>\n",
              "      <th>b1</th>\n",
              "      <th>nucleoli</th>\n",
              "      <th>Mitoses</th>\n",
              "      <th>class</th>\n",
              "    </tr>\n",
              "  </thead>\n",
              "  <tbody>\n",
              "    <tr>\n",
              "      <th>0</th>\n",
              "      <td>5</td>\n",
              "      <td>1</td>\n",
              "      <td>1</td>\n",
              "      <td>1</td>\n",
              "      <td>2</td>\n",
              "      <td>1.0</td>\n",
              "      <td>3</td>\n",
              "      <td>1</td>\n",
              "      <td>1</td>\n",
              "      <td>2</td>\n",
              "    </tr>\n",
              "    <tr>\n",
              "      <th>1</th>\n",
              "      <td>5</td>\n",
              "      <td>4</td>\n",
              "      <td>4</td>\n",
              "      <td>5</td>\n",
              "      <td>7</td>\n",
              "      <td>10.0</td>\n",
              "      <td>3</td>\n",
              "      <td>2</td>\n",
              "      <td>1</td>\n",
              "      <td>2</td>\n",
              "    </tr>\n",
              "    <tr>\n",
              "      <th>2</th>\n",
              "      <td>3</td>\n",
              "      <td>1</td>\n",
              "      <td>1</td>\n",
              "      <td>1</td>\n",
              "      <td>2</td>\n",
              "      <td>2.0</td>\n",
              "      <td>3</td>\n",
              "      <td>1</td>\n",
              "      <td>1</td>\n",
              "      <td>2</td>\n",
              "    </tr>\n",
              "    <tr>\n",
              "      <th>3</th>\n",
              "      <td>6</td>\n",
              "      <td>8</td>\n",
              "      <td>8</td>\n",
              "      <td>1</td>\n",
              "      <td>3</td>\n",
              "      <td>4.0</td>\n",
              "      <td>3</td>\n",
              "      <td>7</td>\n",
              "      <td>1</td>\n",
              "      <td>2</td>\n",
              "    </tr>\n",
              "    <tr>\n",
              "      <th>4</th>\n",
              "      <td>4</td>\n",
              "      <td>1</td>\n",
              "      <td>1</td>\n",
              "      <td>3</td>\n",
              "      <td>2</td>\n",
              "      <td>1.0</td>\n",
              "      <td>3</td>\n",
              "      <td>1</td>\n",
              "      <td>1</td>\n",
              "      <td>2</td>\n",
              "    </tr>\n",
              "  </tbody>\n",
              "</table>\n",
              "</div>\n",
              "    <div class=\"colab-df-buttons\">\n",
              "\n",
              "  <div class=\"colab-df-container\">\n",
              "    <button class=\"colab-df-convert\" onclick=\"convertToInteractive('df-33038eb3-3370-48f1-8131-623d50ab872d')\"\n",
              "            title=\"Convert this dataframe to an interactive table.\"\n",
              "            style=\"display:none;\">\n",
              "\n",
              "  <svg xmlns=\"http://www.w3.org/2000/svg\" height=\"24px\" viewBox=\"0 -960 960 960\">\n",
              "    <path d=\"M120-120v-720h720v720H120Zm60-500h600v-160H180v160Zm220 220h160v-160H400v160Zm0 220h160v-160H400v160ZM180-400h160v-160H180v160Zm440 0h160v-160H620v160ZM180-180h160v-160H180v160Zm440 0h160v-160H620v160Z\"/>\n",
              "  </svg>\n",
              "    </button>\n",
              "\n",
              "  <style>\n",
              "    .colab-df-container {\n",
              "      display:flex;\n",
              "      gap: 12px;\n",
              "    }\n",
              "\n",
              "    .colab-df-convert {\n",
              "      background-color: #E8F0FE;\n",
              "      border: none;\n",
              "      border-radius: 50%;\n",
              "      cursor: pointer;\n",
              "      display: none;\n",
              "      fill: #1967D2;\n",
              "      height: 32px;\n",
              "      padding: 0 0 0 0;\n",
              "      width: 32px;\n",
              "    }\n",
              "\n",
              "    .colab-df-convert:hover {\n",
              "      background-color: #E2EBFA;\n",
              "      box-shadow: 0px 1px 2px rgba(60, 64, 67, 0.3), 0px 1px 3px 1px rgba(60, 64, 67, 0.15);\n",
              "      fill: #174EA6;\n",
              "    }\n",
              "\n",
              "    .colab-df-buttons div {\n",
              "      margin-bottom: 4px;\n",
              "    }\n",
              "\n",
              "    [theme=dark] .colab-df-convert {\n",
              "      background-color: #3B4455;\n",
              "      fill: #D2E3FC;\n",
              "    }\n",
              "\n",
              "    [theme=dark] .colab-df-convert:hover {\n",
              "      background-color: #434B5C;\n",
              "      box-shadow: 0px 1px 3px 1px rgba(0, 0, 0, 0.15);\n",
              "      filter: drop-shadow(0px 1px 2px rgba(0, 0, 0, 0.3));\n",
              "      fill: #FFFFFF;\n",
              "    }\n",
              "  </style>\n",
              "\n",
              "    <script>\n",
              "      const buttonEl =\n",
              "        document.querySelector('#df-33038eb3-3370-48f1-8131-623d50ab872d button.colab-df-convert');\n",
              "      buttonEl.style.display =\n",
              "        google.colab.kernel.accessAllowed ? 'block' : 'none';\n",
              "\n",
              "      async function convertToInteractive(key) {\n",
              "        const element = document.querySelector('#df-33038eb3-3370-48f1-8131-623d50ab872d');\n",
              "        const dataTable =\n",
              "          await google.colab.kernel.invokeFunction('convertToInteractive',\n",
              "                                                    [key], {});\n",
              "        if (!dataTable) return;\n",
              "\n",
              "        const docLinkHtml = 'Like what you see? Visit the ' +\n",
              "          '<a target=\"_blank\" href=https://colab.research.google.com/notebooks/data_table.ipynb>data table notebook</a>'\n",
              "          + ' to learn more about interactive tables.';\n",
              "        element.innerHTML = '';\n",
              "        dataTable['output_type'] = 'display_data';\n",
              "        await google.colab.output.renderOutput(dataTable, element);\n",
              "        const docLink = document.createElement('div');\n",
              "        docLink.innerHTML = docLinkHtml;\n",
              "        element.appendChild(docLink);\n",
              "      }\n",
              "    </script>\n",
              "  </div>\n",
              "\n",
              "\n",
              "<div id=\"df-2b348602-a21c-456f-b24a-df2158066f94\">\n",
              "  <button class=\"colab-df-quickchart\" onclick=\"quickchart('df-2b348602-a21c-456f-b24a-df2158066f94')\"\n",
              "            title=\"Suggest charts\"\n",
              "            style=\"display:none;\">\n",
              "\n",
              "<svg xmlns=\"http://www.w3.org/2000/svg\" height=\"24px\"viewBox=\"0 0 24 24\"\n",
              "     width=\"24px\">\n",
              "    <g>\n",
              "        <path d=\"M19 3H5c-1.1 0-2 .9-2 2v14c0 1.1.9 2 2 2h14c1.1 0 2-.9 2-2V5c0-1.1-.9-2-2-2zM9 17H7v-7h2v7zm4 0h-2V7h2v10zm4 0h-2v-4h2v4z\"/>\n",
              "    </g>\n",
              "</svg>\n",
              "  </button>\n",
              "\n",
              "<style>\n",
              "  .colab-df-quickchart {\n",
              "      --bg-color: #E8F0FE;\n",
              "      --fill-color: #1967D2;\n",
              "      --hover-bg-color: #E2EBFA;\n",
              "      --hover-fill-color: #174EA6;\n",
              "      --disabled-fill-color: #AAA;\n",
              "      --disabled-bg-color: #DDD;\n",
              "  }\n",
              "\n",
              "  [theme=dark] .colab-df-quickchart {\n",
              "      --bg-color: #3B4455;\n",
              "      --fill-color: #D2E3FC;\n",
              "      --hover-bg-color: #434B5C;\n",
              "      --hover-fill-color: #FFFFFF;\n",
              "      --disabled-bg-color: #3B4455;\n",
              "      --disabled-fill-color: #666;\n",
              "  }\n",
              "\n",
              "  .colab-df-quickchart {\n",
              "    background-color: var(--bg-color);\n",
              "    border: none;\n",
              "    border-radius: 50%;\n",
              "    cursor: pointer;\n",
              "    display: none;\n",
              "    fill: var(--fill-color);\n",
              "    height: 32px;\n",
              "    padding: 0;\n",
              "    width: 32px;\n",
              "  }\n",
              "\n",
              "  .colab-df-quickchart:hover {\n",
              "    background-color: var(--hover-bg-color);\n",
              "    box-shadow: 0 1px 2px rgba(60, 64, 67, 0.3), 0 1px 3px 1px rgba(60, 64, 67, 0.15);\n",
              "    fill: var(--button-hover-fill-color);\n",
              "  }\n",
              "\n",
              "  .colab-df-quickchart-complete:disabled,\n",
              "  .colab-df-quickchart-complete:disabled:hover {\n",
              "    background-color: var(--disabled-bg-color);\n",
              "    fill: var(--disabled-fill-color);\n",
              "    box-shadow: none;\n",
              "  }\n",
              "\n",
              "  .colab-df-spinner {\n",
              "    border: 2px solid var(--fill-color);\n",
              "    border-color: transparent;\n",
              "    border-bottom-color: var(--fill-color);\n",
              "    animation:\n",
              "      spin 1s steps(1) infinite;\n",
              "  }\n",
              "\n",
              "  @keyframes spin {\n",
              "    0% {\n",
              "      border-color: transparent;\n",
              "      border-bottom-color: var(--fill-color);\n",
              "      border-left-color: var(--fill-color);\n",
              "    }\n",
              "    20% {\n",
              "      border-color: transparent;\n",
              "      border-left-color: var(--fill-color);\n",
              "      border-top-color: var(--fill-color);\n",
              "    }\n",
              "    30% {\n",
              "      border-color: transparent;\n",
              "      border-left-color: var(--fill-color);\n",
              "      border-top-color: var(--fill-color);\n",
              "      border-right-color: var(--fill-color);\n",
              "    }\n",
              "    40% {\n",
              "      border-color: transparent;\n",
              "      border-right-color: var(--fill-color);\n",
              "      border-top-color: var(--fill-color);\n",
              "    }\n",
              "    60% {\n",
              "      border-color: transparent;\n",
              "      border-right-color: var(--fill-color);\n",
              "    }\n",
              "    80% {\n",
              "      border-color: transparent;\n",
              "      border-right-color: var(--fill-color);\n",
              "      border-bottom-color: var(--fill-color);\n",
              "    }\n",
              "    90% {\n",
              "      border-color: transparent;\n",
              "      border-bottom-color: var(--fill-color);\n",
              "    }\n",
              "  }\n",
              "</style>\n",
              "\n",
              "  <script>\n",
              "    async function quickchart(key) {\n",
              "      const quickchartButtonEl =\n",
              "        document.querySelector('#' + key + ' button');\n",
              "      quickchartButtonEl.disabled = true;  // To prevent multiple clicks.\n",
              "      quickchartButtonEl.classList.add('colab-df-spinner');\n",
              "      try {\n",
              "        const charts = await google.colab.kernel.invokeFunction(\n",
              "            'suggestCharts', [key], {});\n",
              "      } catch (error) {\n",
              "        console.error('Error during call to suggestCharts:', error);\n",
              "      }\n",
              "      quickchartButtonEl.classList.remove('colab-df-spinner');\n",
              "      quickchartButtonEl.classList.add('colab-df-quickchart-complete');\n",
              "    }\n",
              "    (() => {\n",
              "      let quickchartButtonEl =\n",
              "        document.querySelector('#df-2b348602-a21c-456f-b24a-df2158066f94 button');\n",
              "      quickchartButtonEl.style.display =\n",
              "        google.colab.kernel.accessAllowed ? 'block' : 'none';\n",
              "    })();\n",
              "  </script>\n",
              "</div>\n",
              "\n",
              "    </div>\n",
              "  </div>\n"
            ],
            "application/vnd.google.colaboratory.intrinsic+json": {
              "type": "dataframe",
              "variable_name": "data_juan",
              "summary": "{\n  \"name\": \"data_juan\",\n  \"rows\": 699,\n  \"fields\": [\n    {\n      \"column\": \"thickness\",\n      \"properties\": {\n        \"dtype\": \"number\",\n        \"std\": 2,\n        \"min\": 1,\n        \"max\": 10,\n        \"num_unique_values\": 10,\n        \"samples\": [\n          10,\n          3,\n          1\n        ],\n        \"semantic_type\": \"\",\n        \"description\": \"\"\n      }\n    },\n    {\n      \"column\": \"size\",\n      \"properties\": {\n        \"dtype\": \"number\",\n        \"std\": 3,\n        \"min\": 1,\n        \"max\": 10,\n        \"num_unique_values\": 10,\n        \"samples\": [\n          6,\n          4,\n          3\n        ],\n        \"semantic_type\": \"\",\n        \"description\": \"\"\n      }\n    },\n    {\n      \"column\": \"shape\",\n      \"properties\": {\n        \"dtype\": \"number\",\n        \"std\": 2,\n        \"min\": 1,\n        \"max\": 10,\n        \"num_unique_values\": 10,\n        \"samples\": [\n          7,\n          4,\n          3\n        ],\n        \"semantic_type\": \"\",\n        \"description\": \"\"\n      }\n    },\n    {\n      \"column\": \"Marg\",\n      \"properties\": {\n        \"dtype\": \"number\",\n        \"std\": 2,\n        \"min\": 1,\n        \"max\": 10,\n        \"num_unique_values\": 10,\n        \"samples\": [\n          9,\n          5,\n          4\n        ],\n        \"semantic_type\": \"\",\n        \"description\": \"\"\n      }\n    },\n    {\n      \"column\": \"Epith\",\n      \"properties\": {\n        \"dtype\": \"number\",\n        \"std\": 2,\n        \"min\": 1,\n        \"max\": 10,\n        \"num_unique_values\": 10,\n        \"samples\": [\n          10,\n          7,\n          4\n        ],\n        \"semantic_type\": \"\",\n        \"description\": \"\"\n      }\n    },\n    {\n      \"column\": \"bare\",\n      \"properties\": {\n        \"dtype\": \"number\",\n        \"std\": 3.621928772480851,\n        \"min\": 1.0,\n        \"max\": 10.0,\n        \"num_unique_values\": 10,\n        \"samples\": [\n          8.0,\n          10.0,\n          9.0\n        ],\n        \"semantic_type\": \"\",\n        \"description\": \"\"\n      }\n    },\n    {\n      \"column\": \"b1\",\n      \"properties\": {\n        \"dtype\": \"number\",\n        \"std\": 2,\n        \"min\": 1,\n        \"max\": 10,\n        \"num_unique_values\": 10,\n        \"samples\": [\n          6,\n          9,\n          5\n        ],\n        \"semantic_type\": \"\",\n        \"description\": \"\"\n      }\n    },\n    {\n      \"column\": \"nucleoli\",\n      \"properties\": {\n        \"dtype\": \"number\",\n        \"std\": 3,\n        \"min\": 1,\n        \"max\": 10,\n        \"num_unique_values\": 10,\n        \"samples\": [\n          9,\n          2,\n          3\n        ],\n        \"semantic_type\": \"\",\n        \"description\": \"\"\n      }\n    },\n    {\n      \"column\": \"Mitoses\",\n      \"properties\": {\n        \"dtype\": \"number\",\n        \"std\": 1,\n        \"min\": 1,\n        \"max\": 10,\n        \"num_unique_values\": 9,\n        \"samples\": [\n          8,\n          5,\n          7\n        ],\n        \"semantic_type\": \"\",\n        \"description\": \"\"\n      }\n    },\n    {\n      \"column\": \"class\",\n      \"properties\": {\n        \"dtype\": \"number\",\n        \"std\": 0,\n        \"min\": 2,\n        \"max\": 4,\n        \"num_unique_values\": 2,\n        \"samples\": [\n          4,\n          2\n        ],\n        \"semantic_type\": \"\",\n        \"description\": \"\"\n      }\n    }\n  ]\n}"
            }
          },
          "metadata": {},
          "execution_count": 27
        }
      ]
    },
    {
      "cell_type": "markdown",
      "source": [
        "6.\tUsing Pandas, Matplotlib, seaborn (you can use any or a mix)\n",
        "generate 3-5 plots and add them to your written response explaining\n",
        "what are the key insights and findings from the plots"
      ],
      "metadata": {
        "id": "K8sJwZ5-zERj"
      }
    },
    {
      "cell_type": "code",
      "source": [
        "import matplotlib.pyplot as plt\n",
        "import seaborn as sns\n",
        "\n",
        "# Heatmap of correlation matrix\n",
        "corr = data_juan.corr()\n",
        "sns.heatmap(corr, annot=True, cmap='coolwarm')\n",
        "plt.title('Correlation Matrix')\n",
        "plt.show()"
      ],
      "metadata": {
        "colab": {
          "base_uri": "https://localhost:8080/",
          "height": 505
        },
        "id": "t4dU8hS4x-wy",
        "outputId": "5f954039-4324-4872-f441-9972d84afed8"
      },
      "execution_count": 28,
      "outputs": [
        {
          "output_type": "display_data",
          "data": {
            "text/plain": [
              "<Figure size 640x480 with 2 Axes>"
            ],
            "image/png": "[encoded data removed]"
          },
          "metadata": {}
        }
      ]
    },
    {
      "cell_type": "code",
      "source": [
        "# Histogram\n",
        "data_juan['thickness'].hist()\n",
        "plt.title('Distribution of thickness')\n",
        "plt.xlabel('thickness')\n",
        "plt.ylabel('frequency')\n",
        "#plt.savefig(r'C:\\Users\\Jbaru\\OneDrive\\Documents\\MEGA\\Centennial\\Semester2\\Supervised_learning\\Assignments\\Assignment#2\\images_assign_2\\ex1_hist.png', dpi=300)\n",
        "plt.show()"
      ],
      "metadata": {
        "colab": {
          "base_uri": "https://localhost:8080/",
          "height": 478
        },
        "id": "TC5wSg73zRwK",
        "outputId": "edc23c27-47e5-4ff7-a532-75e30941788d"
      },
      "execution_count": 29,
      "outputs": [
        {
          "output_type": "display_data",
          "data": {
            "text/plain": [
              "<Figure size 640x480 with 1 Axes>"
            ],
            "image/png": "[encoded data removed]"
          },
          "metadata": {}
        }
      ]
    },
    {
      "cell_type": "code",
      "source": [
        "# Scatterplot\n",
        "sns.scatterplot(x='shape', y='size', data=data_juan)\n",
        "plt.title('Relationship between shape and size')\n",
        "#plt.savefig(r'C:\\Users\\Jbaru\\OneDrive\\Documents\\MEGA\\Centennial\\Semester2\\Supervised_learning\\Assignments\\Assignment#2\\images_assign_2\\ex1_scatter.png', dpi=300)\n",
        "plt.show()"
      ],
      "metadata": {
        "colab": {
          "base_uri": "https://localhost:8080/",
          "height": 478
        },
        "id": "yxjHHWyhzXcP",
        "outputId": "062a9ce7-1420-4141-adc2-90e9ce195ac2"
      },
      "execution_count": 30,
      "outputs": [
        {
          "output_type": "display_data",
          "data": {
            "text/plain": [
              "<Figure size 640x480 with 1 Axes>"
            ],
            "image/png": "[encoded data removed]"
          },
          "metadata": {}
        }
      ]
    },
    {
      "cell_type": "code",
      "source": [
        "# Barplots\n",
        "data_juan['size'].value_counts().plot(kind='bar')\n",
        "plt.title('Comparison of size')\n",
        "plt.xlabel('Categories')\n",
        "plt.ylabel('Count')\n",
        "#plt.savefig(r'C:\\Users\\Jbaru\\OneDrive\\Documents\\MEGA\\Centennial\\Semester2\\Supervised_learning\\Assignments\\Assignment#2\\images_assign_2\\ex1_barplot.png', dpi=300)\n",
        "plt.show()"
      ],
      "metadata": {
        "colab": {
          "base_uri": "https://localhost:8080/",
          "height": 481
        },
        "id": "P-tK2Dyfzcfy",
        "outputId": "fac6e1dd-a8a9-41e6-b733-1d6e4d10965f"
      },
      "execution_count": 31,
      "outputs": [
        {
          "output_type": "display_data",
          "data": {
            "text/plain": [
              "<Figure size 640x480 with 1 Axes>"
            ],
            "image/png": "[encoded data removed]"
          },
          "metadata": {}
        }
      ]
    },
    {
      "cell_type": "code",
      "source": [
        "# Boxplots\n",
        "sns.boxplot(y='size', data=data_juan)\n",
        "plt.title('Box plot of size')\n",
        "#plt.savefig(r'C:\\Users\\Jbaru\\OneDrive\\Documents\\MEGA\\Centennial\\Semester2\\Supervised_learning\\Assignments\\Assignment#2\\images_assign_2\\ex1_boxplot.png', dpi=300)\n",
        "plt.show()"
      ],
      "metadata": {
        "colab": {
          "base_uri": "https://localhost:8080/",
          "height": 434
        },
        "id": "XU5oCdtQzhTN",
        "outputId": "f8d00c2b-9562-4858-c2a8-de80f86fb147"
      },
      "execution_count": 32,
      "outputs": [
        {
          "output_type": "display_data",
          "data": {
            "text/plain": [
              "<Figure size 640x480 with 1 Axes>"
            ],
            "image/png": "[encoded data removed]"
          },
          "metadata": {}
        }
      ]
    },
    {
      "cell_type": "markdown",
      "source": [
        "7.\tSeparate the features from the class"
      ],
      "metadata": {
        "id": "CGGvfwolz10-"
      }
    },
    {
      "cell_type": "code",
      "source": [
        "data_juan.keys()"
      ],
      "metadata": {
        "colab": {
          "base_uri": "https://localhost:8080/"
        },
        "id": "rLLHZvxzz2jF",
        "outputId": "d3d7378f-a82b-45ec-b2b0-fade4414abf9"
      },
      "execution_count": 33,
      "outputs": [
        {
          "output_type": "execute_result",
          "data": {
            "text/plain": [
              "Index(['thickness', 'size', 'shape', 'Marg', 'Epith', 'bare', 'b1', 'nucleoli',\n",
              "       'Mitoses', 'class'],\n",
              "      dtype='object')"
            ]
          },
          "metadata": {},
          "execution_count": 33
        }
      ]
    },
    {
      "cell_type": "code",
      "source": [
        "X = data_juan.drop('class', axis=1)\n",
        "y = data_juan['class']"
      ],
      "metadata": {
        "id": "rSRrHZzvz5nm"
      },
      "execution_count": 34,
      "outputs": []
    },
    {
      "cell_type": "code",
      "source": [
        "X.keys()"
      ],
      "metadata": {
        "colab": {
          "base_uri": "https://localhost:8080/"
        },
        "id": "vf1Mu9hV0ecN",
        "outputId": "823b383a-4282-40eb-a380-7a482582f5c4"
      },
      "execution_count": 35,
      "outputs": [
        {
          "output_type": "execute_result",
          "data": {
            "text/plain": [
              "Index(['thickness', 'size', 'shape', 'Marg', 'Epith', 'bare', 'b1', 'nucleoli',\n",
              "       'Mitoses'],\n",
              "      dtype='object')"
            ]
          },
          "metadata": {},
          "execution_count": 35
        }
      ]
    },
    {
      "cell_type": "markdown",
      "source": [
        "8.\tSplit your data into train 80% train and 20% test, use the last\n",
        " two digits of your student number for the seed"
      ],
      "metadata": {
        "id": "3eEGyw1Q0q2Q"
      }
    },
    {
      "cell_type": "code",
      "source": [
        "from sklearn.model_selection import train_test_split\n",
        "X_train, X_test, y_train, y_test = train_test_split(X, y, test_size=0.2, random_state=92)"
      ],
      "metadata": {
        "id": "TE3JStem0hpR"
      },
      "execution_count": 36,
      "outputs": []
    },
    {
      "cell_type": "markdown",
      "source": [
        "9.\tTrain an SVM classifier using the training data, set the kernel to\n",
        " linear and set the regularization parameter to C= 0.1. Name the classifier\n",
        " clf_linear_firstname."
      ],
      "metadata": {
        "id": "9eatyABS1hqE"
      }
    },
    {
      "cell_type": "code",
      "source": [
        "from sklearn.svm import SVC\n",
        "clf_linear_juan = SVC(kernel='linear', C=0.1)"
      ],
      "metadata": {
        "id": "V70o--Un0jR9"
      },
      "execution_count": 37,
      "outputs": []
    },
    {
      "cell_type": "code",
      "source": [
        "# train the classifier\n",
        "clf_linear_juan.fit(X_train, y_train)"
      ],
      "metadata": {
        "colab": {
          "base_uri": "https://localhost:8080/",
          "height": 74
        },
        "id": "HyIOVv4s1vd_",
        "outputId": "192fda7e-a43d-4acc-8dcc-3d8041224f32"
      },
      "execution_count": 38,
      "outputs": [
        {
          "output_type": "execute_result",
          "data": {
            "text/plain": [
              "SVC(C=0.1, kernel='linear')"
            ],
            "text/html": [
              "<style>#sk-container-id-1 {color: black;background-color: white;}#sk-container-id-1 pre{padding: 0;}#sk-container-id-1 div.sk-toggleable {background-color: white;}#sk-container-id-1 label.sk-toggleable__label {cursor: pointer;display: block;width: 100%;margin-bottom: 0;padding: 0.3em;box-sizing: border-box;text-align: center;}#sk-container-id-1 label.sk-toggleable__label-arrow:before {content: \"▸\";float: left;margin-right: 0.25em;color: #696969;}#sk-container-id-1 label.sk-toggleable__label-arrow:hover:before {color: black;}#sk-container-id-1 div.sk-estimator:hover label.sk-toggleable__label-arrow:before {color: black;}#sk-container-id-1 div.sk-toggleable__content {max-height: 0;max-width: 0;overflow: hidden;text-align: left;background-color: #f0f8ff;}#sk-container-id-1 div.sk-toggleable__content pre {margin: 0.2em;color: black;border-radius: 0.25em;background-color: #f0f8ff;}#sk-container-id-1 input.sk-toggleable__control:checked~div.sk-toggleable__content {max-height: 200px;max-width: 100%;overflow: auto;}#sk-container-id-1 input.sk-toggleable__control:checked~label.sk-toggleable__label-arrow:before {content: \"▾\";}#sk-container-id-1 div.sk-estimator input.sk-toggleable__control:checked~label.sk-toggleable__label {background-color: #d4ebff;}#sk-container-id-1 div.sk-label input.sk-toggleable__control:checked~label.sk-toggleable__label {background-color: #d4ebff;}#sk-container-id-1 input.sk-hidden--visually {border: 0;clip: rect(1px 1px 1px 1px);clip: rect(1px, 1px, 1px, 1px);height: 1px;margin: -1px;overflow: hidden;padding: 0;position: absolute;width: 1px;}#sk-container-id-1 div.sk-estimator {font-family: monospace;background-color: #f0f8ff;border: 1px dotted black;border-radius: 0.25em;box-sizing: border-box;margin-bottom: 0.5em;}#sk-container-id-1 div.sk-estimator:hover {background-color: #d4ebff;}#sk-container-id-1 div.sk-parallel-item::after {content: \"\";width: 100%;border-bottom: 1px solid gray;flex-grow: 1;}#sk-container-id-1 div.sk-label:hover label.sk-toggleable__label {background-color: #d4ebff;}#sk-container-id-1 div.sk-serial::before {content: \"\";position: absolute;border-left: 1px solid gray;box-sizing: border-box;top: 0;bottom: 0;left: 50%;z-index: 0;}#sk-container-id-1 div.sk-serial {display: flex;flex-direction: column;align-items: center;background-color: white;padding-right: 0.2em;padding-left: 0.2em;position: relative;}#sk-container-id-1 div.sk-item {position: relative;z-index: 1;}#sk-container-id-1 div.sk-parallel {display: flex;align-items: stretch;justify-content: center;background-color: white;position: relative;}#sk-container-id-1 div.sk-item::before, #sk-container-id-1 div.sk-parallel-item::before {content: \"\";position: absolute;border-left: 1px solid gray;box-sizing: border-box;top: 0;bottom: 0;left: 50%;z-index: -1;}#sk-container-id-1 div.sk-parallel-item {display: flex;flex-direction: column;z-index: 1;position: relative;background-color: white;}#sk-container-id-1 div.sk-parallel-item:first-child::after {align-self: flex-end;width: 50%;}#sk-container-id-1 div.sk-parallel-item:last-child::after {align-self: flex-start;width: 50%;}#sk-container-id-1 div.sk-parallel-item:only-child::after {width: 0;}#sk-container-id-1 div.sk-dashed-wrapped {border: 1px dashed gray;margin: 0 0.4em 0.5em 0.4em;box-sizing: border-box;padding-bottom: 0.4em;background-color: white;}#sk-container-id-1 div.sk-label label {font-family: monospace;font-weight: bold;display: inline-block;line-height: 1.2em;}#sk-container-id-1 div.sk-label-container {text-align: center;}#sk-container-id-1 div.sk-container {/* jupyter's `normalize.less` sets `[hidden] { display: none; }` but bootstrap.min.css set `[hidden] { display: none !important; }` so we also need the `!important` here to be able to override the default hidden behavior on the sphinx rendered scikit-learn.org. See: https://github.com/scikit-learn/scikit-learn/issues/21755 */display: inline-block !important;position: relative;}#sk-container-id-1 div.sk-text-repr-fallback {display: none;}</style><div id=\"sk-container-id-1\" class=\"sk-top-container\"><div class=\"sk-text-repr-fallback\"><pre>SVC(C=0.1, kernel=&#x27;linear&#x27;)</pre><b>In a Jupyter environment, please rerun this cell to show the HTML representation or trust the notebook. <br />On GitHub, the HTML representation is unable to render, please try loading this page with nbviewer.org.</b></div><div class=\"sk-container\" hidden><div class=\"sk-item\"><div class=\"sk-estimator sk-toggleable\"><input class=\"sk-toggleable__control sk-hidden--visually\" id=\"sk-estimator-id-1\" type=\"checkbox\" checked><label for=\"sk-estimator-id-1\" class=\"sk-toggleable__label sk-toggleable__label-arrow\">SVC</label><div class=\"sk-toggleable__content\"><pre>SVC(C=0.1, kernel=&#x27;linear&#x27;)</pre></div></div></div></div></div>"
            ]
          },
          "metadata": {},
          "execution_count": 38
        }
      ]
    },
    {
      "cell_type": "markdown",
      "source": [
        "10.\tPrint out two accuracy score one for the model on the training set\n",
        " i.e. X_train, y_train and the other on the testing set i.e. X_test, y_test.\n",
        " Record both results in your written response."
      ],
      "metadata": {
        "id": "6JVsyRqH157p"
      }
    },
    {
      "cell_type": "code",
      "source": [
        "train_accuracy = clf_linear_juan.score(X_train, y_train)\n",
        "test_accuracy = clf_linear_juan.score(X_test, y_test)\n",
        "print(f\"Training Accuracy: {train_accuracy*100:.2f}%\")\n",
        "print(f\"Testing Accuracy: {test_accuracy*100:.2f}%\")"
      ],
      "metadata": {
        "colab": {
          "base_uri": "https://localhost:8080/"
        },
        "id": "-5v9oPVN10NN",
        "outputId": "43256e96-e982-4d61-f70e-9727196eef24"
      },
      "execution_count": 39,
      "outputs": [
        {
          "output_type": "stream",
          "name": "stdout",
          "text": [
            "Training Accuracy: 96.96%\n",
            "Testing Accuracy: 96.43%\n"
          ]
        }
      ]
    },
    {
      "cell_type": "markdown",
      "source": [
        "11.\tGenerate the accuracy matrix. Record the results in your written response.\n",
        "Support vector machine classifier with “rbf” kernel"
      ],
      "metadata": {
        "id": "T4kTZxe92iI9"
      }
    },
    {
      "cell_type": "code",
      "source": [
        "y_pred = clf_linear_juan.predict(X_test)"
      ],
      "metadata": {
        "id": "ew8LenIv1_as"
      },
      "execution_count": 40,
      "outputs": []
    },
    {
      "cell_type": "code",
      "source": [
        "# Compute the confusion matrix\n",
        "from sklearn.metrics import confusion_matrix\n",
        "cm = confusion_matrix(y_test, y_pred)\n",
        "print(\"Confusion Matrix:\")\n",
        "print(cm)"
      ],
      "metadata": {
        "colab": {
          "base_uri": "https://localhost:8080/"
        },
        "id": "19tmvua521hS",
        "outputId": "570ad712-7736-4e22-c237-0a4ddaf350be"
      },
      "execution_count": 41,
      "outputs": [
        {
          "output_type": "stream",
          "name": "stdout",
          "text": [
            "Confusion Matrix:\n",
            "[[92  3]\n",
            " [ 2 43]]\n"
          ]
        }
      ]
    },
    {
      "cell_type": "code",
      "source": [
        "# compute accuracy\n",
        "from sklearn.metrics import accuracy_score\n",
        "accuracy = accuracy_score(y_test, y_pred)\n",
        "print(f\"Accuracy: {accuracy*100:.2f}%\")"
      ],
      "metadata": {
        "colab": {
          "base_uri": "https://localhost:8080/"
        },
        "id": "S85HRITj29ov",
        "outputId": "3da6ca28-0711-4f41-cc1d-ba5b9036c28d"
      },
      "execution_count": 42,
      "outputs": [
        {
          "output_type": "stream",
          "name": "stdout",
          "text": [
            "Accuracy: 96.43%\n"
          ]
        }
      ]
    },
    {
      "cell_type": "code",
      "source": [
        "# compute cross_validation scores\n",
        "from sklearn.model_selection import cross_val_score\n",
        "scores = cross_val_score(clf_linear_juan, X, y, cv=3, scoring=\"accuracy\")\n",
        "print(f\"Cross-Validation Scores: {scores}\")\n",
        "print(f\"Average Cross-Validation Score: {scores.mean()*100:.2f}%\")"
      ],
      "metadata": {
        "colab": {
          "base_uri": "https://localhost:8080/"
        },
        "id": "t2a5QJI23H4U",
        "outputId": "4a82b3fd-74a6-4ec3-9a0d-60b5d7ec1f5f"
      },
      "execution_count": 43,
      "outputs": [
        {
          "output_type": "stream",
          "name": "stdout",
          "text": [
            "Cross-Validation Scores: [0.93991416 0.96995708 0.98283262]\n",
            "Average Cross-Validation Score: 96.42%\n"
          ]
        }
      ]
    },
    {
      "cell_type": "markdown",
      "source": [
        "12.\tRepeat steps 9 to 11, in step 9 change the kernel to “rbf” and do not\n",
        "set any value for C"
      ],
      "metadata": {
        "id": "3Olbg-Sl30SM"
      }
    },
    {
      "cell_type": "code",
      "source": [
        "# Step 9: Train an SVM classifier with \"rbf\" kernel\n",
        "clf_rbf_juan = SVC(kernel='rbf')\n"
      ],
      "metadata": {
        "id": "eJ5rkJcS3jCY"
      },
      "execution_count": 44,
      "outputs": []
    },
    {
      "cell_type": "code",
      "source": [
        "# train SVM classifier\n",
        "clf_rbf_juan.fit(X_train, y_train)"
      ],
      "metadata": {
        "colab": {
          "base_uri": "https://localhost:8080/",
          "height": 74
        },
        "id": "GXC0VvWz4Obl",
        "outputId": "fd2dbedb-b1e4-477f-aace-715489f66f1c"
      },
      "execution_count": 45,
      "outputs": [
        {
          "output_type": "execute_result",
          "data": {
            "text/plain": [
              "SVC()"
            ],
            "text/html": [
              "<style>#sk-container-id-2 {color: black;background-color: white;}#sk-container-id-2 pre{padding: 0;}#sk-container-id-2 div.sk-toggleable {background-color: white;}#sk-container-id-2 label.sk-toggleable__label {cursor: pointer;display: block;width: 100%;margin-bottom: 0;padding: 0.3em;box-sizing: border-box;text-align: center;}#sk-container-id-2 label.sk-toggleable__label-arrow:before {content: \"▸\";float: left;margin-right: 0.25em;color: #696969;}#sk-container-id-2 label.sk-toggleable__label-arrow:hover:before {color: black;}#sk-container-id-2 div.sk-estimator:hover label.sk-toggleable__label-arrow:before {color: black;}#sk-container-id-2 div.sk-toggleable__content {max-height: 0;max-width: 0;overflow: hidden;text-align: left;background-color: #f0f8ff;}#sk-container-id-2 div.sk-toggleable__content pre {margin: 0.2em;color: black;border-radius: 0.25em;background-color: #f0f8ff;}#sk-container-id-2 input.sk-toggleable__control:checked~div.sk-toggleable__content {max-height: 200px;max-width: 100%;overflow: auto;}#sk-container-id-2 input.sk-toggleable__control:checked~label.sk-toggleable__label-arrow:before {content: \"▾\";}#sk-container-id-2 div.sk-estimator input.sk-toggleable__control:checked~label.sk-toggleable__label {background-color: #d4ebff;}#sk-container-id-2 div.sk-label input.sk-toggleable__control:checked~label.sk-toggleable__label {background-color: #d4ebff;}#sk-container-id-2 input.sk-hidden--visually {border: 0;clip: rect(1px 1px 1px 1px);clip: rect(1px, 1px, 1px, 1px);height: 1px;margin: -1px;overflow: hidden;padding: 0;position: absolute;width: 1px;}#sk-container-id-2 div.sk-estimator {font-family: monospace;background-color: #f0f8ff;border: 1px dotted black;border-radius: 0.25em;box-sizing: border-box;margin-bottom: 0.5em;}#sk-container-id-2 div.sk-estimator:hover {background-color: #d4ebff;}#sk-container-id-2 div.sk-parallel-item::after {content: \"\";width: 100%;border-bottom: 1px solid gray;flex-grow: 1;}#sk-container-id-2 div.sk-label:hover label.sk-toggleable__label {background-color: #d4ebff;}#sk-container-id-2 div.sk-serial::before {content: \"\";position: absolute;border-left: 1px solid gray;box-sizing: border-box;top: 0;bottom: 0;left: 50%;z-index: 0;}#sk-container-id-2 div.sk-serial {display: flex;flex-direction: column;align-items: center;background-color: white;padding-right: 0.2em;padding-left: 0.2em;position: relative;}#sk-container-id-2 div.sk-item {position: relative;z-index: 1;}#sk-container-id-2 div.sk-parallel {display: flex;align-items: stretch;justify-content: center;background-color: white;position: relative;}#sk-container-id-2 div.sk-item::before, #sk-container-id-2 div.sk-parallel-item::before {content: \"\";position: absolute;border-left: 1px solid gray;box-sizing: border-box;top: 0;bottom: 0;left: 50%;z-index: -1;}#sk-container-id-2 div.sk-parallel-item {display: flex;flex-direction: column;z-index: 1;position: relative;background-color: white;}#sk-container-id-2 div.sk-parallel-item:first-child::after {align-self: flex-end;width: 50%;}#sk-container-id-2 div.sk-parallel-item:last-child::after {align-self: flex-start;width: 50%;}#sk-container-id-2 div.sk-parallel-item:only-child::after {width: 0;}#sk-container-id-2 div.sk-dashed-wrapped {border: 1px dashed gray;margin: 0 0.4em 0.5em 0.4em;box-sizing: border-box;padding-bottom: 0.4em;background-color: white;}#sk-container-id-2 div.sk-label label {font-family: monospace;font-weight: bold;display: inline-block;line-height: 1.2em;}#sk-container-id-2 div.sk-label-container {text-align: center;}#sk-container-id-2 div.sk-container {/* jupyter's `normalize.less` sets `[hidden] { display: none; }` but bootstrap.min.css set `[hidden] { display: none !important; }` so we also need the `!important` here to be able to override the default hidden behavior on the sphinx rendered scikit-learn.org. See: https://github.com/scikit-learn/scikit-learn/issues/21755 */display: inline-block !important;position: relative;}#sk-container-id-2 div.sk-text-repr-fallback {display: none;}</style><div id=\"sk-container-id-2\" class=\"sk-top-container\"><div class=\"sk-text-repr-fallback\"><pre>SVC()</pre><b>In a Jupyter environment, please rerun this cell to show the HTML representation or trust the notebook. <br />On GitHub, the HTML representation is unable to render, please try loading this page with nbviewer.org.</b></div><div class=\"sk-container\" hidden><div class=\"sk-item\"><div class=\"sk-estimator sk-toggleable\"><input class=\"sk-toggleable__control sk-hidden--visually\" id=\"sk-estimator-id-2\" type=\"checkbox\" checked><label for=\"sk-estimator-id-2\" class=\"sk-toggleable__label sk-toggleable__label-arrow\">SVC</label><div class=\"sk-toggleable__content\"><pre>SVC()</pre></div></div></div></div></div>"
            ]
          },
          "metadata": {},
          "execution_count": 45
        }
      ]
    },
    {
      "cell_type": "code",
      "source": [
        "# Step 10: Print out two accuracy scores\n",
        "train_accuracy = clf_rbf_juan.score(X_train, y_train)\n",
        "test_accuracy = clf_rbf_juan.score(X_test, y_test)\n",
        "print(f\"Training Accuracy: {train_accuracy*100:.2f}%\")\n",
        "print(f\"Testing Accuracy: {test_accuracy*100:.2f}%\")"
      ],
      "metadata": {
        "colab": {
          "base_uri": "https://localhost:8080/"
        },
        "id": "47VFgV454U6Y",
        "outputId": "bf686d33-887d-490e-e8a8-75a7c1683fa1"
      },
      "execution_count": 46,
      "outputs": [
        {
          "output_type": "stream",
          "name": "stdout",
          "text": [
            "Training Accuracy: 97.32%\n",
            "Testing Accuracy: 97.86%\n"
          ]
        }
      ]
    },
    {
      "cell_type": "code",
      "source": [
        "# Step 11: Generate the confusion matrix and cross-validation scores\n",
        "y_pred = clf_rbf_juan.predict(X_test)\n",
        "cm = confusion_matrix(y_test, y_pred)\n",
        "print(\"Confusion Matrix:\")\n",
        "print(cm)\n",
        "\n",
        "cv_scores = cross_val_score(clf_rbf_juan, X, y,cv=3, scoring=\"accuracy\")\n",
        "print(\"Cross-Validation Scores:\")\n",
        "print(cv_scores)\n",
        "print(f\"Average Cross-Validation Score: {cv_scores.mean()*100:.2f}%\")"
      ],
      "metadata": {
        "colab": {
          "base_uri": "https://localhost:8080/"
        },
        "id": "J_9O1-ZV4f-n",
        "outputId": "b3971464-356f-4689-9ed9-fb9e81fb83f2"
      },
      "execution_count": 47,
      "outputs": [
        {
          "output_type": "stream",
          "name": "stdout",
          "text": [
            "Confusion Matrix:\n",
            "[[93  2]\n",
            " [ 1 44]]\n",
            "Cross-Validation Scores:\n",
            "[0.93133047 0.96566524 0.98712446]\n",
            "Average Cross-Validation Score: 96.14%\n"
          ]
        }
      ]
    },
    {
      "cell_type": "markdown",
      "source": [
        "14.\tRepeat steps 9 to 11, in step 9 change the kernel to “sigmoid” and\n",
        "do not set any value for C"
      ],
      "metadata": {
        "id": "xN56ccva5hxm"
      }
    },
    {
      "cell_type": "code",
      "source": [
        "# Step 9: Train an SVM classifier with \"sigmoid\" kernel\n",
        "clf_sigmoid_juan = SVC(kernel='sigmoid')\n",
        "# Train the classifier\n",
        "clf_sigmoid_juan.fit(X_train, y_train)"
      ],
      "metadata": {
        "colab": {
          "base_uri": "https://localhost:8080/",
          "height": 74
        },
        "id": "FfwATddb4quT",
        "outputId": "c4278011-1188-4296-80c2-c1cd1bf84c0f"
      },
      "execution_count": 48,
      "outputs": [
        {
          "output_type": "execute_result",
          "data": {
            "text/plain": [
              "SVC(kernel='sigmoid')"
            ],
            "text/html": [
              "<style>#sk-container-id-3 {color: black;background-color: white;}#sk-container-id-3 pre{padding: 0;}#sk-container-id-3 div.sk-toggleable {background-color: white;}#sk-container-id-3 label.sk-toggleable__label {cursor: pointer;display: block;width: 100%;margin-bottom: 0;padding: 0.3em;box-sizing: border-box;text-align: center;}#sk-container-id-3 label.sk-toggleable__label-arrow:before {content: \"▸\";float: left;margin-right: 0.25em;color: #696969;}#sk-container-id-3 label.sk-toggleable__label-arrow:hover:before {color: black;}#sk-container-id-3 div.sk-estimator:hover label.sk-toggleable__label-arrow:before {color: black;}#sk-container-id-3 div.sk-toggleable__content {max-height: 0;max-width: 0;overflow: hidden;text-align: left;background-color: #f0f8ff;}#sk-container-id-3 div.sk-toggleable__content pre {margin: 0.2em;color: black;border-radius: 0.25em;background-color: #f0f8ff;}#sk-container-id-3 input.sk-toggleable__control:checked~div.sk-toggleable__content {max-height: 200px;max-width: 100%;overflow: auto;}#sk-container-id-3 input.sk-toggleable__control:checked~label.sk-toggleable__label-arrow:before {content: \"▾\";}#sk-container-id-3 div.sk-estimator input.sk-toggleable__control:checked~label.sk-toggleable__label {background-color: #d4ebff;}#sk-container-id-3 div.sk-label input.sk-toggleable__control:checked~label.sk-toggleable__label {background-color: #d4ebff;}#sk-container-id-3 input.sk-hidden--visually {border: 0;clip: rect(1px 1px 1px 1px);clip: rect(1px, 1px, 1px, 1px);height: 1px;margin: -1px;overflow: hidden;padding: 0;position: absolute;width: 1px;}#sk-container-id-3 div.sk-estimator {font-family: monospace;background-color: #f0f8ff;border: 1px dotted black;border-radius: 0.25em;box-sizing: border-box;margin-bottom: 0.5em;}#sk-container-id-3 div.sk-estimator:hover {background-color: #d4ebff;}#sk-container-id-3 div.sk-parallel-item::after {content: \"\";width: 100%;border-bottom: 1px solid gray;flex-grow: 1;}#sk-container-id-3 div.sk-label:hover label.sk-toggleable__label {background-color: #d4ebff;}#sk-container-id-3 div.sk-serial::before {content: \"\";position: absolute;border-left: 1px solid gray;box-sizing: border-box;top: 0;bottom: 0;left: 50%;z-index: 0;}#sk-container-id-3 div.sk-serial {display: flex;flex-direction: column;align-items: center;background-color: white;padding-right: 0.2em;padding-left: 0.2em;position: relative;}#sk-container-id-3 div.sk-item {position: relative;z-index: 1;}#sk-container-id-3 div.sk-parallel {display: flex;align-items: stretch;justify-content: center;background-color: white;position: relative;}#sk-container-id-3 div.sk-item::before, #sk-container-id-3 div.sk-parallel-item::before {content: \"\";position: absolute;border-left: 1px solid gray;box-sizing: border-box;top: 0;bottom: 0;left: 50%;z-index: -1;}#sk-container-id-3 div.sk-parallel-item {display: flex;flex-direction: column;z-index: 1;position: relative;background-color: white;}#sk-container-id-3 div.sk-parallel-item:first-child::after {align-self: flex-end;width: 50%;}#sk-container-id-3 div.sk-parallel-item:last-child::after {align-self: flex-start;width: 50%;}#sk-container-id-3 div.sk-parallel-item:only-child::after {width: 0;}#sk-container-id-3 div.sk-dashed-wrapped {border: 1px dashed gray;margin: 0 0.4em 0.5em 0.4em;box-sizing: border-box;padding-bottom: 0.4em;background-color: white;}#sk-container-id-3 div.sk-label label {font-family: monospace;font-weight: bold;display: inline-block;line-height: 1.2em;}#sk-container-id-3 div.sk-label-container {text-align: center;}#sk-container-id-3 div.sk-container {/* jupyter's `normalize.less` sets `[hidden] { display: none; }` but bootstrap.min.css set `[hidden] { display: none !important; }` so we also need the `!important` here to be able to override the default hidden behavior on the sphinx rendered scikit-learn.org. See: https://github.com/scikit-learn/scikit-learn/issues/21755 */display: inline-block !important;position: relative;}#sk-container-id-3 div.sk-text-repr-fallback {display: none;}</style><div id=\"sk-container-id-3\" class=\"sk-top-container\"><div class=\"sk-text-repr-fallback\"><pre>SVC(kernel=&#x27;sigmoid&#x27;)</pre><b>In a Jupyter environment, please rerun this cell to show the HTML representation or trust the notebook. <br />On GitHub, the HTML representation is unable to render, please try loading this page with nbviewer.org.</b></div><div class=\"sk-container\" hidden><div class=\"sk-item\"><div class=\"sk-estimator sk-toggleable\"><input class=\"sk-toggleable__control sk-hidden--visually\" id=\"sk-estimator-id-3\" type=\"checkbox\" checked><label for=\"sk-estimator-id-3\" class=\"sk-toggleable__label sk-toggleable__label-arrow\">SVC</label><div class=\"sk-toggleable__content\"><pre>SVC(kernel=&#x27;sigmoid&#x27;)</pre></div></div></div></div></div>"
            ]
          },
          "metadata": {},
          "execution_count": 48
        }
      ]
    },
    {
      "cell_type": "code",
      "source": [
        "# Step 10: Print out two accuracy scores\n",
        "train_accuracy = clf_sigmoid_juan.score(X_train, y_train)\n",
        "test_accuracy = clf_sigmoid_juan.score(X_test, y_test)\n",
        "print(f\"Training Accuracy: {train_accuracy*100:.2f}%\")\n",
        "print(f\"Testing Accuracy: {test_accuracy*100:.2f}%\")"
      ],
      "metadata": {
        "colab": {
          "base_uri": "https://localhost:8080/"
        },
        "id": "1BUGlKSf5qlT",
        "outputId": "fc680395-cb4f-419e-e867-5a2ee1de49b6"
      },
      "execution_count": 49,
      "outputs": [
        {
          "output_type": "stream",
          "name": "stdout",
          "text": [
            "Training Accuracy: 43.29%\n",
            "Testing Accuracy: 42.14%\n"
          ]
        }
      ]
    },
    {
      "cell_type": "code",
      "source": [
        "# Step 11: Generate the confusion matrix and cross-validation scores\n",
        "y_pred = clf_sigmoid_juan.predict(X_test)\n",
        "cm = confusion_matrix(y_test, y_pred)\n",
        "print(\"Confusion Matrix:\")\n",
        "print(cm)\n",
        "\n",
        "cv_scores = cross_val_score(clf_sigmoid_juan, X, y,cv=3, scoring=\"accuracy\")\n",
        "print(\"Cross-Validation Scores:\")\n",
        "print(cv_scores)\n",
        "print(f\"Average Cross-Validation Score: {cv_scores.mean()*100:.2f}%\")"
      ],
      "metadata": {
        "colab": {
          "base_uri": "https://localhost:8080/"
        },
        "id": "RpGTLjho5wSM",
        "outputId": "7f1fe5bf-5bad-499c-ac26-5ccddf7cb954"
      },
      "execution_count": 50,
      "outputs": [
        {
          "output_type": "stream",
          "name": "stdout",
          "text": [
            "Confusion Matrix:\n",
            "[[59 36]\n",
            " [45  0]]\n",
            "Cross-Validation Scores:\n",
            "[0.38197425 0.41630901 0.49356223]\n",
            "Average Cross-Validation Score: 43.06%\n"
          ]
        }
      ]
    },
    {
      "cell_type": "code",
      "source": [
        "import matplotlib.pyplot as plt\n",
        "import seaborn as sns\n",
        "\n",
        "def plot_confusion_matrix(cm, classes, title='Confusion matrix', cmap=plt.cm.Blues):\n",
        "    sns.heatmap(cm, annot=True, fmt='d', cmap=cmap)\n",
        "    plt.xlabel('Predicted label')\n",
        "    plt.ylabel('True label')\n",
        "    plt.title(title)\n",
        "    plt.show()\n",
        "\n",
        "# Example usage after predicting with a model\n",
        "cm = confusion_matrix(y_test, y_pred)\n",
        "plot_confusion_matrix(cm, classes=['shape', 'size'])\n"
      ],
      "metadata": {
        "id": "a1E0Vk-b52dQ",
        "colab": {
          "base_uri": "https://localhost:8080/",
          "height": 478
        },
        "outputId": "0a4a75f2-176b-4e73-a081-676d3c76d91c"
      },
      "execution_count": 51,
      "outputs": [
        {
          "output_type": "display_data",
          "data": {
            "text/plain": [
              "<Figure size 640x480 with 2 Axes>"
            ],
            "image/png": "[encoded data removed]"
          },
          "metadata": {}
        }
      ]
    }
  ]
}