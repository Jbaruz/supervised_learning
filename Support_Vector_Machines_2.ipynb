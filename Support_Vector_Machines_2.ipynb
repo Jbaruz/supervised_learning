{
  "nbformat": 4,
  "nbformat_minor": 0,
  "metadata": {
    "colab": {
      "provenance": [],
      "authorship_tag": "ABX9TyOH4UwT6SqVc9PUJgDMdqP7",
      "include_colab_link": true
    },
    "kernelspec": {
      "name": "python3",
      "display_name": "Python 3"
    },
    "language_info": {
      "name": "python"
    }
  },
  "cells": [
    {
      "cell_type": "markdown",
      "metadata": {
        "id": "view-in-github",
        "colab_type": "text"
      },
      "source": [
        "<a href=\"https://colab.research.google.com/github/Jbaruz/supervised_learning/blob/main/Support_Vector_Machines_2.ipynb\" target=\"_parent\"><img src=\"https://colab.research.google.com/assets/colab-badge.svg\" alt=\"Open In Colab\"/></a>"
      ]
    },
    {
      "cell_type": "code",
      "execution_count": null,
      "metadata": {
        "colab": {
          "base_uri": "https://localhost:8080/"
        },
        "id": "ndN052zql4kL",
        "outputId": "0cbbaccd-8946-45ff-98ca-18f0cbd4a3f9"
      },
      "outputs": [
        {
          "output_type": "stream",
          "name": "stdout",
          "text": [
            "Colab only includes TensorFlow 2.x; %tensorflow_version has no effect.\n"
          ]
        }
      ],
      "source": [
        "# Python ≥3.5 is required\n",
        "import sys\n",
        "assert sys.version_info >= (3, 5)\n",
        "\n",
        "# Scikit-Learn ≥0.20 is required\n",
        "import sklearn\n",
        "assert sklearn.__version__ >= \"0.20\"\n",
        "\n",
        "try:\n",
        "    # %tensorflow_version only exists in Colab.\n",
        "    %tensorflow_version 2.x\n",
        "except Exception:\n",
        "    pass\n",
        "\n",
        "# TensorFlow ≥2.0 is required\n",
        "import tensorflow as tf\n",
        "assert tf.__version__ >= \"2.0\"\n",
        "\n",
        "# Common imports\n",
        "import numpy as np\n",
        "import os\n",
        "\n",
        "# to make this notebook's output stable across runs\n",
        "np.random.seed(42)\n",
        "\n",
        "# To plot pretty figures\n",
        "%matplotlib inline\n",
        "import matplotlib as mpl\n",
        "import matplotlib.pyplot as plt\n",
        "mpl.rc('axes', labelsize=14)\n",
        "mpl.rc('xtick', labelsize=12)\n",
        "mpl.rc('ytick', labelsize=12)\n",
        "\n",
        "# Where to save the figures\n",
        "PROJECT_ROOT_DIR = \".\"\n",
        "CHAPTER_ID = \"ann\"\n",
        "IMAGES_PATH = os.path.join(PROJECT_ROOT_DIR, \"images\", CHAPTER_ID)\n",
        "os.makedirs(IMAGES_PATH, exist_ok=True)\n",
        "\n",
        "def save_fig(fig_id, tight_layout=True, fig_extension=\"png\", resolution=300):\n",
        "    path = os.path.join(IMAGES_PATH, fig_id + \".\" + fig_extension)\n",
        "    print(\"Saving figure\", fig_id)\n",
        "    if tight_layout:\n",
        "        plt.tight_layout()\n",
        "    plt.savefig(path, format=fig_extension, dpi=resolution)"
      ]
    },
    {
      "cell_type": "code",
      "source": [
        "#Load and Prprocess th data\n",
        "import pandas as pd\n",
        "import numpy as np\n",
        "\n",
        "from google.colab import files\n",
        "uploaded = files.upload()\n"
      ],
      "metadata": {
        "colab": {
          "base_uri": "https://localhost:8080/",
          "height": 74
        },
        "id": "Tnu_ftp-mCk6",
        "outputId": "d8cbe130-dd12-48d1-8993-bb1e49deb56a"
      },
      "execution_count": null,
      "outputs": [
        {
          "output_type": "display_data",
          "data": {
            "text/plain": [
              "<IPython.core.display.HTML object>"
            ],
            "text/html": [
              "\n",
              "     <input type=\"file\" id=\"files-9db89835-145d-4f1a-aa7c-f34d9273a7b7\" name=\"files[]\" multiple disabled\n",
              "        style=\"border:none\" />\n",
              "     <output id=\"result-9db89835-145d-4f1a-aa7c-f34d9273a7b7\">\n",
              "      Upload widget is only available when the cell has been executed in the\n",
              "      current browser session. Please rerun this cell to enable.\n",
              "      </output>\n",
              "      <script>// Copyright 2017 Google LLC\n",
              "//\n",
              "// Licensed under the Apache License, Version 2.0 (the \"License\");\n",
              "// you may not use this file except in compliance with the License.\n",
              "// You may obtain a copy of the License at\n",
              "//\n",
              "//      http://www.apache.org/licenses/LICENSE-2.0\n",
              "//\n",
              "// Unless required by applicable law or agreed to in writing, software\n",
              "// distributed under the License is distributed on an \"AS IS\" BASIS,\n",
              "// WITHOUT WARRANTIES OR CONDITIONS OF ANY KIND, either express or implied.\n",
              "// See the License for the specific language governing permissions and\n",
              "// limitations under the License.\n",
              "\n",
              "/**\n",
              " * @fileoverview Helpers for google.colab Python module.\n",
              " */\n",
              "(function(scope) {\n",
              "function span(text, styleAttributes = {}) {\n",
              "  const element = document.createElement('span');\n",
              "  element.textContent = text;\n",
              "  for (const key of Object.keys(styleAttributes)) {\n",
              "    element.style[key] = styleAttributes[key];\n",
              "  }\n",
              "  return element;\n",
              "}\n",
              "\n",
              "// Max number of bytes which will be uploaded at a time.\n",
              "const MAX_PAYLOAD_SIZE = 100 * 1024;\n",
              "\n",
              "function _uploadFiles(inputId, outputId) {\n",
              "  const steps = uploadFilesStep(inputId, outputId);\n",
              "  const outputElement = document.getElementById(outputId);\n",
              "  // Cache steps on the outputElement to make it available for the next call\n",
              "  // to uploadFilesContinue from Python.\n",
              "  outputElement.steps = steps;\n",
              "\n",
              "  return _uploadFilesContinue(outputId);\n",
              "}\n",
              "\n",
              "// This is roughly an async generator (not supported in the browser yet),\n",
              "// where there are multiple asynchronous steps and the Python side is going\n",
              "// to poll for completion of each step.\n",
              "// This uses a Promise to block the python side on completion of each step,\n",
              "// then passes the result of the previous step as the input to the next step.\n",
              "function _uploadFilesContinue(outputId) {\n",
              "  const outputElement = document.getElementById(outputId);\n",
              "  const steps = outputElement.steps;\n",
              "\n",
              "  const next = steps.next(outputElement.lastPromiseValue);\n",
              "  return Promise.resolve(next.value.promise).then((value) => {\n",
              "    // Cache the last promise value to make it available to the next\n",
              "    // step of the generator.\n",
              "    outputElement.lastPromiseValue = value;\n",
              "    return next.value.response;\n",
              "  });\n",
              "}\n",
              "\n",
              "/**\n",
              " * Generator function which is called between each async step of the upload\n",
              " * process.\n",
              " * @param {string} inputId Element ID of the input file picker element.\n",
              " * @param {string} outputId Element ID of the output display.\n",
              " * @return {!Iterable<!Object>} Iterable of next steps.\n",
              " */\n",
              "function* uploadFilesStep(inputId, outputId) {\n",
              "  const inputElement = document.getElementById(inputId);\n",
              "  inputElement.disabled = false;\n",
              "\n",
              "  const outputElement = document.getElementById(outputId);\n",
              "  outputElement.innerHTML = '';\n",
              "\n",
              "  const pickedPromise = new Promise((resolve) => {\n",
              "    inputElement.addEventListener('change', (e) => {\n",
              "      resolve(e.target.files);\n",
              "    });\n",
              "  });\n",
              "\n",
              "  const cancel = document.createElement('button');\n",
              "  inputElement.parentElement.appendChild(cancel);\n",
              "  cancel.textContent = 'Cancel upload';\n",
              "  const cancelPromise = new Promise((resolve) => {\n",
              "    cancel.onclick = () => {\n",
              "      resolve(null);\n",
              "    };\n",
              "  });\n",
              "\n",
              "  // Wait for the user to pick the files.\n",
              "  const files = yield {\n",
              "    promise: Promise.race([pickedPromise, cancelPromise]),\n",
              "    response: {\n",
              "      action: 'starting',\n",
              "    }\n",
              "  };\n",
              "\n",
              "  cancel.remove();\n",
              "\n",
              "  // Disable the input element since further picks are not allowed.\n",
              "  inputElement.disabled = true;\n",
              "\n",
              "  if (!files) {\n",
              "    return {\n",
              "      response: {\n",
              "        action: 'complete',\n",
              "      }\n",
              "    };\n",
              "  }\n",
              "\n",
              "  for (const file of files) {\n",
              "    const li = document.createElement('li');\n",
              "    li.append(span(file.name, {fontWeight: 'bold'}));\n",
              "    li.append(span(\n",
              "        `(${file.type || 'n/a'}) - ${file.size} bytes, ` +\n",
              "        `last modified: ${\n",
              "            file.lastModifiedDate ? file.lastModifiedDate.toLocaleDateString() :\n",
              "                                    'n/a'} - `));\n",
              "    const percent = span('0% done');\n",
              "    li.appendChild(percent);\n",
              "\n",
              "    outputElement.appendChild(li);\n",
              "\n",
              "    const fileDataPromise = new Promise((resolve) => {\n",
              "      const reader = new FileReader();\n",
              "      reader.onload = (e) => {\n",
              "        resolve(e.target.result);\n",
              "      };\n",
              "      reader.readAsArrayBuffer(file);\n",
              "    });\n",
              "    // Wait for the data to be ready.\n",
              "    let fileData = yield {\n",
              "      promise: fileDataPromise,\n",
              "      response: {\n",
              "        action: 'continue',\n",
              "      }\n",
              "    };\n",
              "\n",
              "    // Use a chunked sending to avoid message size limits. See b/62115660.\n",
              "    let position = 0;\n",
              "    do {\n",
              "      const length = Math.min(fileData.byteLength - position, MAX_PAYLOAD_SIZE);\n",
              "      const chunk = new Uint8Array(fileData, position, length);\n",
              "      position += length;\n",
              "\n",
              "      const base64 = btoa(String.fromCharCode.apply(null, chunk));\n",
              "      yield {\n",
              "        response: {\n",
              "          action: 'append',\n",
              "          file: file.name,\n",
              "          data: base64,\n",
              "        },\n",
              "      };\n",
              "\n",
              "      let percentDone = fileData.byteLength === 0 ?\n",
              "          100 :\n",
              "          Math.round((position / fileData.byteLength) * 100);\n",
              "      percent.textContent = `${percentDone}% done`;\n",
              "\n",
              "    } while (position < fileData.byteLength);\n",
              "  }\n",
              "\n",
              "  // All done.\n",
              "  yield {\n",
              "    response: {\n",
              "      action: 'complete',\n",
              "    }\n",
              "  };\n",
              "}\n",
              "\n",
              "scope.google = scope.google || {};\n",
              "scope.google.colab = scope.google.colab || {};\n",
              "scope.google.colab._files = {\n",
              "  _uploadFiles,\n",
              "  _uploadFilesContinue,\n",
              "};\n",
              "})(self);\n",
              "</script> "
            ]
          },
          "metadata": {}
        },
        {
          "output_type": "stream",
          "name": "stdout",
          "text": [
            "Saving breast_cancer.csv to breast_cancer.csv\n"
          ]
        }
      ]
    },
    {
      "cell_type": "code",
      "source": [
        "# 1.\tLoad the data into a pandas dataframe named data_firstname_df2 where first name is you name.\n",
        "import numpy as np\n",
        "import pandas as pd\n",
        "\n",
        "data_juan_df2 = pd.read_csv(\"breast_cancer.csv\")\n",
        "\n",
        "print(data_juan_df2)"
      ],
      "metadata": {
        "colab": {
          "base_uri": "https://localhost:8080/"
        },
        "id": "X4Ag3r9Tmdlo",
        "outputId": "d4607afe-27d0-4124-942c-111fbbf4e6d1"
      },
      "execution_count": null,
      "outputs": [
        {
          "output_type": "stream",
          "name": "stdout",
          "text": [
            "          ID  thickness  size  shape  Marg  Epith bare  b1  nucleoli  Mitoses  \\\n",
            "0    1000025          5     1      1     1      2    1   3         1        1   \n",
            "1    1002945          5     4      4     5      7   10   3         2        1   \n",
            "2    1015425          3     1      1     1      2    2   3         1        1   \n",
            "3    1016277          6     8      8     1      3    4   3         7        1   \n",
            "4    1017023          4     1      1     3      2    1   3         1        1   \n",
            "..       ...        ...   ...    ...   ...    ...  ...  ..       ...      ...   \n",
            "694   776715          3     1      1     1      3    2   1         1        1   \n",
            "695   841769          2     1      1     1      2    1   1         1        1   \n",
            "696   888820          5    10     10     3      7    3   8        10        2   \n",
            "697   897471          4     8      6     4      3    4  10         6        1   \n",
            "698   897471          4     8      8     5      4    5  10         4        1   \n",
            "\n",
            "     class  \n",
            "0        2  \n",
            "1        2  \n",
            "2        2  \n",
            "3        2  \n",
            "4        2  \n",
            "..     ...  \n",
            "694      2  \n",
            "695      2  \n",
            "696      4  \n",
            "697      4  \n",
            "698      4  \n",
            "\n",
            "[699 rows x 11 columns]\n"
          ]
        }
      ]
    },
    {
      "cell_type": "code",
      "source": [
        "# 2.\tReplace the ‘?’ mark in the ‘bare’ column by np.nan and change the type to ‘float’\n",
        "data_juan_df2['bare'] = data_juan_df2['bare'].replace('?', np.nan).astype(float)"
      ],
      "metadata": {
        "id": "d2zEaO3bm2oQ"
      },
      "execution_count": null,
      "outputs": []
    },
    {
      "cell_type": "code",
      "source": [
        "# Identify which columns have '?' and count them\n",
        "question_marks_per_column = (data_juan_df2 == '?').sum()\n",
        "print(\"Number of '?' per column:\")\n",
        "print(question_marks_per_column)"
      ],
      "metadata": {
        "colab": {
          "base_uri": "https://localhost:8080/"
        },
        "id": "ylIovao0nBc0",
        "outputId": "dfb29717-1ec0-4165-9c5e-4b3e31bc451c"
      },
      "execution_count": null,
      "outputs": [
        {
          "output_type": "stream",
          "name": "stdout",
          "text": [
            "Number of '?' per column:\n",
            "ID           0\n",
            "thickness    0\n",
            "size         0\n",
            "shape        0\n",
            "Marg         0\n",
            "Epith        0\n",
            "bare         0\n",
            "b1           0\n",
            "nucleoli     0\n",
            "Mitoses      0\n",
            "class        0\n",
            "dtype: int64\n"
          ]
        }
      ]
    },
    {
      "cell_type": "code",
      "source": [
        "# 3.\tDrop the ID column\"\n",
        "data_juan_df2 = data_juan_df2.drop(columns=['ID'])"
      ],
      "metadata": {
        "id": "U3sk5JNmnKt8"
      },
      "execution_count": null,
      "outputs": []
    },
    {
      "cell_type": "code",
      "source": [
        "data_juan_df2.keys()"
      ],
      "metadata": {
        "colab": {
          "base_uri": "https://localhost:8080/"
        },
        "id": "HOdDJr3WnitA",
        "outputId": "b92b141a-4e97-4c86-fdbc-a5d4edd826ee"
      },
      "execution_count": null,
      "outputs": [
        {
          "output_type": "execute_result",
          "data": {
            "text/plain": [
              "Index(['thickness', 'size', 'shape', 'Marg', 'Epith', 'bare', 'b1', 'nucleoli',\n",
              "       'Mitoses', 'class'],\n",
              "      dtype='object')"
            ]
          },
          "metadata": {},
          "execution_count": 11
        }
      ]
    },
    {
      "cell_type": "code",
      "source": [
        "# 4.\tSeparate the features from the class.\n",
        "X = data_juan_df2.drop('class', axis=1)\n",
        "y = data_juan_df2['class']"
      ],
      "metadata": {
        "id": "CAajPy6Bnj68"
      },
      "execution_count": null,
      "outputs": []
    },
    {
      "cell_type": "code",
      "source": [
        "X.keys()"
      ],
      "metadata": {
        "colab": {
          "base_uri": "https://localhost:8080/"
        },
        "id": "egaO1bkXnzuT",
        "outputId": "164a5f74-fd49-4a00-bd25-a276afe27069"
      },
      "execution_count": null,
      "outputs": [
        {
          "output_type": "execute_result",
          "data": {
            "text/plain": [
              "Index(['thickness', 'size', 'shape', 'Marg', 'Epith', 'bare', 'b1', 'nucleoli',\n",
              "       'Mitoses'],\n",
              "      dtype='object')"
            ]
          },
          "metadata": {},
          "execution_count": 13
        }
      ]
    },
    {
      "cell_type": "code",
      "source": [
        "y.keys()"
      ],
      "metadata": {
        "colab": {
          "base_uri": "https://localhost:8080/"
        },
        "id": "Ha2Nm34nn4js",
        "outputId": "1d764222-38a6-403e-c886-3143fafc8f06"
      },
      "execution_count": null,
      "outputs": [
        {
          "output_type": "execute_result",
          "data": {
            "text/plain": [
              "RangeIndex(start=0, stop=699, step=1)"
            ]
          },
          "metadata": {},
          "execution_count": 14
        }
      ]
    },
    {
      "cell_type": "code",
      "source": [
        "# 5.\tSplit your data into train 80% train and 20% test   use the last two digits of your student number for the seed.\n",
        "from sklearn.model_selection import train_test_split\n",
        "\n",
        "X_train, X_test, y_train, y_test = train_test_split(X, y, test_size=0.2, random_state=42)"
      ],
      "metadata": {
        "id": "oeLWDmMhn7-c"
      },
      "execution_count": null,
      "outputs": []
    },
    {
      "cell_type": "markdown",
      "source": [
        "6.\tUsing the preprocessing library to define two transformer objects to\n",
        " transform your training data:"
      ],
      "metadata": {
        "id": "Akn3iE-SoSew"
      }
    },
    {
      "cell_type": "code",
      "source": [
        "from sklearn.preprocessing import StandardScaler\n",
        "from sklearn.impute import SimpleImputer\n",
        "\n",
        "# Define the transformers\n",
        "scaler = StandardScaler()\n",
        "imputer = SimpleImputer(strategy='mean')  # Replace missing values with the mean of each column\n",
        "\n",
        "# Apply transformations to training data\n",
        "X_train_imputed = imputer.fit_transform(X_train)\n",
        "X_train_scaled = scaler.fit_transform(X_train_imputed)\n"
      ],
      "metadata": {
        "id": "z3VUuDcIoHaL"
      },
      "execution_count": null,
      "outputs": []
    },
    {
      "cell_type": "code",
      "source": [
        "X_train_scaled.shape, X_train_imputed.shape"
      ],
      "metadata": {
        "colab": {
          "base_uri": "https://localhost:8080/"
        },
        "id": "tv5pOGWupuTw",
        "outputId": "91d6e3d1-0ef5-4a95-e450-6e26f6dab732"
      },
      "execution_count": null,
      "outputs": [
        {
          "output_type": "execute_result",
          "data": {
            "text/plain": [
              "((559, 9), (559, 9))"
            ]
          },
          "metadata": {},
          "execution_count": 23
        }
      ]
    },
    {
      "cell_type": "code",
      "source": [
        "# 7.\tCombine the two transformers into a pipeline name it num_pipe_juan.\n",
        "from sklearn.pipeline import Pipeline\n",
        "\n",
        "num_pipe_juan = Pipeline([\n",
        "    ('imputer', SimpleImputer(strategy='mean')),\n",
        "    ('scaler', StandardScaler())\n",
        "])"
      ],
      "metadata": {
        "id": "myzOJ3XRp0Ze"
      },
      "execution_count": null,
      "outputs": []
    },
    {
      "cell_type": "code",
      "source": [
        "# Fit the pipeline to the train data\n",
        "num_pipe_juan.fit(X_train)"
      ],
      "metadata": {
        "colab": {
          "base_uri": "https://localhost:8080/",
          "height": 124
        },
        "id": "8bRZ5jH5qNp5",
        "outputId": "edbb46d6-59b8-453e-efd6-2fafd6d8a674"
      },
      "execution_count": null,
      "outputs": [
        {
          "output_type": "execute_result",
          "data": {
            "text/plain": [
              "Pipeline(steps=[('imputer', SimpleImputer()), ('scaler', StandardScaler())])"
            ],
            "text/html": [
              "<style>#sk-container-id-1 {color: black;background-color: white;}#sk-container-id-1 pre{padding: 0;}#sk-container-id-1 div.sk-toggleable {background-color: white;}#sk-container-id-1 label.sk-toggleable__label {cursor: pointer;display: block;width: 100%;margin-bottom: 0;padding: 0.3em;box-sizing: border-box;text-align: center;}#sk-container-id-1 label.sk-toggleable__label-arrow:before {content: \"▸\";float: left;margin-right: 0.25em;color: #696969;}#sk-container-id-1 label.sk-toggleable__label-arrow:hover:before {color: black;}#sk-container-id-1 div.sk-estimator:hover label.sk-toggleable__label-arrow:before {color: black;}#sk-container-id-1 div.sk-toggleable__content {max-height: 0;max-width: 0;overflow: hidden;text-align: left;background-color: #f0f8ff;}#sk-container-id-1 div.sk-toggleable__content pre {margin: 0.2em;color: black;border-radius: 0.25em;background-color: #f0f8ff;}#sk-container-id-1 input.sk-toggleable__control:checked~div.sk-toggleable__content {max-height: 200px;max-width: 100%;overflow: auto;}#sk-container-id-1 input.sk-toggleable__control:checked~label.sk-toggleable__label-arrow:before {content: \"▾\";}#sk-container-id-1 div.sk-estimator input.sk-toggleable__control:checked~label.sk-toggleable__label {background-color: #d4ebff;}#sk-container-id-1 div.sk-label input.sk-toggleable__control:checked~label.sk-toggleable__label {background-color: #d4ebff;}#sk-container-id-1 input.sk-hidden--visually {border: 0;clip: rect(1px 1px 1px 1px);clip: rect(1px, 1px, 1px, 1px);height: 1px;margin: -1px;overflow: hidden;padding: 0;position: absolute;width: 1px;}#sk-container-id-1 div.sk-estimator {font-family: monospace;background-color: #f0f8ff;border: 1px dotted black;border-radius: 0.25em;box-sizing: border-box;margin-bottom: 0.5em;}#sk-container-id-1 div.sk-estimator:hover {background-color: #d4ebff;}#sk-container-id-1 div.sk-parallel-item::after {content: \"\";width: 100%;border-bottom: 1px solid gray;flex-grow: 1;}#sk-container-id-1 div.sk-label:hover label.sk-toggleable__label {background-color: #d4ebff;}#sk-container-id-1 div.sk-serial::before {content: \"\";position: absolute;border-left: 1px solid gray;box-sizing: border-box;top: 0;bottom: 0;left: 50%;z-index: 0;}#sk-container-id-1 div.sk-serial {display: flex;flex-direction: column;align-items: center;background-color: white;padding-right: 0.2em;padding-left: 0.2em;position: relative;}#sk-container-id-1 div.sk-item {position: relative;z-index: 1;}#sk-container-id-1 div.sk-parallel {display: flex;align-items: stretch;justify-content: center;background-color: white;position: relative;}#sk-container-id-1 div.sk-item::before, #sk-container-id-1 div.sk-parallel-item::before {content: \"\";position: absolute;border-left: 1px solid gray;box-sizing: border-box;top: 0;bottom: 0;left: 50%;z-index: -1;}#sk-container-id-1 div.sk-parallel-item {display: flex;flex-direction: column;z-index: 1;position: relative;background-color: white;}#sk-container-id-1 div.sk-parallel-item:first-child::after {align-self: flex-end;width: 50%;}#sk-container-id-1 div.sk-parallel-item:last-child::after {align-self: flex-start;width: 50%;}#sk-container-id-1 div.sk-parallel-item:only-child::after {width: 0;}#sk-container-id-1 div.sk-dashed-wrapped {border: 1px dashed gray;margin: 0 0.4em 0.5em 0.4em;box-sizing: border-box;padding-bottom: 0.4em;background-color: white;}#sk-container-id-1 div.sk-label label {font-family: monospace;font-weight: bold;display: inline-block;line-height: 1.2em;}#sk-container-id-1 div.sk-label-container {text-align: center;}#sk-container-id-1 div.sk-container {/* jupyter's `normalize.less` sets `[hidden] { display: none; }` but bootstrap.min.css set `[hidden] { display: none !important; }` so we also need the `!important` here to be able to override the default hidden behavior on the sphinx rendered scikit-learn.org. See: https://github.com/scikit-learn/scikit-learn/issues/21755 */display: inline-block !important;position: relative;}#sk-container-id-1 div.sk-text-repr-fallback {display: none;}</style><div id=\"sk-container-id-1\" class=\"sk-top-container\"><div class=\"sk-text-repr-fallback\"><pre>Pipeline(steps=[(&#x27;imputer&#x27;, SimpleImputer()), (&#x27;scaler&#x27;, StandardScaler())])</pre><b>In a Jupyter environment, please rerun this cell to show the HTML representation or trust the notebook. <br />On GitHub, the HTML representation is unable to render, please try loading this page with nbviewer.org.</b></div><div class=\"sk-container\" hidden><div class=\"sk-item sk-dashed-wrapped\"><div class=\"sk-label-container\"><div class=\"sk-label sk-toggleable\"><input class=\"sk-toggleable__control sk-hidden--visually\" id=\"sk-estimator-id-1\" type=\"checkbox\" ><label for=\"sk-estimator-id-1\" class=\"sk-toggleable__label sk-toggleable__label-arrow\">Pipeline</label><div class=\"sk-toggleable__content\"><pre>Pipeline(steps=[(&#x27;imputer&#x27;, SimpleImputer()), (&#x27;scaler&#x27;, StandardScaler())])</pre></div></div></div><div class=\"sk-serial\"><div class=\"sk-item\"><div class=\"sk-estimator sk-toggleable\"><input class=\"sk-toggleable__control sk-hidden--visually\" id=\"sk-estimator-id-2\" type=\"checkbox\" ><label for=\"sk-estimator-id-2\" class=\"sk-toggleable__label sk-toggleable__label-arrow\">SimpleImputer</label><div class=\"sk-toggleable__content\"><pre>SimpleImputer()</pre></div></div></div><div class=\"sk-item\"><div class=\"sk-estimator sk-toggleable\"><input class=\"sk-toggleable__control sk-hidden--visually\" id=\"sk-estimator-id-3\" type=\"checkbox\" ><label for=\"sk-estimator-id-3\" class=\"sk-toggleable__label sk-toggleable__label-arrow\">StandardScaler</label><div class=\"sk-toggleable__content\"><pre>StandardScaler()</pre></div></div></div></div></div></div></div>"
            ]
          },
          "metadata": {},
          "execution_count": 25
        }
      ]
    },
    {
      "cell_type": "code",
      "source": [
        "# 8.\tCreate a new Pipeline that has two steps the first is the num_pipe_firstname and the second is an SVM classifier with\n",
        "# random state = last two digits of your student number. Name the pipeline\n",
        "# pipe_svm_firstname. (make note of the labels)\n",
        "from sklearn.svm import SVC\n",
        "\n",
        "pipe_svm_juan = Pipeline([\n",
        "    ('num_pipe', num_pipe_juan),\n",
        "    ('svm', SVC(random_state=42))\n",
        "])"
      ],
      "metadata": {
        "id": "c5AgbXQXqYee"
      },
      "execution_count": null,
      "outputs": []
    },
    {
      "cell_type": "code",
      "source": [
        "# Fit the pipeline to the train data\n",
        "pipe_svm_juan.fit(X_train, y_train)"
      ],
      "metadata": {
        "colab": {
          "base_uri": "https://localhost:8080/",
          "height": 183
        },
        "id": "polsdLAAqxIs",
        "outputId": "76b1d165-e2a6-4ac3-8e0a-a6a72e0f0caa"
      },
      "execution_count": null,
      "outputs": [
        {
          "output_type": "execute_result",
          "data": {
            "text/plain": [
              "Pipeline(steps=[('num_pipe',\n",
              "                 Pipeline(steps=[('imputer', SimpleImputer()),\n",
              "                                 ('scaler', StandardScaler())])),\n",
              "                ('svm', SVC(random_state=42))])"
            ],
            "text/html": [
              "<style>#sk-container-id-2 {color: black;background-color: white;}#sk-container-id-2 pre{padding: 0;}#sk-container-id-2 div.sk-toggleable {background-color: white;}#sk-container-id-2 label.sk-toggleable__label {cursor: pointer;display: block;width: 100%;margin-bottom: 0;padding: 0.3em;box-sizing: border-box;text-align: center;}#sk-container-id-2 label.sk-toggleable__label-arrow:before {content: \"▸\";float: left;margin-right: 0.25em;color: #696969;}#sk-container-id-2 label.sk-toggleable__label-arrow:hover:before {color: black;}#sk-container-id-2 div.sk-estimator:hover label.sk-toggleable__label-arrow:before {color: black;}#sk-container-id-2 div.sk-toggleable__content {max-height: 0;max-width: 0;overflow: hidden;text-align: left;background-color: #f0f8ff;}#sk-container-id-2 div.sk-toggleable__content pre {margin: 0.2em;color: black;border-radius: 0.25em;background-color: #f0f8ff;}#sk-container-id-2 input.sk-toggleable__control:checked~div.sk-toggleable__content {max-height: 200px;max-width: 100%;overflow: auto;}#sk-container-id-2 input.sk-toggleable__control:checked~label.sk-toggleable__label-arrow:before {content: \"▾\";}#sk-container-id-2 div.sk-estimator input.sk-toggleable__control:checked~label.sk-toggleable__label {background-color: #d4ebff;}#sk-container-id-2 div.sk-label input.sk-toggleable__control:checked~label.sk-toggleable__label {background-color: #d4ebff;}#sk-container-id-2 input.sk-hidden--visually {border: 0;clip: rect(1px 1px 1px 1px);clip: rect(1px, 1px, 1px, 1px);height: 1px;margin: -1px;overflow: hidden;padding: 0;position: absolute;width: 1px;}#sk-container-id-2 div.sk-estimator {font-family: monospace;background-color: #f0f8ff;border: 1px dotted black;border-radius: 0.25em;box-sizing: border-box;margin-bottom: 0.5em;}#sk-container-id-2 div.sk-estimator:hover {background-color: #d4ebff;}#sk-container-id-2 div.sk-parallel-item::after {content: \"\";width: 100%;border-bottom: 1px solid gray;flex-grow: 1;}#sk-container-id-2 div.sk-label:hover label.sk-toggleable__label {background-color: #d4ebff;}#sk-container-id-2 div.sk-serial::before {content: \"\";position: absolute;border-left: 1px solid gray;box-sizing: border-box;top: 0;bottom: 0;left: 50%;z-index: 0;}#sk-container-id-2 div.sk-serial {display: flex;flex-direction: column;align-items: center;background-color: white;padding-right: 0.2em;padding-left: 0.2em;position: relative;}#sk-container-id-2 div.sk-item {position: relative;z-index: 1;}#sk-container-id-2 div.sk-parallel {display: flex;align-items: stretch;justify-content: center;background-color: white;position: relative;}#sk-container-id-2 div.sk-item::before, #sk-container-id-2 div.sk-parallel-item::before {content: \"\";position: absolute;border-left: 1px solid gray;box-sizing: border-box;top: 0;bottom: 0;left: 50%;z-index: -1;}#sk-container-id-2 div.sk-parallel-item {display: flex;flex-direction: column;z-index: 1;position: relative;background-color: white;}#sk-container-id-2 div.sk-parallel-item:first-child::after {align-self: flex-end;width: 50%;}#sk-container-id-2 div.sk-parallel-item:last-child::after {align-self: flex-start;width: 50%;}#sk-container-id-2 div.sk-parallel-item:only-child::after {width: 0;}#sk-container-id-2 div.sk-dashed-wrapped {border: 1px dashed gray;margin: 0 0.4em 0.5em 0.4em;box-sizing: border-box;padding-bottom: 0.4em;background-color: white;}#sk-container-id-2 div.sk-label label {font-family: monospace;font-weight: bold;display: inline-block;line-height: 1.2em;}#sk-container-id-2 div.sk-label-container {text-align: center;}#sk-container-id-2 div.sk-container {/* jupyter's `normalize.less` sets `[hidden] { display: none; }` but bootstrap.min.css set `[hidden] { display: none !important; }` so we also need the `!important` here to be able to override the default hidden behavior on the sphinx rendered scikit-learn.org. See: https://github.com/scikit-learn/scikit-learn/issues/21755 */display: inline-block !important;position: relative;}#sk-container-id-2 div.sk-text-repr-fallback {display: none;}</style><div id=\"sk-container-id-2\" class=\"sk-top-container\"><div class=\"sk-text-repr-fallback\"><pre>Pipeline(steps=[(&#x27;num_pipe&#x27;,\n",
              "                 Pipeline(steps=[(&#x27;imputer&#x27;, SimpleImputer()),\n",
              "                                 (&#x27;scaler&#x27;, StandardScaler())])),\n",
              "                (&#x27;svm&#x27;, SVC(random_state=42))])</pre><b>In a Jupyter environment, please rerun this cell to show the HTML representation or trust the notebook. <br />On GitHub, the HTML representation is unable to render, please try loading this page with nbviewer.org.</b></div><div class=\"sk-container\" hidden><div class=\"sk-item sk-dashed-wrapped\"><div class=\"sk-label-container\"><div class=\"sk-label sk-toggleable\"><input class=\"sk-toggleable__control sk-hidden--visually\" id=\"sk-estimator-id-4\" type=\"checkbox\" ><label for=\"sk-estimator-id-4\" class=\"sk-toggleable__label sk-toggleable__label-arrow\">Pipeline</label><div class=\"sk-toggleable__content\"><pre>Pipeline(steps=[(&#x27;num_pipe&#x27;,\n",
              "                 Pipeline(steps=[(&#x27;imputer&#x27;, SimpleImputer()),\n",
              "                                 (&#x27;scaler&#x27;, StandardScaler())])),\n",
              "                (&#x27;svm&#x27;, SVC(random_state=42))])</pre></div></div></div><div class=\"sk-serial\"><div class=\"sk-item\"><div class=\"sk-label-container\"><div class=\"sk-label sk-toggleable\"><input class=\"sk-toggleable__control sk-hidden--visually\" id=\"sk-estimator-id-5\" type=\"checkbox\" ><label for=\"sk-estimator-id-5\" class=\"sk-toggleable__label sk-toggleable__label-arrow\">num_pipe: Pipeline</label><div class=\"sk-toggleable__content\"><pre>Pipeline(steps=[(&#x27;imputer&#x27;, SimpleImputer()), (&#x27;scaler&#x27;, StandardScaler())])</pre></div></div></div><div class=\"sk-serial\"><div class=\"sk-item\"><div class=\"sk-estimator sk-toggleable\"><input class=\"sk-toggleable__control sk-hidden--visually\" id=\"sk-estimator-id-6\" type=\"checkbox\" ><label for=\"sk-estimator-id-6\" class=\"sk-toggleable__label sk-toggleable__label-arrow\">SimpleImputer</label><div class=\"sk-toggleable__content\"><pre>SimpleImputer()</pre></div></div></div><div class=\"sk-item\"><div class=\"sk-estimator sk-toggleable\"><input class=\"sk-toggleable__control sk-hidden--visually\" id=\"sk-estimator-id-7\" type=\"checkbox\" ><label for=\"sk-estimator-id-7\" class=\"sk-toggleable__label sk-toggleable__label-arrow\">StandardScaler</label><div class=\"sk-toggleable__content\"><pre>StandardScaler()</pre></div></div></div></div></div><div class=\"sk-item\"><div class=\"sk-estimator sk-toggleable\"><input class=\"sk-toggleable__control sk-hidden--visually\" id=\"sk-estimator-id-8\" type=\"checkbox\" ><label for=\"sk-estimator-id-8\" class=\"sk-toggleable__label sk-toggleable__label-arrow\">SVC</label><div class=\"sk-toggleable__content\"><pre>SVC(random_state=42)</pre></div></div></div></div></div></div></div>"
            ]
          },
          "metadata": {},
          "execution_count": 28
        }
      ]
    },
    {
      "cell_type": "code",
      "source": [
        "print(pipe_svm_juan)"
      ],
      "metadata": {
        "colab": {
          "base_uri": "https://localhost:8080/"
        },
        "id": "SYjkSON6rG62",
        "outputId": "c8355b08-16cc-4d42-a106-26f1f7fd0236"
      },
      "execution_count": null,
      "outputs": [
        {
          "output_type": "stream",
          "name": "stdout",
          "text": [
            "Pipeline(steps=[('num_pipe',\n",
            "                 Pipeline(steps=[('imputer', SimpleImputer()),\n",
            "                                 ('scaler', StandardScaler())])),\n",
            "                ('svm', SVC(random_state=42))])\n"
          ]
        }
      ]
    },
    {
      "cell_type": "markdown",
      "source": [
        "10.\tDefine the grid search parameters in an object and name it param_grid,\n",
        " as follows:\n",
        "\n",
        "  1.   'svc__kernel': ['linear', 'rbf','poly'],\n",
        "  2.   'svc__C':  [0.01,0.1, 1, 10, 100],\n",
        "  3.    'svc__gamma': [0.01, 0.03, 0.1, 0.3, 1.0, 3.0],\n",
        "  4. 'svc__degree':[2,3]},\n",
        "\n",
        "       "
      ],
      "metadata": {
        "id": "nGwgWjukrTOe"
      }
    },
    {
      "cell_type": "code",
      "source": [
        "param_grid = {\n",
        "    'svm__kernel': ['linear', 'rbf','poly'],\n",
        "    'svm__C':  [0.01,0.1, 1, 10, 100],\n",
        "    'svm__gamma': [0.01, 0.03, 0.1, 0.3, 1.0, 3.0],\n",
        "    'svm__degree':[2,3]\n",
        "}"
      ],
      "metadata": {
        "id": "OJe3S8l6rIN2"
      },
      "execution_count": null,
      "outputs": []
    },
    {
      "cell_type": "code",
      "source": [
        "print(param_grid)"
      ],
      "metadata": {
        "colab": {
          "base_uri": "https://localhost:8080/"
        },
        "id": "LO_O2yP4r722",
        "outputId": "29434ea4-2a9e-4c05-9338-d9828bb4652c"
      },
      "execution_count": null,
      "outputs": [
        {
          "output_type": "stream",
          "name": "stdout",
          "text": [
            "{'svm__kernel': ['linear', 'rbf', 'poly'], 'svm__C': [0.01, 0.1, 1, 10, 100], 'svm__gamma': [0.01, 0.03, 0.1, 0.3, 1.0, 3.0], 'svm__degree': [2, 3]}\n"
          ]
        }
      ]
    },
    {
      "cell_type": "markdown",
      "source": [
        "12.\tCreate a grid search object name it grid_search_firstname with the following parameters:\n",
        "\n",
        "    1.   estimator= pipe_svm_firstname\n",
        "    2.   param_grid=param_grid_svm\n",
        "    3. scoring='accuracy'\n",
        "    4. refit = True\n",
        "    5. verbose = 3\n",
        "\n"
      ],
      "metadata": {
        "id": "0SaYWoZV99hm"
      }
    },
    {
      "cell_type": "code",
      "source": [
        "from sklearn.model_selection import GridSearchCV\n",
        "\n",
        "grid_search_juan = GridSearchCV(\n",
        "    estimator=pipe_svm_juan,\n",
        "    param_grid=param_grid,\n",
        "    scoring='accuracy',\n",
        "    refit=True,\n",
        "    verbose=3\n",
        ")"
      ],
      "metadata": {
        "id": "yu7ayHpSr-WS"
      },
      "execution_count": null,
      "outputs": []
    },
    {
      "cell_type": "code",
      "source": [
        "grid_search_juan"
      ],
      "metadata": {
        "colab": {
          "base_uri": "https://localhost:8080/",
          "height": 209
        },
        "id": "c_NVzrh8-n2k",
        "outputId": "8d95dcc2-7022-4543-b443-a46f53e0ed40"
      },
      "execution_count": null,
      "outputs": [
        {
          "output_type": "execute_result",
          "data": {
            "text/plain": [
              "GridSearchCV(estimator=Pipeline(steps=[('num_pipe',\n",
              "                                        Pipeline(steps=[('imputer',\n",
              "                                                         SimpleImputer()),\n",
              "                                                        ('scaler',\n",
              "                                                         StandardScaler())])),\n",
              "                                       ('svm', SVC(random_state=42))]),\n",
              "             param_grid={'svm__C': [0.01, 0.1, 1, 10, 100],\n",
              "                         'svm__degree': [2, 3],\n",
              "                         'svm__gamma': [0.01, 0.03, 0.1, 0.3, 1.0, 3.0],\n",
              "                         'svm__kernel': ['linear', 'rbf', 'poly']},\n",
              "             scoring='accuracy', verbose=3)"
            ],
            "text/html": [
              "<style>#sk-container-id-4 {color: black;background-color: white;}#sk-container-id-4 pre{padding: 0;}#sk-container-id-4 div.sk-toggleable {background-color: white;}#sk-container-id-4 label.sk-toggleable__label {cursor: pointer;display: block;width: 100%;margin-bottom: 0;padding: 0.3em;box-sizing: border-box;text-align: center;}#sk-container-id-4 label.sk-toggleable__label-arrow:before {content: \"▸\";float: left;margin-right: 0.25em;color: #696969;}#sk-container-id-4 label.sk-toggleable__label-arrow:hover:before {color: black;}#sk-container-id-4 div.sk-estimator:hover label.sk-toggleable__label-arrow:before {color: black;}#sk-container-id-4 div.sk-toggleable__content {max-height: 0;max-width: 0;overflow: hidden;text-align: left;background-color: #f0f8ff;}#sk-container-id-4 div.sk-toggleable__content pre {margin: 0.2em;color: black;border-radius: 0.25em;background-color: #f0f8ff;}#sk-container-id-4 input.sk-toggleable__control:checked~div.sk-toggleable__content {max-height: 200px;max-width: 100%;overflow: auto;}#sk-container-id-4 input.sk-toggleable__control:checked~label.sk-toggleable__label-arrow:before {content: \"▾\";}#sk-container-id-4 div.sk-estimator input.sk-toggleable__control:checked~label.sk-toggleable__label {background-color: #d4ebff;}#sk-container-id-4 div.sk-label input.sk-toggleable__control:checked~label.sk-toggleable__label {background-color: #d4ebff;}#sk-container-id-4 input.sk-hidden--visually {border: 0;clip: rect(1px 1px 1px 1px);clip: rect(1px, 1px, 1px, 1px);height: 1px;margin: -1px;overflow: hidden;padding: 0;position: absolute;width: 1px;}#sk-container-id-4 div.sk-estimator {font-family: monospace;background-color: #f0f8ff;border: 1px dotted black;border-radius: 0.25em;box-sizing: border-box;margin-bottom: 0.5em;}#sk-container-id-4 div.sk-estimator:hover {background-color: #d4ebff;}#sk-container-id-4 div.sk-parallel-item::after {content: \"\";width: 100%;border-bottom: 1px solid gray;flex-grow: 1;}#sk-container-id-4 div.sk-label:hover label.sk-toggleable__label {background-color: #d4ebff;}#sk-container-id-4 div.sk-serial::before {content: \"\";position: absolute;border-left: 1px solid gray;box-sizing: border-box;top: 0;bottom: 0;left: 50%;z-index: 0;}#sk-container-id-4 div.sk-serial {display: flex;flex-direction: column;align-items: center;background-color: white;padding-right: 0.2em;padding-left: 0.2em;position: relative;}#sk-container-id-4 div.sk-item {position: relative;z-index: 1;}#sk-container-id-4 div.sk-parallel {display: flex;align-items: stretch;justify-content: center;background-color: white;position: relative;}#sk-container-id-4 div.sk-item::before, #sk-container-id-4 div.sk-parallel-item::before {content: \"\";position: absolute;border-left: 1px solid gray;box-sizing: border-box;top: 0;bottom: 0;left: 50%;z-index: -1;}#sk-container-id-4 div.sk-parallel-item {display: flex;flex-direction: column;z-index: 1;position: relative;background-color: white;}#sk-container-id-4 div.sk-parallel-item:first-child::after {align-self: flex-end;width: 50%;}#sk-container-id-4 div.sk-parallel-item:last-child::after {align-self: flex-start;width: 50%;}#sk-container-id-4 div.sk-parallel-item:only-child::after {width: 0;}#sk-container-id-4 div.sk-dashed-wrapped {border: 1px dashed gray;margin: 0 0.4em 0.5em 0.4em;box-sizing: border-box;padding-bottom: 0.4em;background-color: white;}#sk-container-id-4 div.sk-label label {font-family: monospace;font-weight: bold;display: inline-block;line-height: 1.2em;}#sk-container-id-4 div.sk-label-container {text-align: center;}#sk-container-id-4 div.sk-container {/* jupyter's `normalize.less` sets `[hidden] { display: none; }` but bootstrap.min.css set `[hidden] { display: none !important; }` so we also need the `!important` here to be able to override the default hidden behavior on the sphinx rendered scikit-learn.org. See: https://github.com/scikit-learn/scikit-learn/issues/21755 */display: inline-block !important;position: relative;}#sk-container-id-4 div.sk-text-repr-fallback {display: none;}</style><div id=\"sk-container-id-4\" class=\"sk-top-container\"><div class=\"sk-text-repr-fallback\"><pre>GridSearchCV(estimator=Pipeline(steps=[(&#x27;num_pipe&#x27;,\n",
              "                                        Pipeline(steps=[(&#x27;imputer&#x27;,\n",
              "                                                         SimpleImputer()),\n",
              "                                                        (&#x27;scaler&#x27;,\n",
              "                                                         StandardScaler())])),\n",
              "                                       (&#x27;svm&#x27;, SVC(random_state=42))]),\n",
              "             param_grid={&#x27;svm__C&#x27;: [0.01, 0.1, 1, 10, 100],\n",
              "                         &#x27;svm__degree&#x27;: [2, 3],\n",
              "                         &#x27;svm__gamma&#x27;: [0.01, 0.03, 0.1, 0.3, 1.0, 3.0],\n",
              "                         &#x27;svm__kernel&#x27;: [&#x27;linear&#x27;, &#x27;rbf&#x27;, &#x27;poly&#x27;]},\n",
              "             scoring=&#x27;accuracy&#x27;, verbose=3)</pre><b>In a Jupyter environment, please rerun this cell to show the HTML representation or trust the notebook. <br />On GitHub, the HTML representation is unable to render, please try loading this page with nbviewer.org.</b></div><div class=\"sk-container\" hidden><div class=\"sk-item sk-dashed-wrapped\"><div class=\"sk-label-container\"><div class=\"sk-label sk-toggleable\"><input class=\"sk-toggleable__control sk-hidden--visually\" id=\"sk-estimator-id-15\" type=\"checkbox\" ><label for=\"sk-estimator-id-15\" class=\"sk-toggleable__label sk-toggleable__label-arrow\">GridSearchCV</label><div class=\"sk-toggleable__content\"><pre>GridSearchCV(estimator=Pipeline(steps=[(&#x27;num_pipe&#x27;,\n",
              "                                        Pipeline(steps=[(&#x27;imputer&#x27;,\n",
              "                                                         SimpleImputer()),\n",
              "                                                        (&#x27;scaler&#x27;,\n",
              "                                                         StandardScaler())])),\n",
              "                                       (&#x27;svm&#x27;, SVC(random_state=42))]),\n",
              "             param_grid={&#x27;svm__C&#x27;: [0.01, 0.1, 1, 10, 100],\n",
              "                         &#x27;svm__degree&#x27;: [2, 3],\n",
              "                         &#x27;svm__gamma&#x27;: [0.01, 0.03, 0.1, 0.3, 1.0, 3.0],\n",
              "                         &#x27;svm__kernel&#x27;: [&#x27;linear&#x27;, &#x27;rbf&#x27;, &#x27;poly&#x27;]},\n",
              "             scoring=&#x27;accuracy&#x27;, verbose=3)</pre></div></div></div><div class=\"sk-parallel\"><div class=\"sk-parallel-item\"><div class=\"sk-item\"><div class=\"sk-label-container\"><div class=\"sk-label sk-toggleable\"><input class=\"sk-toggleable__control sk-hidden--visually\" id=\"sk-estimator-id-16\" type=\"checkbox\" ><label for=\"sk-estimator-id-16\" class=\"sk-toggleable__label sk-toggleable__label-arrow\">estimator: Pipeline</label><div class=\"sk-toggleable__content\"><pre>Pipeline(steps=[(&#x27;num_pipe&#x27;,\n",
              "                 Pipeline(steps=[(&#x27;imputer&#x27;, SimpleImputer()),\n",
              "                                 (&#x27;scaler&#x27;, StandardScaler())])),\n",
              "                (&#x27;svm&#x27;, SVC(random_state=42))])</pre></div></div></div><div class=\"sk-serial\"><div class=\"sk-item\"><div class=\"sk-serial\"><div class=\"sk-item\"><div class=\"sk-label-container\"><div class=\"sk-label sk-toggleable\"><input class=\"sk-toggleable__control sk-hidden--visually\" id=\"sk-estimator-id-17\" type=\"checkbox\" ><label for=\"sk-estimator-id-17\" class=\"sk-toggleable__label sk-toggleable__label-arrow\">num_pipe: Pipeline</label><div class=\"sk-toggleable__content\"><pre>Pipeline(steps=[(&#x27;imputer&#x27;, SimpleImputer()), (&#x27;scaler&#x27;, StandardScaler())])</pre></div></div></div><div class=\"sk-serial\"><div class=\"sk-item\"><div class=\"sk-estimator sk-toggleable\"><input class=\"sk-toggleable__control sk-hidden--visually\" id=\"sk-estimator-id-18\" type=\"checkbox\" ><label for=\"sk-estimator-id-18\" class=\"sk-toggleable__label sk-toggleable__label-arrow\">SimpleImputer</label><div class=\"sk-toggleable__content\"><pre>SimpleImputer()</pre></div></div></div><div class=\"sk-item\"><div class=\"sk-estimator sk-toggleable\"><input class=\"sk-toggleable__control sk-hidden--visually\" id=\"sk-estimator-id-19\" type=\"checkbox\" ><label for=\"sk-estimator-id-19\" class=\"sk-toggleable__label sk-toggleable__label-arrow\">StandardScaler</label><div class=\"sk-toggleable__content\"><pre>StandardScaler()</pre></div></div></div></div></div><div class=\"sk-item\"><div class=\"sk-estimator sk-toggleable\"><input class=\"sk-toggleable__control sk-hidden--visually\" id=\"sk-estimator-id-20\" type=\"checkbox\" ><label for=\"sk-estimator-id-20\" class=\"sk-toggleable__label sk-toggleable__label-arrow\">SVC</label><div class=\"sk-toggleable__content\"><pre>SVC(random_state=42)</pre></div></div></div></div></div></div></div></div></div></div></div></div>"
            ]
          },
          "metadata": {},
          "execution_count": 40
        }
      ]
    },
    {
      "cell_type": "code",
      "source": [
        "# 14.\tFit your training data to the gird search object. (This will take some time but you will see the results on the console)\n",
        "grid_search_juan.fit(X_train, y_train)"
      ],
      "metadata": {
        "colab": {
          "base_uri": "https://localhost:8080/",
          "height": 1000
        },
        "id": "9g8Hm3qf-tA4",
        "outputId": "470c863b-16d4-4a01-dd87-c524a6475efd"
      },
      "execution_count": null,
      "outputs": [
        {
          "output_type": "stream",
          "name": "stdout",
          "text": [
            "Fitting 5 folds for each of 180 candidates, totalling 900 fits\n",
            "[CV 1/5] END svm__C=0.01, svm__degree=2, svm__gamma=0.01, svm__kernel=linear;, score=0.973 total time=   0.0s\n",
            "[CV 2/5] END svm__C=0.01, svm__degree=2, svm__gamma=0.01, svm__kernel=linear;, score=0.973 total time=   0.0s\n",
            "[CV 3/5] END svm__C=0.01, svm__degree=2, svm__gamma=0.01, svm__kernel=linear;, score=0.973 total time=   0.0s\n",
            "[CV 4/5] END svm__C=0.01, svm__degree=2, svm__gamma=0.01, svm__kernel=linear;, score=0.973 total time=   0.0s\n",
            "[CV 5/5] END svm__C=0.01, svm__degree=2, svm__gamma=0.01, svm__kernel=linear;, score=0.937 total time=   0.0s\n",
            "[CV 1/5] END svm__C=0.01, svm__degree=2, svm__gamma=0.01, svm__kernel=rbf;, score=0.652 total time=   0.0s\n",
            "[CV 2/5] END svm__C=0.01, svm__degree=2, svm__gamma=0.01, svm__kernel=rbf;, score=0.652 total time=   0.0s\n",
            "[CV 3/5] END svm__C=0.01, svm__degree=2, svm__gamma=0.01, svm__kernel=rbf;, score=0.652 total time=   0.0s\n",
            "[CV 4/5] END svm__C=0.01, svm__degree=2, svm__gamma=0.01, svm__kernel=rbf;, score=0.643 total time=   0.0s\n",
            "[CV 5/5] END svm__C=0.01, svm__degree=2, svm__gamma=0.01, svm__kernel=rbf;, score=0.649 total time=   0.0s\n",
            "[CV 1/5] END svm__C=0.01, svm__degree=2, svm__gamma=0.01, svm__kernel=poly;, score=0.652 total time=   0.0s\n",
            "[CV 2/5] END svm__C=0.01, svm__degree=2, svm__gamma=0.01, svm__kernel=poly;, score=0.652 total time=   0.0s\n",
            "[CV 3/5] END svm__C=0.01, svm__degree=2, svm__gamma=0.01, svm__kernel=poly;, score=0.652 total time=   0.0s\n",
            "[CV 4/5] END svm__C=0.01, svm__degree=2, svm__gamma=0.01, svm__kernel=poly;, score=0.643 total time=   0.0s\n",
            "[CV 5/5] END svm__C=0.01, svm__degree=2, svm__gamma=0.01, svm__kernel=poly;, score=0.649 total time=   0.0s\n",
            "[CV 1/5] END svm__C=0.01, svm__degree=2, svm__gamma=0.03, svm__kernel=linear;, score=0.973 total time=   0.0s\n",
            "[CV 2/5] END svm__C=0.01, svm__degree=2, svm__gamma=0.03, svm__kernel=linear;, score=0.973 total time=   0.0s\n",
            "[CV 3/5] END svm__C=0.01, svm__degree=2, svm__gamma=0.03, svm__kernel=linear;, score=0.973 total time=   0.0s\n",
            "[CV 4/5] END svm__C=0.01, svm__degree=2, svm__gamma=0.03, svm__kernel=linear;, score=0.973 total time=   0.0s\n",
            "[CV 5/5] END svm__C=0.01, svm__degree=2, svm__gamma=0.03, svm__kernel=linear;, score=0.937 total time=   0.0s\n",
            "[CV 1/5] END svm__C=0.01, svm__degree=2, svm__gamma=0.03, svm__kernel=rbf;, score=0.866 total time=   0.0s\n",
            "[CV 2/5] END svm__C=0.01, svm__degree=2, svm__gamma=0.03, svm__kernel=rbf;, score=0.857 total time=   0.0s\n",
            "[CV 3/5] END svm__C=0.01, svm__degree=2, svm__gamma=0.03, svm__kernel=rbf;, score=0.875 total time=   0.0s\n",
            "[CV 4/5] END svm__C=0.01, svm__degree=2, svm__gamma=0.03, svm__kernel=rbf;, score=0.821 total time=   0.0s\n",
            "[CV 5/5] END svm__C=0.01, svm__degree=2, svm__gamma=0.03, svm__kernel=rbf;, score=0.829 total time=   0.0s\n",
            "[CV 1/5] END svm__C=0.01, svm__degree=2, svm__gamma=0.03, svm__kernel=poly;, score=0.652 total time=   0.0s\n",
            "[CV 2/5] END svm__C=0.01, svm__degree=2, svm__gamma=0.03, svm__kernel=poly;, score=0.652 total time=   0.0s\n",
            "[CV 3/5] END svm__C=0.01, svm__degree=2, svm__gamma=0.03, svm__kernel=poly;, score=0.652 total time=   0.0s\n",
            "[CV 4/5] END svm__C=0.01, svm__degree=2, svm__gamma=0.03, svm__kernel=poly;, score=0.643 total time=   0.0s\n",
            "[CV 5/5] END svm__C=0.01, svm__degree=2, svm__gamma=0.03, svm__kernel=poly;, score=0.649 total time=   0.0s\n",
            "[CV 1/5] END svm__C=0.01, svm__degree=2, svm__gamma=0.1, svm__kernel=linear;, score=0.973 total time=   0.0s\n",
            "[CV 2/5] END svm__C=0.01, svm__degree=2, svm__gamma=0.1, svm__kernel=linear;, score=0.973 total time=   0.0s\n",
            "[CV 3/5] END svm__C=0.01, svm__degree=2, svm__gamma=0.1, svm__kernel=linear;, score=0.973 total time=   0.0s\n",
            "[CV 4/5] END svm__C=0.01, svm__degree=2, svm__gamma=0.1, svm__kernel=linear;, score=0.973 total time=   0.0s\n",
            "[CV 5/5] END svm__C=0.01, svm__degree=2, svm__gamma=0.1, svm__kernel=linear;, score=0.937 total time=   0.0s\n",
            "[CV 1/5] END svm__C=0.01, svm__degree=2, svm__gamma=0.1, svm__kernel=rbf;, score=0.946 total time=   0.0s\n",
            "[CV 2/5] END svm__C=0.01, svm__degree=2, svm__gamma=0.1, svm__kernel=rbf;, score=0.946 total time=   0.0s\n",
            "[CV 3/5] END svm__C=0.01, svm__degree=2, svm__gamma=0.1, svm__kernel=rbf;, score=0.929 total time=   0.0s\n",
            "[CV 4/5] END svm__C=0.01, svm__degree=2, svm__gamma=0.1, svm__kernel=rbf;, score=0.973 total time=   0.0s\n",
            "[CV 5/5] END svm__C=0.01, svm__degree=2, svm__gamma=0.1, svm__kernel=rbf;, score=0.919 total time=   0.0s\n",
            "[CV 1/5] END svm__C=0.01, svm__degree=2, svm__gamma=0.1, svm__kernel=poly;, score=0.768 total time=   0.0s\n",
            "[CV 2/5] END svm__C=0.01, svm__degree=2, svm__gamma=0.1, svm__kernel=poly;, score=0.750 total time=   0.0s\n",
            "[CV 3/5] END svm__C=0.01, svm__degree=2, svm__gamma=0.1, svm__kernel=poly;, score=0.768 total time=   0.0s\n",
            "[CV 4/5] END svm__C=0.01, svm__degree=2, svm__gamma=0.1, svm__kernel=poly;, score=0.714 total time=   0.0s\n",
            "[CV 5/5] END svm__C=0.01, svm__degree=2, svm__gamma=0.1, svm__kernel=poly;, score=0.712 total time=   0.0s\n",
            "[CV 1/5] END svm__C=0.01, svm__degree=2, svm__gamma=0.3, svm__kernel=linear;, score=0.973 total time=   0.0s\n",
            "[CV 2/5] END svm__C=0.01, svm__degree=2, svm__gamma=0.3, svm__kernel=linear;, score=0.973 total time=   0.0s\n",
            "[CV 3/5] END svm__C=0.01, svm__degree=2, svm__gamma=0.3, svm__kernel=linear;, score=0.973 total time=   0.0s\n",
            "[CV 4/5] END svm__C=0.01, svm__degree=2, svm__gamma=0.3, svm__kernel=linear;, score=0.973 total time=   0.0s\n",
            "[CV 5/5] END svm__C=0.01, svm__degree=2, svm__gamma=0.3, svm__kernel=linear;, score=0.937 total time=   0.0s\n",
            "[CV 1/5] END svm__C=0.01, svm__degree=2, svm__gamma=0.3, svm__kernel=rbf;, score=0.670 total time=   0.0s\n",
            "[CV 2/5] END svm__C=0.01, svm__degree=2, svm__gamma=0.3, svm__kernel=rbf;, score=0.652 total time=   0.0s\n",
            "[CV 3/5] END svm__C=0.01, svm__degree=2, svm__gamma=0.3, svm__kernel=rbf;, score=0.652 total time=   0.0s\n",
            "[CV 4/5] END svm__C=0.01, svm__degree=2, svm__gamma=0.3, svm__kernel=rbf;, score=0.679 total time=   0.0s\n",
            "[CV 5/5] END svm__C=0.01, svm__degree=2, svm__gamma=0.3, svm__kernel=rbf;, score=0.694 total time=   0.0s\n",
            "[CV 1/5] END svm__C=0.01, svm__degree=2, svm__gamma=0.3, svm__kernel=poly;, score=0.884 total time=   0.0s\n",
            "[CV 2/5] END svm__C=0.01, svm__degree=2, svm__gamma=0.3, svm__kernel=poly;, score=0.830 total time=   0.0s\n",
            "[CV 3/5] END svm__C=0.01, svm__degree=2, svm__gamma=0.3, svm__kernel=poly;, score=0.875 total time=   0.0s\n",
            "[CV 4/5] END svm__C=0.01, svm__degree=2, svm__gamma=0.3, svm__kernel=poly;, score=0.812 total time=   0.0s\n",
            "[CV 5/5] END svm__C=0.01, svm__degree=2, svm__gamma=0.3, svm__kernel=poly;, score=0.856 total time=   0.0s\n",
            "[CV 1/5] END svm__C=0.01, svm__degree=2, svm__gamma=1.0, svm__kernel=linear;, score=0.973 total time=   0.0s\n",
            "[CV 2/5] END svm__C=0.01, svm__degree=2, svm__gamma=1.0, svm__kernel=linear;, score=0.973 total time=   0.0s\n",
            "[CV 3/5] END svm__C=0.01, svm__degree=2, svm__gamma=1.0, svm__kernel=linear;, score=0.973 total time=   0.0s\n",
            "[CV 4/5] END svm__C=0.01, svm__degree=2, svm__gamma=1.0, svm__kernel=linear;, score=0.973 total time=   0.0s\n",
            "[CV 5/5] END svm__C=0.01, svm__degree=2, svm__gamma=1.0, svm__kernel=linear;, score=0.937 total time=   0.0s\n",
            "[CV 1/5] END svm__C=0.01, svm__degree=2, svm__gamma=1.0, svm__kernel=rbf;, score=0.652 total time=   0.0s\n",
            "[CV 2/5] END svm__C=0.01, svm__degree=2, svm__gamma=1.0, svm__kernel=rbf;, score=0.652 total time=   0.0s\n",
            "[CV 3/5] END svm__C=0.01, svm__degree=2, svm__gamma=1.0, svm__kernel=rbf;, score=0.652 total time=   0.0s\n",
            "[CV 4/5] END svm__C=0.01, svm__degree=2, svm__gamma=1.0, svm__kernel=rbf;, score=0.643 total time=   0.0s\n",
            "[CV 5/5] END svm__C=0.01, svm__degree=2, svm__gamma=1.0, svm__kernel=rbf;, score=0.649 total time=   0.0s\n",
            "[CV 1/5] END svm__C=0.01, svm__degree=2, svm__gamma=1.0, svm__kernel=poly;, score=0.964 total time=   0.0s\n",
            "[CV 2/5] END svm__C=0.01, svm__degree=2, svm__gamma=1.0, svm__kernel=poly;, score=0.946 total time=   0.0s\n",
            "[CV 3/5] END svm__C=0.01, svm__degree=2, svm__gamma=1.0, svm__kernel=poly;, score=0.938 total time=   0.0s\n",
            "[CV 4/5] END svm__C=0.01, svm__degree=2, svm__gamma=1.0, svm__kernel=poly;, score=0.938 total time=   0.0s\n",
            "[CV 5/5] END svm__C=0.01, svm__degree=2, svm__gamma=1.0, svm__kernel=poly;, score=0.919 total time=   0.0s\n",
            "[CV 1/5] END svm__C=0.01, svm__degree=2, svm__gamma=3.0, svm__kernel=linear;, score=0.973 total time=   0.0s\n",
            "[CV 2/5] END svm__C=0.01, svm__degree=2, svm__gamma=3.0, svm__kernel=linear;, score=0.973 total time=   0.0s\n",
            "[CV 3/5] END svm__C=0.01, svm__degree=2, svm__gamma=3.0, svm__kernel=linear;, score=0.973 total time=   0.0s\n",
            "[CV 4/5] END svm__C=0.01, svm__degree=2, svm__gamma=3.0, svm__kernel=linear;, score=0.973 total time=   0.0s\n",
            "[CV 5/5] END svm__C=0.01, svm__degree=2, svm__gamma=3.0, svm__kernel=linear;, score=0.937 total time=   0.0s\n",
            "[CV 1/5] END svm__C=0.01, svm__degree=2, svm__gamma=3.0, svm__kernel=rbf;, score=0.652 total time=   0.0s\n",
            "[CV 2/5] END svm__C=0.01, svm__degree=2, svm__gamma=3.0, svm__kernel=rbf;, score=0.652 total time=   0.0s\n",
            "[CV 3/5] END svm__C=0.01, svm__degree=2, svm__gamma=3.0, svm__kernel=rbf;, score=0.652 total time=   0.0s\n",
            "[CV 4/5] END svm__C=0.01, svm__degree=2, svm__gamma=3.0, svm__kernel=rbf;, score=0.643 total time=   0.0s\n",
            "[CV 5/5] END svm__C=0.01, svm__degree=2, svm__gamma=3.0, svm__kernel=rbf;, score=0.649 total time=   0.0s\n",
            "[CV 1/5] END svm__C=0.01, svm__degree=2, svm__gamma=3.0, svm__kernel=poly;, score=0.964 total time=   0.0s\n",
            "[CV 2/5] END svm__C=0.01, svm__degree=2, svm__gamma=3.0, svm__kernel=poly;, score=0.929 total time=   0.0s\n",
            "[CV 3/5] END svm__C=0.01, svm__degree=2, svm__gamma=3.0, svm__kernel=poly;, score=0.973 total time=   0.0s\n",
            "[CV 4/5] END svm__C=0.01, svm__degree=2, svm__gamma=3.0, svm__kernel=poly;, score=0.929 total time=   0.0s\n",
            "[CV 5/5] END svm__C=0.01, svm__degree=2, svm__gamma=3.0, svm__kernel=poly;, score=0.928 total time=   0.0s\n",
            "[CV 1/5] END svm__C=0.01, svm__degree=3, svm__gamma=0.01, svm__kernel=linear;, score=0.973 total time=   0.0s\n",
            "[CV 2/5] END svm__C=0.01, svm__degree=3, svm__gamma=0.01, svm__kernel=linear;, score=0.973 total time=   0.0s\n",
            "[CV 3/5] END svm__C=0.01, svm__degree=3, svm__gamma=0.01, svm__kernel=linear;, score=0.973 total time=   0.0s\n",
            "[CV 4/5] END svm__C=0.01, svm__degree=3, svm__gamma=0.01, svm__kernel=linear;, score=0.973 total time=   0.0s\n",
            "[CV 5/5] END svm__C=0.01, svm__degree=3, svm__gamma=0.01, svm__kernel=linear;, score=0.937 total time=   0.0s\n",
            "[CV 1/5] END svm__C=0.01, svm__degree=3, svm__gamma=0.01, svm__kernel=rbf;, score=0.652 total time=   0.0s\n",
            "[CV 2/5] END svm__C=0.01, svm__degree=3, svm__gamma=0.01, svm__kernel=rbf;, score=0.652 total time=   0.0s\n",
            "[CV 3/5] END svm__C=0.01, svm__degree=3, svm__gamma=0.01, svm__kernel=rbf;, score=0.652 total time=   0.0s\n",
            "[CV 4/5] END svm__C=0.01, svm__degree=3, svm__gamma=0.01, svm__kernel=rbf;, score=0.643 total time=   0.0s\n",
            "[CV 5/5] END svm__C=0.01, svm__degree=3, svm__gamma=0.01, svm__kernel=rbf;, score=0.649 total time=   0.0s\n",
            "[CV 1/5] END svm__C=0.01, svm__degree=3, svm__gamma=0.01, svm__kernel=poly;, score=0.652 total time=   0.0s\n",
            "[CV 2/5] END svm__C=0.01, svm__degree=3, svm__gamma=0.01, svm__kernel=poly;, score=0.652 total time=   0.0s\n",
            "[CV 3/5] END svm__C=0.01, svm__degree=3, svm__gamma=0.01, svm__kernel=poly;, score=0.652 total time=   0.0s\n",
            "[CV 4/5] END svm__C=0.01, svm__degree=3, svm__gamma=0.01, svm__kernel=poly;, score=0.643 total time=   0.0s\n",
            "[CV 5/5] END svm__C=0.01, svm__degree=3, svm__gamma=0.01, svm__kernel=poly;, score=0.649 total time=   0.0s\n",
            "[CV 1/5] END svm__C=0.01, svm__degree=3, svm__gamma=0.03, svm__kernel=linear;, score=0.973 total time=   0.0s\n",
            "[CV 2/5] END svm__C=0.01, svm__degree=3, svm__gamma=0.03, svm__kernel=linear;, score=0.973 total time=   0.0s\n",
            "[CV 3/5] END svm__C=0.01, svm__degree=3, svm__gamma=0.03, svm__kernel=linear;, score=0.973 total time=   0.0s\n",
            "[CV 4/5] END svm__C=0.01, svm__degree=3, svm__gamma=0.03, svm__kernel=linear;, score=0.973 total time=   0.0s\n",
            "[CV 5/5] END svm__C=0.01, svm__degree=3, svm__gamma=0.03, svm__kernel=linear;, score=0.937 total time=   0.0s\n",
            "[CV 1/5] END svm__C=0.01, svm__degree=3, svm__gamma=0.03, svm__kernel=rbf;, score=0.866 total time=   0.0s\n",
            "[CV 2/5] END svm__C=0.01, svm__degree=3, svm__gamma=0.03, svm__kernel=rbf;, score=0.857 total time=   0.0s\n",
            "[CV 3/5] END svm__C=0.01, svm__degree=3, svm__gamma=0.03, svm__kernel=rbf;, score=0.875 total time=   0.0s\n",
            "[CV 4/5] END svm__C=0.01, svm__degree=3, svm__gamma=0.03, svm__kernel=rbf;, score=0.821 total time=   0.0s\n",
            "[CV 5/5] END svm__C=0.01, svm__degree=3, svm__gamma=0.03, svm__kernel=rbf;, score=0.829 total time=   0.0s\n",
            "[CV 1/5] END svm__C=0.01, svm__degree=3, svm__gamma=0.03, svm__kernel=poly;, score=0.652 total time=   0.0s\n",
            "[CV 2/5] END svm__C=0.01, svm__degree=3, svm__gamma=0.03, svm__kernel=poly;, score=0.652 total time=   0.0s\n",
            "[CV 3/5] END svm__C=0.01, svm__degree=3, svm__gamma=0.03, svm__kernel=poly;, score=0.652 total time=   0.0s\n",
            "[CV 4/5] END svm__C=0.01, svm__degree=3, svm__gamma=0.03, svm__kernel=poly;, score=0.643 total time=   0.0s\n",
            "[CV 5/5] END svm__C=0.01, svm__degree=3, svm__gamma=0.03, svm__kernel=poly;, score=0.649 total time=   0.0s\n",
            "[CV 1/5] END svm__C=0.01, svm__degree=3, svm__gamma=0.1, svm__kernel=linear;, score=0.973 total time=   0.0s\n",
            "[CV 2/5] END svm__C=0.01, svm__degree=3, svm__gamma=0.1, svm__kernel=linear;, score=0.973 total time=   0.0s\n",
            "[CV 3/5] END svm__C=0.01, svm__degree=3, svm__gamma=0.1, svm__kernel=linear;, score=0.973 total time=   0.0s\n",
            "[CV 4/5] END svm__C=0.01, svm__degree=3, svm__gamma=0.1, svm__kernel=linear;, score=0.973 total time=   0.0s\n",
            "[CV 5/5] END svm__C=0.01, svm__degree=3, svm__gamma=0.1, svm__kernel=linear;, score=0.937 total time=   0.0s\n",
            "[CV 1/5] END svm__C=0.01, svm__degree=3, svm__gamma=0.1, svm__kernel=rbf;, score=0.946 total time=   0.0s\n",
            "[CV 2/5] END svm__C=0.01, svm__degree=3, svm__gamma=0.1, svm__kernel=rbf;, score=0.946 total time=   0.0s\n",
            "[CV 3/5] END svm__C=0.01, svm__degree=3, svm__gamma=0.1, svm__kernel=rbf;, score=0.929 total time=   0.0s\n",
            "[CV 4/5] END svm__C=0.01, svm__degree=3, svm__gamma=0.1, svm__kernel=rbf;, score=0.973 total time=   0.0s\n",
            "[CV 5/5] END svm__C=0.01, svm__degree=3, svm__gamma=0.1, svm__kernel=rbf;, score=0.919 total time=   0.0s\n",
            "[CV 1/5] END svm__C=0.01, svm__degree=3, svm__gamma=0.1, svm__kernel=poly;, score=0.857 total time=   0.0s\n",
            "[CV 2/5] END svm__C=0.01, svm__degree=3, svm__gamma=0.1, svm__kernel=poly;, score=0.839 total time=   0.0s\n",
            "[CV 3/5] END svm__C=0.01, svm__degree=3, svm__gamma=0.1, svm__kernel=poly;, score=0.866 total time=   0.0s\n",
            "[CV 4/5] END svm__C=0.01, svm__degree=3, svm__gamma=0.1, svm__kernel=poly;, score=0.786 total time=   0.0s\n",
            "[CV 5/5] END svm__C=0.01, svm__degree=3, svm__gamma=0.1, svm__kernel=poly;, score=0.811 total time=   0.0s\n",
            "[CV 1/5] END svm__C=0.01, svm__degree=3, svm__gamma=0.3, svm__kernel=linear;, score=0.973 total time=   0.0s\n",
            "[CV 2/5] END svm__C=0.01, svm__degree=3, svm__gamma=0.3, svm__kernel=linear;, score=0.973 total time=   0.0s\n",
            "[CV 3/5] END svm__C=0.01, svm__degree=3, svm__gamma=0.3, svm__kernel=linear;, score=0.973 total time=   0.0s\n",
            "[CV 4/5] END svm__C=0.01, svm__degree=3, svm__gamma=0.3, svm__kernel=linear;, score=0.973 total time=   0.0s\n",
            "[CV 5/5] END svm__C=0.01, svm__degree=3, svm__gamma=0.3, svm__kernel=linear;, score=0.937 total time=   0.0s\n",
            "[CV 1/5] END svm__C=0.01, svm__degree=3, svm__gamma=0.3, svm__kernel=rbf;, score=0.670 total time=   0.0s\n",
            "[CV 2/5] END svm__C=0.01, svm__degree=3, svm__gamma=0.3, svm__kernel=rbf;, score=0.652 total time=   0.0s\n",
            "[CV 3/5] END svm__C=0.01, svm__degree=3, svm__gamma=0.3, svm__kernel=rbf;, score=0.652 total time=   0.0s\n",
            "[CV 4/5] END svm__C=0.01, svm__degree=3, svm__gamma=0.3, svm__kernel=rbf;, score=0.679 total time=   0.0s\n",
            "[CV 5/5] END svm__C=0.01, svm__degree=3, svm__gamma=0.3, svm__kernel=rbf;, score=0.694 total time=   0.0s\n",
            "[CV 1/5] END svm__C=0.01, svm__degree=3, svm__gamma=0.3, svm__kernel=poly;, score=0.946 total time=   0.0s\n",
            "[CV 2/5] END svm__C=0.01, svm__degree=3, svm__gamma=0.3, svm__kernel=poly;, score=0.929 total time=   0.0s\n",
            "[CV 3/5] END svm__C=0.01, svm__degree=3, svm__gamma=0.3, svm__kernel=poly;, score=0.902 total time=   0.0s\n",
            "[CV 4/5] END svm__C=0.01, svm__degree=3, svm__gamma=0.3, svm__kernel=poly;, score=0.946 total time=   0.0s\n",
            "[CV 5/5] END svm__C=0.01, svm__degree=3, svm__gamma=0.3, svm__kernel=poly;, score=0.928 total time=   0.0s\n",
            "[CV 1/5] END svm__C=0.01, svm__degree=3, svm__gamma=1.0, svm__kernel=linear;, score=0.973 total time=   0.0s\n",
            "[CV 2/5] END svm__C=0.01, svm__degree=3, svm__gamma=1.0, svm__kernel=linear;, score=0.973 total time=   0.0s\n",
            "[CV 3/5] END svm__C=0.01, svm__degree=3, svm__gamma=1.0, svm__kernel=linear;, score=0.973 total time=   0.0s\n",
            "[CV 4/5] END svm__C=0.01, svm__degree=3, svm__gamma=1.0, svm__kernel=linear;, score=0.973 total time=   0.0s\n",
            "[CV 5/5] END svm__C=0.01, svm__degree=3, svm__gamma=1.0, svm__kernel=linear;, score=0.937 total time=   0.0s\n",
            "[CV 1/5] END svm__C=0.01, svm__degree=3, svm__gamma=1.0, svm__kernel=rbf;, score=0.652 total time=   0.0s\n",
            "[CV 2/5] END svm__C=0.01, svm__degree=3, svm__gamma=1.0, svm__kernel=rbf;, score=0.652 total time=   0.0s\n",
            "[CV 3/5] END svm__C=0.01, svm__degree=3, svm__gamma=1.0, svm__kernel=rbf;, score=0.652 total time=   0.0s\n",
            "[CV 4/5] END svm__C=0.01, svm__degree=3, svm__gamma=1.0, svm__kernel=rbf;, score=0.643 total time=   0.0s\n",
            "[CV 5/5] END svm__C=0.01, svm__degree=3, svm__gamma=1.0, svm__kernel=rbf;, score=0.649 total time=   0.0s\n",
            "[CV 1/5] END svm__C=0.01, svm__degree=3, svm__gamma=1.0, svm__kernel=poly;, score=0.946 total time=   0.0s\n",
            "[CV 2/5] END svm__C=0.01, svm__degree=3, svm__gamma=1.0, svm__kernel=poly;, score=0.946 total time=   0.0s\n",
            "[CV 3/5] END svm__C=0.01, svm__degree=3, svm__gamma=1.0, svm__kernel=poly;, score=0.955 total time=   0.0s\n",
            "[CV 4/5] END svm__C=0.01, svm__degree=3, svm__gamma=1.0, svm__kernel=poly;, score=0.973 total time=   0.0s\n",
            "[CV 5/5] END svm__C=0.01, svm__degree=3, svm__gamma=1.0, svm__kernel=poly;, score=0.910 total time=   0.0s\n",
            "[CV 1/5] END svm__C=0.01, svm__degree=3, svm__gamma=3.0, svm__kernel=linear;, score=0.973 total time=   0.0s\n",
            "[CV 2/5] END svm__C=0.01, svm__degree=3, svm__gamma=3.0, svm__kernel=linear;, score=0.973 total time=   0.0s\n",
            "[CV 3/5] END svm__C=0.01, svm__degree=3, svm__gamma=3.0, svm__kernel=linear;, score=0.973 total time=   0.0s\n",
            "[CV 4/5] END svm__C=0.01, svm__degree=3, svm__gamma=3.0, svm__kernel=linear;, score=0.973 total time=   0.0s\n",
            "[CV 5/5] END svm__C=0.01, svm__degree=3, svm__gamma=3.0, svm__kernel=linear;, score=0.937 total time=   0.0s\n",
            "[CV 1/5] END svm__C=0.01, svm__degree=3, svm__gamma=3.0, svm__kernel=rbf;, score=0.652 total time=   0.0s\n",
            "[CV 2/5] END svm__C=0.01, svm__degree=3, svm__gamma=3.0, svm__kernel=rbf;, score=0.652 total time=   0.0s\n",
            "[CV 3/5] END svm__C=0.01, svm__degree=3, svm__gamma=3.0, svm__kernel=rbf;, score=0.652 total time=   0.0s\n",
            "[CV 4/5] END svm__C=0.01, svm__degree=3, svm__gamma=3.0, svm__kernel=rbf;, score=0.643 total time=   0.0s\n",
            "[CV 5/5] END svm__C=0.01, svm__degree=3, svm__gamma=3.0, svm__kernel=rbf;, score=0.649 total time=   0.0s\n",
            "[CV 1/5] END svm__C=0.01, svm__degree=3, svm__gamma=3.0, svm__kernel=poly;, score=0.938 total time=   0.0s\n",
            "[CV 2/5] END svm__C=0.01, svm__degree=3, svm__gamma=3.0, svm__kernel=poly;, score=0.938 total time=   0.0s\n",
            "[CV 3/5] END svm__C=0.01, svm__degree=3, svm__gamma=3.0, svm__kernel=poly;, score=0.955 total time=   0.0s\n",
            "[CV 4/5] END svm__C=0.01, svm__degree=3, svm__gamma=3.0, svm__kernel=poly;, score=0.973 total time=   0.0s\n",
            "[CV 5/5] END svm__C=0.01, svm__degree=3, svm__gamma=3.0, svm__kernel=poly;, score=0.901 total time=   0.0s\n",
            "[CV 1/5] END svm__C=0.1, svm__degree=2, svm__gamma=0.01, svm__kernel=linear;, score=0.973 total time=   0.0s\n",
            "[CV 2/5] END svm__C=0.1, svm__degree=2, svm__gamma=0.01, svm__kernel=linear;, score=0.964 total time=   0.0s\n",
            "[CV 3/5] END svm__C=0.1, svm__degree=2, svm__gamma=0.01, svm__kernel=linear;, score=0.973 total time=   0.0s\n",
            "[CV 4/5] END svm__C=0.1, svm__degree=2, svm__gamma=0.01, svm__kernel=linear;, score=0.964 total time=   0.0s\n",
            "[CV 5/5] END svm__C=0.1, svm__degree=2, svm__gamma=0.01, svm__kernel=linear;, score=0.946 total time=   0.0s\n",
            "[CV 1/5] END svm__C=0.1, svm__degree=2, svm__gamma=0.01, svm__kernel=rbf;, score=0.973 total time=   0.0s\n",
            "[CV 2/5] END svm__C=0.1, svm__degree=2, svm__gamma=0.01, svm__kernel=rbf;, score=0.964 total time=   0.0s\n",
            "[CV 3/5] END svm__C=0.1, svm__degree=2, svm__gamma=0.01, svm__kernel=rbf;, score=0.955 total time=   0.0s\n",
            "[CV 4/5] END svm__C=0.1, svm__degree=2, svm__gamma=0.01, svm__kernel=rbf;, score=0.991 total time=   0.0s\n",
            "[CV 5/5] END svm__C=0.1, svm__degree=2, svm__gamma=0.01, svm__kernel=rbf;, score=0.928 total time=   0.0s\n",
            "[CV 1/5] END svm__C=0.1, svm__degree=2, svm__gamma=0.01, svm__kernel=poly;, score=0.652 total time=   0.0s\n",
            "[CV 2/5] END svm__C=0.1, svm__degree=2, svm__gamma=0.01, svm__kernel=poly;, score=0.652 total time=   0.0s\n",
            "[CV 3/5] END svm__C=0.1, svm__degree=2, svm__gamma=0.01, svm__kernel=poly;, score=0.652 total time=   0.0s\n",
            "[CV 4/5] END svm__C=0.1, svm__degree=2, svm__gamma=0.01, svm__kernel=poly;, score=0.643 total time=   0.0s\n",
            "[CV 5/5] END svm__C=0.1, svm__degree=2, svm__gamma=0.01, svm__kernel=poly;, score=0.649 total time=   0.0s\n",
            "[CV 1/5] END svm__C=0.1, svm__degree=2, svm__gamma=0.03, svm__kernel=linear;, score=0.973 total time=   0.0s\n",
            "[CV 2/5] END svm__C=0.1, svm__degree=2, svm__gamma=0.03, svm__kernel=linear;, score=0.964 total time=   0.0s\n",
            "[CV 3/5] END svm__C=0.1, svm__degree=2, svm__gamma=0.03, svm__kernel=linear;, score=0.973 total time=   0.0s\n",
            "[CV 4/5] END svm__C=0.1, svm__degree=2, svm__gamma=0.03, svm__kernel=linear;, score=0.964 total time=   0.0s\n",
            "[CV 5/5] END svm__C=0.1, svm__degree=2, svm__gamma=0.03, svm__kernel=linear;, score=0.946 total time=   0.0s\n",
            "[CV 1/5] END svm__C=0.1, svm__degree=2, svm__gamma=0.03, svm__kernel=rbf;, score=0.973 total time=   0.0s\n",
            "[CV 2/5] END svm__C=0.1, svm__degree=2, svm__gamma=0.03, svm__kernel=rbf;, score=0.973 total time=   0.0s\n",
            "[CV 3/5] END svm__C=0.1, svm__degree=2, svm__gamma=0.03, svm__kernel=rbf;, score=0.982 total time=   0.0s\n",
            "[CV 4/5] END svm__C=0.1, svm__degree=2, svm__gamma=0.03, svm__kernel=rbf;, score=0.982 total time=   0.0s\n",
            "[CV 5/5] END svm__C=0.1, svm__degree=2, svm__gamma=0.03, svm__kernel=rbf;, score=0.937 total time=   0.0s\n",
            "[CV 1/5] END svm__C=0.1, svm__degree=2, svm__gamma=0.03, svm__kernel=poly;, score=0.759 total time=   0.0s\n",
            "[CV 2/5] END svm__C=0.1, svm__degree=2, svm__gamma=0.03, svm__kernel=poly;, score=0.741 total time=   0.0s\n",
            "[CV 3/5] END svm__C=0.1, svm__degree=2, svm__gamma=0.03, svm__kernel=poly;, score=0.759 total time=   0.0s\n",
            "[CV 4/5] END svm__C=0.1, svm__degree=2, svm__gamma=0.03, svm__kernel=poly;, score=0.714 total time=   0.0s\n",
            "[CV 5/5] END svm__C=0.1, svm__degree=2, svm__gamma=0.03, svm__kernel=poly;, score=0.712 total time=   0.0s\n",
            "[CV 1/5] END svm__C=0.1, svm__degree=2, svm__gamma=0.1, svm__kernel=linear;, score=0.973 total time=   0.0s\n",
            "[CV 2/5] END svm__C=0.1, svm__degree=2, svm__gamma=0.1, svm__kernel=linear;, score=0.964 total time=   0.0s\n",
            "[CV 3/5] END svm__C=0.1, svm__degree=2, svm__gamma=0.1, svm__kernel=linear;, score=0.973 total time=   0.0s\n",
            "[CV 4/5] END svm__C=0.1, svm__degree=2, svm__gamma=0.1, svm__kernel=linear;, score=0.964 total time=   0.0s\n",
            "[CV 5/5] END svm__C=0.1, svm__degree=2, svm__gamma=0.1, svm__kernel=linear;, score=0.946 total time=   0.0s\n",
            "[CV 1/5] END svm__C=0.1, svm__degree=2, svm__gamma=0.1, svm__kernel=rbf;, score=0.964 total time=   0.0s\n",
            "[CV 2/5] END svm__C=0.1, svm__degree=2, svm__gamma=0.1, svm__kernel=rbf;, score=0.964 total time=   0.0s\n",
            "[CV 3/5] END svm__C=0.1, svm__degree=2, svm__gamma=0.1, svm__kernel=rbf;, score=0.982 total time=   0.0s\n",
            "[CV 4/5] END svm__C=0.1, svm__degree=2, svm__gamma=0.1, svm__kernel=rbf;, score=0.964 total time=   0.0s\n",
            "[CV 5/5] END svm__C=0.1, svm__degree=2, svm__gamma=0.1, svm__kernel=rbf;, score=0.946 total time=   0.0s\n",
            "[CV 1/5] END svm__C=0.1, svm__degree=2, svm__gamma=0.1, svm__kernel=poly;, score=0.884 total time=   0.0s\n",
            "[CV 2/5] END svm__C=0.1, svm__degree=2, svm__gamma=0.1, svm__kernel=poly;, score=0.830 total time=   0.0s\n",
            "[CV 3/5] END svm__C=0.1, svm__degree=2, svm__gamma=0.1, svm__kernel=poly;, score=0.884 total time=   0.0s\n",
            "[CV 4/5] END svm__C=0.1, svm__degree=2, svm__gamma=0.1, svm__kernel=poly;, score=0.830 total time=   0.0s\n",
            "[CV 5/5] END svm__C=0.1, svm__degree=2, svm__gamma=0.1, svm__kernel=poly;, score=0.865 total time=   0.0s\n",
            "[CV 1/5] END svm__C=0.1, svm__degree=2, svm__gamma=0.3, svm__kernel=linear;, score=0.973 total time=   0.0s\n",
            "[CV 2/5] END svm__C=0.1, svm__degree=2, svm__gamma=0.3, svm__kernel=linear;, score=0.964 total time=   0.0s\n",
            "[CV 3/5] END svm__C=0.1, svm__degree=2, svm__gamma=0.3, svm__kernel=linear;, score=0.973 total time=   0.0s\n",
            "[CV 4/5] END svm__C=0.1, svm__degree=2, svm__gamma=0.3, svm__kernel=linear;, score=0.964 total time=   0.0s\n",
            "[CV 5/5] END svm__C=0.1, svm__degree=2, svm__gamma=0.3, svm__kernel=linear;, score=0.946 total time=   0.0s\n",
            "[CV 1/5] END svm__C=0.1, svm__degree=2, svm__gamma=0.3, svm__kernel=rbf;, score=0.964 total time=   0.0s\n",
            "[CV 2/5] END svm__C=0.1, svm__degree=2, svm__gamma=0.3, svm__kernel=rbf;, score=0.955 total time=   0.0s\n",
            "[CV 3/5] END svm__C=0.1, svm__degree=2, svm__gamma=0.3, svm__kernel=rbf;, score=0.964 total time=   0.0s\n",
            "[CV 4/5] END svm__C=0.1, svm__degree=2, svm__gamma=0.3, svm__kernel=rbf;, score=0.946 total time=   0.0s\n",
            "[CV 5/5] END svm__C=0.1, svm__degree=2, svm__gamma=0.3, svm__kernel=rbf;, score=0.928 total time=   0.0s\n",
            "[CV 1/5] END svm__C=0.1, svm__degree=2, svm__gamma=0.3, svm__kernel=poly;, score=0.964 total time=   0.0s\n",
            "[CV 2/5] END svm__C=0.1, svm__degree=2, svm__gamma=0.3, svm__kernel=poly;, score=0.946 total time=   0.0s\n",
            "[CV 3/5] END svm__C=0.1, svm__degree=2, svm__gamma=0.3, svm__kernel=poly;, score=0.938 total time=   0.0s\n",
            "[CV 4/5] END svm__C=0.1, svm__degree=2, svm__gamma=0.3, svm__kernel=poly;, score=0.929 total time=   0.0s\n",
            "[CV 5/5] END svm__C=0.1, svm__degree=2, svm__gamma=0.3, svm__kernel=poly;, score=0.919 total time=   0.0s\n",
            "[CV 1/5] END svm__C=0.1, svm__degree=2, svm__gamma=1.0, svm__kernel=linear;, score=0.973 total time=   0.0s\n",
            "[CV 2/5] END svm__C=0.1, svm__degree=2, svm__gamma=1.0, svm__kernel=linear;, score=0.964 total time=   0.0s\n",
            "[CV 3/5] END svm__C=0.1, svm__degree=2, svm__gamma=1.0, svm__kernel=linear;, score=0.973 total time=   0.0s\n",
            "[CV 4/5] END svm__C=0.1, svm__degree=2, svm__gamma=1.0, svm__kernel=linear;, score=0.964 total time=   0.0s\n",
            "[CV 5/5] END svm__C=0.1, svm__degree=2, svm__gamma=1.0, svm__kernel=linear;, score=0.946 total time=   0.0s\n",
            "[CV 1/5] END svm__C=0.1, svm__degree=2, svm__gamma=1.0, svm__kernel=rbf;, score=0.938 total time=   0.0s\n",
            "[CV 2/5] END svm__C=0.1, svm__degree=2, svm__gamma=1.0, svm__kernel=rbf;, score=0.946 total time=   0.0s\n",
            "[CV 3/5] END svm__C=0.1, svm__degree=2, svm__gamma=1.0, svm__kernel=rbf;, score=0.955 total time=   0.0s\n",
            "[CV 4/5] END svm__C=0.1, svm__degree=2, svm__gamma=1.0, svm__kernel=rbf;, score=0.920 total time=   0.0s\n",
            "[CV 5/5] END svm__C=0.1, svm__degree=2, svm__gamma=1.0, svm__kernel=rbf;, score=0.919 total time=   0.0s\n",
            "[CV 1/5] END svm__C=0.1, svm__degree=2, svm__gamma=1.0, svm__kernel=poly;, score=0.964 total time=   0.0s\n",
            "[CV 2/5] END svm__C=0.1, svm__degree=2, svm__gamma=1.0, svm__kernel=poly;, score=0.920 total time=   0.0s\n",
            "[CV 3/5] END svm__C=0.1, svm__degree=2, svm__gamma=1.0, svm__kernel=poly;, score=0.964 total time=   0.0s\n",
            "[CV 4/5] END svm__C=0.1, svm__degree=2, svm__gamma=1.0, svm__kernel=poly;, score=0.920 total time=   0.0s\n",
            "[CV 5/5] END svm__C=0.1, svm__degree=2, svm__gamma=1.0, svm__kernel=poly;, score=0.928 total time=   0.0s\n",
            "[CV 1/5] END svm__C=0.1, svm__degree=2, svm__gamma=3.0, svm__kernel=linear;, score=0.973 total time=   0.0s\n",
            "[CV 2/5] END svm__C=0.1, svm__degree=2, svm__gamma=3.0, svm__kernel=linear;, score=0.964 total time=   0.0s\n",
            "[CV 3/5] END svm__C=0.1, svm__degree=2, svm__gamma=3.0, svm__kernel=linear;, score=0.973 total time=   0.0s\n",
            "[CV 4/5] END svm__C=0.1, svm__degree=2, svm__gamma=3.0, svm__kernel=linear;, score=0.964 total time=   0.0s\n",
            "[CV 5/5] END svm__C=0.1, svm__degree=2, svm__gamma=3.0, svm__kernel=linear;, score=0.946 total time=   0.0s\n",
            "[CV 1/5] END svm__C=0.1, svm__degree=2, svm__gamma=3.0, svm__kernel=rbf;, score=0.875 total time=   0.0s\n",
            "[CV 2/5] END svm__C=0.1, svm__degree=2, svm__gamma=3.0, svm__kernel=rbf;, score=0.938 total time=   0.0s\n",
            "[CV 3/5] END svm__C=0.1, svm__degree=2, svm__gamma=3.0, svm__kernel=rbf;, score=0.938 total time=   0.0s\n",
            "[CV 4/5] END svm__C=0.1, svm__degree=2, svm__gamma=3.0, svm__kernel=rbf;, score=0.875 total time=   0.0s\n",
            "[CV 5/5] END svm__C=0.1, svm__degree=2, svm__gamma=3.0, svm__kernel=rbf;, score=0.865 total time=   0.0s\n",
            "[CV 1/5] END svm__C=0.1, svm__degree=2, svm__gamma=3.0, svm__kernel=poly;, score=0.973 total time=   0.0s\n",
            "[CV 2/5] END svm__C=0.1, svm__degree=2, svm__gamma=3.0, svm__kernel=poly;, score=0.875 total time=   0.0s\n",
            "[CV 3/5] END svm__C=0.1, svm__degree=2, svm__gamma=3.0, svm__kernel=poly;, score=0.964 total time=   0.0s\n",
            "[CV 4/5] END svm__C=0.1, svm__degree=2, svm__gamma=3.0, svm__kernel=poly;, score=0.938 total time=   0.0s\n",
            "[CV 5/5] END svm__C=0.1, svm__degree=2, svm__gamma=3.0, svm__kernel=poly;, score=0.937 total time=   0.0s\n",
            "[CV 1/5] END svm__C=0.1, svm__degree=3, svm__gamma=0.01, svm__kernel=linear;, score=0.973 total time=   0.0s\n",
            "[CV 2/5] END svm__C=0.1, svm__degree=3, svm__gamma=0.01, svm__kernel=linear;, score=0.964 total time=   0.0s\n",
            "[CV 3/5] END svm__C=0.1, svm__degree=3, svm__gamma=0.01, svm__kernel=linear;, score=0.973 total time=   0.0s\n",
            "[CV 4/5] END svm__C=0.1, svm__degree=3, svm__gamma=0.01, svm__kernel=linear;, score=0.964 total time=   0.0s\n",
            "[CV 5/5] END svm__C=0.1, svm__degree=3, svm__gamma=0.01, svm__kernel=linear;, score=0.946 total time=   0.0s\n",
            "[CV 1/5] END svm__C=0.1, svm__degree=3, svm__gamma=0.01, svm__kernel=rbf;, score=0.973 total time=   0.0s\n",
            "[CV 2/5] END svm__C=0.1, svm__degree=3, svm__gamma=0.01, svm__kernel=rbf;, score=0.964 total time=   0.0s\n",
            "[CV 3/5] END svm__C=0.1, svm__degree=3, svm__gamma=0.01, svm__kernel=rbf;, score=0.955 total time=   0.0s\n",
            "[CV 4/5] END svm__C=0.1, svm__degree=3, svm__gamma=0.01, svm__kernel=rbf;, score=0.991 total time=   0.0s\n",
            "[CV 5/5] END svm__C=0.1, svm__degree=3, svm__gamma=0.01, svm__kernel=rbf;, score=0.928 total time=   0.0s\n",
            "[CV 1/5] END svm__C=0.1, svm__degree=3, svm__gamma=0.01, svm__kernel=poly;, score=0.652 total time=   0.0s\n",
            "[CV 2/5] END svm__C=0.1, svm__degree=3, svm__gamma=0.01, svm__kernel=poly;, score=0.652 total time=   0.0s\n",
            "[CV 3/5] END svm__C=0.1, svm__degree=3, svm__gamma=0.01, svm__kernel=poly;, score=0.652 total time=   0.0s\n",
            "[CV 4/5] END svm__C=0.1, svm__degree=3, svm__gamma=0.01, svm__kernel=poly;, score=0.643 total time=   0.0s\n",
            "[CV 5/5] END svm__C=0.1, svm__degree=3, svm__gamma=0.01, svm__kernel=poly;, score=0.649 total time=   0.0s\n",
            "[CV 1/5] END svm__C=0.1, svm__degree=3, svm__gamma=0.03, svm__kernel=linear;, score=0.973 total time=   0.0s\n",
            "[CV 2/5] END svm__C=0.1, svm__degree=3, svm__gamma=0.03, svm__kernel=linear;, score=0.964 total time=   0.0s\n",
            "[CV 3/5] END svm__C=0.1, svm__degree=3, svm__gamma=0.03, svm__kernel=linear;, score=0.973 total time=   0.0s\n",
            "[CV 4/5] END svm__C=0.1, svm__degree=3, svm__gamma=0.03, svm__kernel=linear;, score=0.964 total time=   0.0s\n",
            "[CV 5/5] END svm__C=0.1, svm__degree=3, svm__gamma=0.03, svm__kernel=linear;, score=0.946 total time=   0.0s\n",
            "[CV 1/5] END svm__C=0.1, svm__degree=3, svm__gamma=0.03, svm__kernel=rbf;, score=0.973 total time=   0.0s\n",
            "[CV 2/5] END svm__C=0.1, svm__degree=3, svm__gamma=0.03, svm__kernel=rbf;, score=0.973 total time=   0.0s\n",
            "[CV 3/5] END svm__C=0.1, svm__degree=3, svm__gamma=0.03, svm__kernel=rbf;, score=0.982 total time=   0.0s\n",
            "[CV 4/5] END svm__C=0.1, svm__degree=3, svm__gamma=0.03, svm__kernel=rbf;, score=0.982 total time=   0.0s\n",
            "[CV 5/5] END svm__C=0.1, svm__degree=3, svm__gamma=0.03, svm__kernel=rbf;, score=0.937 total time=   0.0s\n",
            "[CV 1/5] END svm__C=0.1, svm__degree=3, svm__gamma=0.03, svm__kernel=poly;, score=0.759 total time=   0.0s\n",
            "[CV 2/5] END svm__C=0.1, svm__degree=3, svm__gamma=0.03, svm__kernel=poly;, score=0.750 total time=   0.0s\n",
            "[CV 3/5] END svm__C=0.1, svm__degree=3, svm__gamma=0.03, svm__kernel=poly;, score=0.777 total time=   0.0s\n",
            "[CV 4/5] END svm__C=0.1, svm__degree=3, svm__gamma=0.03, svm__kernel=poly;, score=0.714 total time=   0.0s\n",
            "[CV 5/5] END svm__C=0.1, svm__degree=3, svm__gamma=0.03, svm__kernel=poly;, score=0.712 total time=   0.0s\n",
            "[CV 1/5] END svm__C=0.1, svm__degree=3, svm__gamma=0.1, svm__kernel=linear;, score=0.973 total time=   0.0s\n",
            "[CV 2/5] END svm__C=0.1, svm__degree=3, svm__gamma=0.1, svm__kernel=linear;, score=0.964 total time=   0.0s\n",
            "[CV 3/5] END svm__C=0.1, svm__degree=3, svm__gamma=0.1, svm__kernel=linear;, score=0.973 total time=   0.0s\n",
            "[CV 4/5] END svm__C=0.1, svm__degree=3, svm__gamma=0.1, svm__kernel=linear;, score=0.964 total time=   0.0s\n",
            "[CV 5/5] END svm__C=0.1, svm__degree=3, svm__gamma=0.1, svm__kernel=linear;, score=0.946 total time=   0.0s\n",
            "[CV 1/5] END svm__C=0.1, svm__degree=3, svm__gamma=0.1, svm__kernel=rbf;, score=0.964 total time=   0.0s\n",
            "[CV 2/5] END svm__C=0.1, svm__degree=3, svm__gamma=0.1, svm__kernel=rbf;, score=0.964 total time=   0.0s\n",
            "[CV 3/5] END svm__C=0.1, svm__degree=3, svm__gamma=0.1, svm__kernel=rbf;, score=0.982 total time=   0.0s\n",
            "[CV 4/5] END svm__C=0.1, svm__degree=3, svm__gamma=0.1, svm__kernel=rbf;, score=0.964 total time=   0.0s\n",
            "[CV 5/5] END svm__C=0.1, svm__degree=3, svm__gamma=0.1, svm__kernel=rbf;, score=0.946 total time=   0.0s\n",
            "[CV 1/5] END svm__C=0.1, svm__degree=3, svm__gamma=0.1, svm__kernel=poly;, score=0.920 total time=   0.0s\n",
            "[CV 2/5] END svm__C=0.1, svm__degree=3, svm__gamma=0.1, svm__kernel=poly;, score=0.920 total time=   0.0s\n",
            "[CV 3/5] END svm__C=0.1, svm__degree=3, svm__gamma=0.1, svm__kernel=poly;, score=0.902 total time=   0.0s\n",
            "[CV 4/5] END svm__C=0.1, svm__degree=3, svm__gamma=0.1, svm__kernel=poly;, score=0.902 total time=   0.0s\n",
            "[CV 5/5] END svm__C=0.1, svm__degree=3, svm__gamma=0.1, svm__kernel=poly;, score=0.883 total time=   0.0s\n",
            "[CV 1/5] END svm__C=0.1, svm__degree=3, svm__gamma=0.3, svm__kernel=linear;, score=0.973 total time=   0.0s\n",
            "[CV 2/5] END svm__C=0.1, svm__degree=3, svm__gamma=0.3, svm__kernel=linear;, score=0.964 total time=   0.0s\n",
            "[CV 3/5] END svm__C=0.1, svm__degree=3, svm__gamma=0.3, svm__kernel=linear;, score=0.973 total time=   0.0s\n",
            "[CV 4/5] END svm__C=0.1, svm__degree=3, svm__gamma=0.3, svm__kernel=linear;, score=0.964 total time=   0.0s\n",
            "[CV 5/5] END svm__C=0.1, svm__degree=3, svm__gamma=0.3, svm__kernel=linear;, score=0.946 total time=   0.0s\n",
            "[CV 1/5] END svm__C=0.1, svm__degree=3, svm__gamma=0.3, svm__kernel=rbf;, score=0.964 total time=   0.0s\n",
            "[CV 2/5] END svm__C=0.1, svm__degree=3, svm__gamma=0.3, svm__kernel=rbf;, score=0.955 total time=   0.0s\n",
            "[CV 3/5] END svm__C=0.1, svm__degree=3, svm__gamma=0.3, svm__kernel=rbf;, score=0.964 total time=   0.0s\n",
            "[CV 4/5] END svm__C=0.1, svm__degree=3, svm__gamma=0.3, svm__kernel=rbf;, score=0.946 total time=   0.0s\n",
            "[CV 5/5] END svm__C=0.1, svm__degree=3, svm__gamma=0.3, svm__kernel=rbf;, score=0.928 total time=   0.0s\n",
            "[CV 1/5] END svm__C=0.1, svm__degree=3, svm__gamma=0.3, svm__kernel=poly;, score=0.946 total time=   0.0s\n",
            "[CV 2/5] END svm__C=0.1, svm__degree=3, svm__gamma=0.3, svm__kernel=poly;, score=0.955 total time=   0.0s\n",
            "[CV 3/5] END svm__C=0.1, svm__degree=3, svm__gamma=0.3, svm__kernel=poly;, score=0.946 total time=   0.0s\n",
            "[CV 4/5] END svm__C=0.1, svm__degree=3, svm__gamma=0.3, svm__kernel=poly;, score=0.973 total time=   0.0s\n",
            "[CV 5/5] END svm__C=0.1, svm__degree=3, svm__gamma=0.3, svm__kernel=poly;, score=0.928 total time=   0.0s\n",
            "[CV 1/5] END svm__C=0.1, svm__degree=3, svm__gamma=1.0, svm__kernel=linear;, score=0.973 total time=   0.0s\n",
            "[CV 2/5] END svm__C=0.1, svm__degree=3, svm__gamma=1.0, svm__kernel=linear;, score=0.964 total time=   0.0s\n",
            "[CV 3/5] END svm__C=0.1, svm__degree=3, svm__gamma=1.0, svm__kernel=linear;, score=0.973 total time=   0.0s\n",
            "[CV 4/5] END svm__C=0.1, svm__degree=3, svm__gamma=1.0, svm__kernel=linear;, score=0.964 total time=   0.0s\n",
            "[CV 5/5] END svm__C=0.1, svm__degree=3, svm__gamma=1.0, svm__kernel=linear;, score=0.946 total time=   0.0s\n",
            "[CV 1/5] END svm__C=0.1, svm__degree=3, svm__gamma=1.0, svm__kernel=rbf;, score=0.938 total time=   0.0s\n",
            "[CV 2/5] END svm__C=0.1, svm__degree=3, svm__gamma=1.0, svm__kernel=rbf;, score=0.946 total time=   0.0s\n",
            "[CV 3/5] END svm__C=0.1, svm__degree=3, svm__gamma=1.0, svm__kernel=rbf;, score=0.955 total time=   0.0s\n",
            "[CV 4/5] END svm__C=0.1, svm__degree=3, svm__gamma=1.0, svm__kernel=rbf;, score=0.920 total time=   0.0s\n",
            "[CV 5/5] END svm__C=0.1, svm__degree=3, svm__gamma=1.0, svm__kernel=rbf;, score=0.919 total time=   0.0s\n",
            "[CV 1/5] END svm__C=0.1, svm__degree=3, svm__gamma=1.0, svm__kernel=poly;, score=0.938 total time=   0.0s\n",
            "[CV 2/5] END svm__C=0.1, svm__degree=3, svm__gamma=1.0, svm__kernel=poly;, score=0.929 total time=   0.0s\n",
            "[CV 3/5] END svm__C=0.1, svm__degree=3, svm__gamma=1.0, svm__kernel=poly;, score=0.946 total time=   0.0s\n",
            "[CV 4/5] END svm__C=0.1, svm__degree=3, svm__gamma=1.0, svm__kernel=poly;, score=0.955 total time=   0.0s\n",
            "[CV 5/5] END svm__C=0.1, svm__degree=3, svm__gamma=1.0, svm__kernel=poly;, score=0.910 total time=   0.0s\n",
            "[CV 1/5] END svm__C=0.1, svm__degree=3, svm__gamma=3.0, svm__kernel=linear;, score=0.973 total time=   0.0s\n",
            "[CV 2/5] END svm__C=0.1, svm__degree=3, svm__gamma=3.0, svm__kernel=linear;, score=0.964 total time=   0.0s\n",
            "[CV 3/5] END svm__C=0.1, svm__degree=3, svm__gamma=3.0, svm__kernel=linear;, score=0.973 total time=   0.0s\n",
            "[CV 4/5] END svm__C=0.1, svm__degree=3, svm__gamma=3.0, svm__kernel=linear;, score=0.964 total time=   0.0s\n",
            "[CV 5/5] END svm__C=0.1, svm__degree=3, svm__gamma=3.0, svm__kernel=linear;, score=0.946 total time=   0.0s\n",
            "[CV 1/5] END svm__C=0.1, svm__degree=3, svm__gamma=3.0, svm__kernel=rbf;, score=0.875 total time=   0.0s\n",
            "[CV 2/5] END svm__C=0.1, svm__degree=3, svm__gamma=3.0, svm__kernel=rbf;, score=0.938 total time=   0.0s\n",
            "[CV 3/5] END svm__C=0.1, svm__degree=3, svm__gamma=3.0, svm__kernel=rbf;, score=0.938 total time=   0.0s\n",
            "[CV 4/5] END svm__C=0.1, svm__degree=3, svm__gamma=3.0, svm__kernel=rbf;, score=0.875 total time=   0.0s\n",
            "[CV 5/5] END svm__C=0.1, svm__degree=3, svm__gamma=3.0, svm__kernel=rbf;, score=0.865 total time=   0.0s\n",
            "[CV 1/5] END svm__C=0.1, svm__degree=3, svm__gamma=3.0, svm__kernel=poly;, score=0.938 total time=   0.0s\n",
            "[CV 2/5] END svm__C=0.1, svm__degree=3, svm__gamma=3.0, svm__kernel=poly;, score=0.955 total time=   0.0s\n",
            "[CV 3/5] END svm__C=0.1, svm__degree=3, svm__gamma=3.0, svm__kernel=poly;, score=0.955 total time=   0.0s\n",
            "[CV 4/5] END svm__C=0.1, svm__degree=3, svm__gamma=3.0, svm__kernel=poly;, score=0.929 total time=   0.0s\n",
            "[CV 5/5] END svm__C=0.1, svm__degree=3, svm__gamma=3.0, svm__kernel=poly;, score=0.910 total time=   0.0s\n",
            "[CV 1/5] END svm__C=1, svm__degree=2, svm__gamma=0.01, svm__kernel=linear;, score=0.964 total time=   0.0s\n",
            "[CV 2/5] END svm__C=1, svm__degree=2, svm__gamma=0.01, svm__kernel=linear;, score=0.964 total time=   0.0s\n",
            "[CV 3/5] END svm__C=1, svm__degree=2, svm__gamma=0.01, svm__kernel=linear;, score=0.973 total time=   0.0s\n",
            "[CV 4/5] END svm__C=1, svm__degree=2, svm__gamma=0.01, svm__kernel=linear;, score=0.964 total time=   0.0s\n",
            "[CV 5/5] END svm__C=1, svm__degree=2, svm__gamma=0.01, svm__kernel=linear;, score=0.937 total time=   0.0s\n",
            "[CV 1/5] END svm__C=1, svm__degree=2, svm__gamma=0.01, svm__kernel=rbf;, score=0.973 total time=   0.0s\n",
            "[CV 2/5] END svm__C=1, svm__degree=2, svm__gamma=0.01, svm__kernel=rbf;, score=0.973 total time=   0.0s\n",
            "[CV 3/5] END svm__C=1, svm__degree=2, svm__gamma=0.01, svm__kernel=rbf;, score=0.982 total time=   0.0s\n",
            "[CV 4/5] END svm__C=1, svm__degree=2, svm__gamma=0.01, svm__kernel=rbf;, score=0.973 total time=   0.0s\n",
            "[CV 5/5] END svm__C=1, svm__degree=2, svm__gamma=0.01, svm__kernel=rbf;, score=0.937 total time=   0.0s\n",
            "[CV 1/5] END svm__C=1, svm__degree=2, svm__gamma=0.01, svm__kernel=poly;, score=0.768 total time=   0.0s\n",
            "[CV 2/5] END svm__C=1, svm__degree=2, svm__gamma=0.01, svm__kernel=poly;, score=0.750 total time=   0.0s\n",
            "[CV 3/5] END svm__C=1, svm__degree=2, svm__gamma=0.01, svm__kernel=poly;, score=0.768 total time=   0.0s\n",
            "[CV 4/5] END svm__C=1, svm__degree=2, svm__gamma=0.01, svm__kernel=poly;, score=0.714 total time=   0.0s\n",
            "[CV 5/5] END svm__C=1, svm__degree=2, svm__gamma=0.01, svm__kernel=poly;, score=0.712 total time=   0.0s\n",
            "[CV 1/5] END svm__C=1, svm__degree=2, svm__gamma=0.03, svm__kernel=linear;, score=0.964 total time=   0.0s\n",
            "[CV 2/5] END svm__C=1, svm__degree=2, svm__gamma=0.03, svm__kernel=linear;, score=0.964 total time=   0.0s\n",
            "[CV 3/5] END svm__C=1, svm__degree=2, svm__gamma=0.03, svm__kernel=linear;, score=0.973 total time=   0.0s\n",
            "[CV 4/5] END svm__C=1, svm__degree=2, svm__gamma=0.03, svm__kernel=linear;, score=0.964 total time=   0.0s\n",
            "[CV 5/5] END svm__C=1, svm__degree=2, svm__gamma=0.03, svm__kernel=linear;, score=0.937 total time=   0.0s\n",
            "[CV 1/5] END svm__C=1, svm__degree=2, svm__gamma=0.03, svm__kernel=rbf;, score=0.973 total time=   0.0s\n",
            "[CV 2/5] END svm__C=1, svm__degree=2, svm__gamma=0.03, svm__kernel=rbf;, score=0.964 total time=   0.0s\n",
            "[CV 3/5] END svm__C=1, svm__degree=2, svm__gamma=0.03, svm__kernel=rbf;, score=0.973 total time=   0.0s\n",
            "[CV 4/5] END svm__C=1, svm__degree=2, svm__gamma=0.03, svm__kernel=rbf;, score=0.973 total time=   0.0s\n",
            "[CV 5/5] END svm__C=1, svm__degree=2, svm__gamma=0.03, svm__kernel=rbf;, score=0.946 total time=   0.0s\n",
            "[CV 1/5] END svm__C=1, svm__degree=2, svm__gamma=0.03, svm__kernel=poly;, score=0.884 total time=   0.0s\n",
            "[CV 2/5] END svm__C=1, svm__degree=2, svm__gamma=0.03, svm__kernel=poly;, score=0.830 total time=   0.0s\n",
            "[CV 3/5] END svm__C=1, svm__degree=2, svm__gamma=0.03, svm__kernel=poly;, score=0.875 total time=   0.0s\n",
            "[CV 4/5] END svm__C=1, svm__degree=2, svm__gamma=0.03, svm__kernel=poly;, score=0.812 total time=   0.0s\n",
            "[CV 5/5] END svm__C=1, svm__degree=2, svm__gamma=0.03, svm__kernel=poly;, score=0.856 total time=   0.0s\n",
            "[CV 1/5] END svm__C=1, svm__degree=2, svm__gamma=0.1, svm__kernel=linear;, score=0.964 total time=   0.0s\n",
            "[CV 2/5] END svm__C=1, svm__degree=2, svm__gamma=0.1, svm__kernel=linear;, score=0.964 total time=   0.0s\n",
            "[CV 3/5] END svm__C=1, svm__degree=2, svm__gamma=0.1, svm__kernel=linear;, score=0.973 total time=   0.0s\n",
            "[CV 4/5] END svm__C=1, svm__degree=2, svm__gamma=0.1, svm__kernel=linear;, score=0.964 total time=   0.0s\n",
            "[CV 5/5] END svm__C=1, svm__degree=2, svm__gamma=0.1, svm__kernel=linear;, score=0.937 total time=   0.0s\n",
            "[CV 1/5] END svm__C=1, svm__degree=2, svm__gamma=0.1, svm__kernel=rbf;, score=0.973 total time=   0.0s\n",
            "[CV 2/5] END svm__C=1, svm__degree=2, svm__gamma=0.1, svm__kernel=rbf;, score=0.964 total time=   0.0s\n",
            "[CV 3/5] END svm__C=1, svm__degree=2, svm__gamma=0.1, svm__kernel=rbf;, score=0.982 total time=   0.0s\n",
            "[CV 4/5] END svm__C=1, svm__degree=2, svm__gamma=0.1, svm__kernel=rbf;, score=0.964 total time=   0.0s\n",
            "[CV 5/5] END svm__C=1, svm__degree=2, svm__gamma=0.1, svm__kernel=rbf;, score=0.946 total time=   0.0s\n",
            "[CV 1/5] END svm__C=1, svm__degree=2, svm__gamma=0.1, svm__kernel=poly;, score=0.964 total time=   0.0s\n",
            "[CV 2/5] END svm__C=1, svm__degree=2, svm__gamma=0.1, svm__kernel=poly;, score=0.946 total time=   0.0s\n",
            "[CV 3/5] END svm__C=1, svm__degree=2, svm__gamma=0.1, svm__kernel=poly;, score=0.938 total time=   0.0s\n",
            "[CV 4/5] END svm__C=1, svm__degree=2, svm__gamma=0.1, svm__kernel=poly;, score=0.938 total time=   0.0s\n",
            "[CV 5/5] END svm__C=1, svm__degree=2, svm__gamma=0.1, svm__kernel=poly;, score=0.919 total time=   0.0s\n",
            "[CV 1/5] END svm__C=1, svm__degree=2, svm__gamma=0.3, svm__kernel=linear;, score=0.964 total time=   0.0s\n",
            "[CV 2/5] END svm__C=1, svm__degree=2, svm__gamma=0.3, svm__kernel=linear;, score=0.964 total time=   0.0s\n",
            "[CV 3/5] END svm__C=1, svm__degree=2, svm__gamma=0.3, svm__kernel=linear;, score=0.973 total time=   0.0s\n",
            "[CV 4/5] END svm__C=1, svm__degree=2, svm__gamma=0.3, svm__kernel=linear;, score=0.964 total time=   0.0s\n",
            "[CV 5/5] END svm__C=1, svm__degree=2, svm__gamma=0.3, svm__kernel=linear;, score=0.937 total time=   0.0s\n",
            "[CV 1/5] END svm__C=1, svm__degree=2, svm__gamma=0.3, svm__kernel=rbf;, score=0.964 total time=   0.0s\n",
            "[CV 2/5] END svm__C=1, svm__degree=2, svm__gamma=0.3, svm__kernel=rbf;, score=0.964 total time=   0.0s\n",
            "[CV 3/5] END svm__C=1, svm__degree=2, svm__gamma=0.3, svm__kernel=rbf;, score=0.982 total time=   0.0s\n",
            "[CV 4/5] END svm__C=1, svm__degree=2, svm__gamma=0.3, svm__kernel=rbf;, score=0.946 total time=   0.0s\n",
            "[CV 5/5] END svm__C=1, svm__degree=2, svm__gamma=0.3, svm__kernel=rbf;, score=0.937 total time=   0.0s\n",
            "[CV 1/5] END svm__C=1, svm__degree=2, svm__gamma=0.3, svm__kernel=poly;, score=0.964 total time=   0.0s\n",
            "[CV 2/5] END svm__C=1, svm__degree=2, svm__gamma=0.3, svm__kernel=poly;, score=0.929 total time=   0.0s\n",
            "[CV 3/5] END svm__C=1, svm__degree=2, svm__gamma=0.3, svm__kernel=poly;, score=0.973 total time=   0.0s\n",
            "[CV 4/5] END svm__C=1, svm__degree=2, svm__gamma=0.3, svm__kernel=poly;, score=0.929 total time=   0.0s\n",
            "[CV 5/5] END svm__C=1, svm__degree=2, svm__gamma=0.3, svm__kernel=poly;, score=0.928 total time=   0.0s\n",
            "[CV 1/5] END svm__C=1, svm__degree=2, svm__gamma=1.0, svm__kernel=linear;, score=0.964 total time=   0.0s\n",
            "[CV 2/5] END svm__C=1, svm__degree=2, svm__gamma=1.0, svm__kernel=linear;, score=0.964 total time=   0.0s\n",
            "[CV 3/5] END svm__C=1, svm__degree=2, svm__gamma=1.0, svm__kernel=linear;, score=0.973 total time=   0.0s\n",
            "[CV 4/5] END svm__C=1, svm__degree=2, svm__gamma=1.0, svm__kernel=linear;, score=0.964 total time=   0.0s\n",
            "[CV 5/5] END svm__C=1, svm__degree=2, svm__gamma=1.0, svm__kernel=linear;, score=0.937 total time=   0.0s\n",
            "[CV 1/5] END svm__C=1, svm__degree=2, svm__gamma=1.0, svm__kernel=rbf;, score=0.964 total time=   0.0s\n",
            "[CV 2/5] END svm__C=1, svm__degree=2, svm__gamma=1.0, svm__kernel=rbf;, score=0.955 total time=   0.0s\n",
            "[CV 3/5] END svm__C=1, svm__degree=2, svm__gamma=1.0, svm__kernel=rbf;, score=0.964 total time=   0.0s\n",
            "[CV 4/5] END svm__C=1, svm__degree=2, svm__gamma=1.0, svm__kernel=rbf;, score=0.938 total time=   0.0s\n",
            "[CV 5/5] END svm__C=1, svm__degree=2, svm__gamma=1.0, svm__kernel=rbf;, score=0.928 total time=   0.0s\n",
            "[CV 1/5] END svm__C=1, svm__degree=2, svm__gamma=1.0, svm__kernel=poly;, score=0.973 total time=   0.0s\n",
            "[CV 2/5] END svm__C=1, svm__degree=2, svm__gamma=1.0, svm__kernel=poly;, score=0.875 total time=   0.0s\n",
            "[CV 3/5] END svm__C=1, svm__degree=2, svm__gamma=1.0, svm__kernel=poly;, score=0.964 total time=   0.0s\n",
            "[CV 4/5] END svm__C=1, svm__degree=2, svm__gamma=1.0, svm__kernel=poly;, score=0.938 total time=   0.0s\n",
            "[CV 5/5] END svm__C=1, svm__degree=2, svm__gamma=1.0, svm__kernel=poly;, score=0.937 total time=   0.0s\n",
            "[CV 1/5] END svm__C=1, svm__degree=2, svm__gamma=3.0, svm__kernel=linear;, score=0.964 total time=   0.0s\n",
            "[CV 2/5] END svm__C=1, svm__degree=2, svm__gamma=3.0, svm__kernel=linear;, score=0.964 total time=   0.0s\n",
            "[CV 3/5] END svm__C=1, svm__degree=2, svm__gamma=3.0, svm__kernel=linear;, score=0.973 total time=   0.0s\n",
            "[CV 4/5] END svm__C=1, svm__degree=2, svm__gamma=3.0, svm__kernel=linear;, score=0.964 total time=   0.0s\n",
            "[CV 5/5] END svm__C=1, svm__degree=2, svm__gamma=3.0, svm__kernel=linear;, score=0.937 total time=   0.0s\n",
            "[CV 1/5] END svm__C=1, svm__degree=2, svm__gamma=3.0, svm__kernel=rbf;, score=0.920 total time=   0.0s\n",
            "[CV 2/5] END svm__C=1, svm__degree=2, svm__gamma=3.0, svm__kernel=rbf;, score=0.946 total time=   0.0s\n",
            "[CV 3/5] END svm__C=1, svm__degree=2, svm__gamma=3.0, svm__kernel=rbf;, score=0.955 total time=   0.0s\n",
            "[CV 4/5] END svm__C=1, svm__degree=2, svm__gamma=3.0, svm__kernel=rbf;, score=0.911 total time=   0.0s\n",
            "[CV 5/5] END svm__C=1, svm__degree=2, svm__gamma=3.0, svm__kernel=rbf;, score=0.901 total time=   0.0s\n",
            "[CV 1/5] END svm__C=1, svm__degree=2, svm__gamma=3.0, svm__kernel=poly;, score=0.938 total time=   0.0s\n",
            "[CV 2/5] END svm__C=1, svm__degree=2, svm__gamma=3.0, svm__kernel=poly;, score=0.875 total time=   0.0s\n",
            "[CV 3/5] END svm__C=1, svm__degree=2, svm__gamma=3.0, svm__kernel=poly;, score=0.955 total time=   0.0s\n",
            "[CV 4/5] END svm__C=1, svm__degree=2, svm__gamma=3.0, svm__kernel=poly;, score=0.920 total time=   0.0s\n",
            "[CV 5/5] END svm__C=1, svm__degree=2, svm__gamma=3.0, svm__kernel=poly;, score=0.919 total time=   0.0s\n",
            "[CV 1/5] END svm__C=1, svm__degree=3, svm__gamma=0.01, svm__kernel=linear;, score=0.964 total time=   0.0s\n",
            "[CV 2/5] END svm__C=1, svm__degree=3, svm__gamma=0.01, svm__kernel=linear;, score=0.964 total time=   0.0s\n",
            "[CV 3/5] END svm__C=1, svm__degree=3, svm__gamma=0.01, svm__kernel=linear;, score=0.973 total time=   0.0s\n",
            "[CV 4/5] END svm__C=1, svm__degree=3, svm__gamma=0.01, svm__kernel=linear;, score=0.964 total time=   0.0s\n",
            "[CV 5/5] END svm__C=1, svm__degree=3, svm__gamma=0.01, svm__kernel=linear;, score=0.937 total time=   0.0s\n",
            "[CV 1/5] END svm__C=1, svm__degree=3, svm__gamma=0.01, svm__kernel=rbf;, score=0.973 total time=   0.0s\n",
            "[CV 2/5] END svm__C=1, svm__degree=3, svm__gamma=0.01, svm__kernel=rbf;, score=0.973 total time=   0.0s\n",
            "[CV 3/5] END svm__C=1, svm__degree=3, svm__gamma=0.01, svm__kernel=rbf;, score=0.982 total time=   0.0s\n",
            "[CV 4/5] END svm__C=1, svm__degree=3, svm__gamma=0.01, svm__kernel=rbf;, score=0.973 total time=   0.0s\n",
            "[CV 5/5] END svm__C=1, svm__degree=3, svm__gamma=0.01, svm__kernel=rbf;, score=0.937 total time=   0.0s\n",
            "[CV 1/5] END svm__C=1, svm__degree=3, svm__gamma=0.01, svm__kernel=poly;, score=0.723 total time=   0.0s\n",
            "[CV 2/5] END svm__C=1, svm__degree=3, svm__gamma=0.01, svm__kernel=poly;, score=0.696 total time=   0.0s\n",
            "[CV 3/5] END svm__C=1, svm__degree=3, svm__gamma=0.01, svm__kernel=poly;, score=0.679 total time=   0.0s\n",
            "[CV 4/5] END svm__C=1, svm__degree=3, svm__gamma=0.01, svm__kernel=poly;, score=0.652 total time=   0.0s\n",
            "[CV 5/5] END svm__C=1, svm__degree=3, svm__gamma=0.01, svm__kernel=poly;, score=0.676 total time=   0.0s\n",
            "[CV 1/5] END svm__C=1, svm__degree=3, svm__gamma=0.03, svm__kernel=linear;, score=0.964 total time=   0.0s\n",
            "[CV 2/5] END svm__C=1, svm__degree=3, svm__gamma=0.03, svm__kernel=linear;, score=0.964 total time=   0.0s\n",
            "[CV 3/5] END svm__C=1, svm__degree=3, svm__gamma=0.03, svm__kernel=linear;, score=0.973 total time=   0.0s\n",
            "[CV 4/5] END svm__C=1, svm__degree=3, svm__gamma=0.03, svm__kernel=linear;, score=0.964 total time=   0.0s\n",
            "[CV 5/5] END svm__C=1, svm__degree=3, svm__gamma=0.03, svm__kernel=linear;, score=0.937 total time=   0.0s\n",
            "[CV 1/5] END svm__C=1, svm__degree=3, svm__gamma=0.03, svm__kernel=rbf;, score=0.973 total time=   0.0s\n",
            "[CV 2/5] END svm__C=1, svm__degree=3, svm__gamma=0.03, svm__kernel=rbf;, score=0.964 total time=   0.0s\n",
            "[CV 3/5] END svm__C=1, svm__degree=3, svm__gamma=0.03, svm__kernel=rbf;, score=0.973 total time=   0.0s\n",
            "[CV 4/5] END svm__C=1, svm__degree=3, svm__gamma=0.03, svm__kernel=rbf;, score=0.973 total time=   0.0s\n",
            "[CV 5/5] END svm__C=1, svm__degree=3, svm__gamma=0.03, svm__kernel=rbf;, score=0.946 total time=   0.0s\n",
            "[CV 1/5] END svm__C=1, svm__degree=3, svm__gamma=0.03, svm__kernel=poly;, score=0.893 total time=   0.0s\n",
            "[CV 2/5] END svm__C=1, svm__degree=3, svm__gamma=0.03, svm__kernel=poly;, score=0.875 total time=   0.0s\n",
            "[CV 3/5] END svm__C=1, svm__degree=3, svm__gamma=0.03, svm__kernel=poly;, score=0.875 total time=   0.0s\n",
            "[CV 4/5] END svm__C=1, svm__degree=3, svm__gamma=0.03, svm__kernel=poly;, score=0.839 total time=   0.0s\n",
            "[CV 5/5] END svm__C=1, svm__degree=3, svm__gamma=0.03, svm__kernel=poly;, score=0.856 total time=   0.0s\n",
            "[CV 1/5] END svm__C=1, svm__degree=3, svm__gamma=0.1, svm__kernel=linear;, score=0.964 total time=   0.0s\n",
            "[CV 2/5] END svm__C=1, svm__degree=3, svm__gamma=0.1, svm__kernel=linear;, score=0.964 total time=   0.0s\n",
            "[CV 3/5] END svm__C=1, svm__degree=3, svm__gamma=0.1, svm__kernel=linear;, score=0.973 total time=   0.0s\n",
            "[CV 4/5] END svm__C=1, svm__degree=3, svm__gamma=0.1, svm__kernel=linear;, score=0.964 total time=   0.0s\n",
            "[CV 5/5] END svm__C=1, svm__degree=3, svm__gamma=0.1, svm__kernel=linear;, score=0.937 total time=   0.0s\n",
            "[CV 1/5] END svm__C=1, svm__degree=3, svm__gamma=0.1, svm__kernel=rbf;, score=0.973 total time=   0.0s\n",
            "[CV 2/5] END svm__C=1, svm__degree=3, svm__gamma=0.1, svm__kernel=rbf;, score=0.964 total time=   0.0s\n",
            "[CV 3/5] END svm__C=1, svm__degree=3, svm__gamma=0.1, svm__kernel=rbf;, score=0.982 total time=   0.0s\n",
            "[CV 4/5] END svm__C=1, svm__degree=3, svm__gamma=0.1, svm__kernel=rbf;, score=0.964 total time=   0.0s\n",
            "[CV 5/5] END svm__C=1, svm__degree=3, svm__gamma=0.1, svm__kernel=rbf;, score=0.946 total time=   0.0s\n",
            "[CV 1/5] END svm__C=1, svm__degree=3, svm__gamma=0.1, svm__kernel=poly;, score=0.946 total time=   0.0s\n",
            "[CV 2/5] END svm__C=1, svm__degree=3, svm__gamma=0.1, svm__kernel=poly;, score=0.946 total time=   0.0s\n",
            "[CV 3/5] END svm__C=1, svm__degree=3, svm__gamma=0.1, svm__kernel=poly;, score=0.929 total time=   0.0s\n",
            "[CV 4/5] END svm__C=1, svm__degree=3, svm__gamma=0.1, svm__kernel=poly;, score=0.973 total time=   0.0s\n",
            "[CV 5/5] END svm__C=1, svm__degree=3, svm__gamma=0.1, svm__kernel=poly;, score=0.928 total time=   0.0s\n",
            "[CV 1/5] END svm__C=1, svm__degree=3, svm__gamma=0.3, svm__kernel=linear;, score=0.964 total time=   0.0s\n",
            "[CV 2/5] END svm__C=1, svm__degree=3, svm__gamma=0.3, svm__kernel=linear;, score=0.964 total time=   0.0s\n",
            "[CV 3/5] END svm__C=1, svm__degree=3, svm__gamma=0.3, svm__kernel=linear;, score=0.973 total time=   0.0s\n",
            "[CV 4/5] END svm__C=1, svm__degree=3, svm__gamma=0.3, svm__kernel=linear;, score=0.964 total time=   0.0s\n",
            "[CV 5/5] END svm__C=1, svm__degree=3, svm__gamma=0.3, svm__kernel=linear;, score=0.937 total time=   0.0s\n",
            "[CV 1/5] END svm__C=1, svm__degree=3, svm__gamma=0.3, svm__kernel=rbf;, score=0.964 total time=   0.0s\n",
            "[CV 2/5] END svm__C=1, svm__degree=3, svm__gamma=0.3, svm__kernel=rbf;, score=0.964 total time=   0.0s\n",
            "[CV 3/5] END svm__C=1, svm__degree=3, svm__gamma=0.3, svm__kernel=rbf;, score=0.982 total time=   0.0s\n",
            "[CV 4/5] END svm__C=1, svm__degree=3, svm__gamma=0.3, svm__kernel=rbf;, score=0.946 total time=   0.0s\n",
            "[CV 5/5] END svm__C=1, svm__degree=3, svm__gamma=0.3, svm__kernel=rbf;, score=0.937 total time=   0.0s\n",
            "[CV 1/5] END svm__C=1, svm__degree=3, svm__gamma=0.3, svm__kernel=poly;, score=0.946 total time=   0.0s\n",
            "[CV 2/5] END svm__C=1, svm__degree=3, svm__gamma=0.3, svm__kernel=poly;, score=0.946 total time=   0.0s\n",
            "[CV 3/5] END svm__C=1, svm__degree=3, svm__gamma=0.3, svm__kernel=poly;, score=0.946 total time=   0.0s\n",
            "[CV 4/5] END svm__C=1, svm__degree=3, svm__gamma=0.3, svm__kernel=poly;, score=0.955 total time=   0.0s\n",
            "[CV 5/5] END svm__C=1, svm__degree=3, svm__gamma=0.3, svm__kernel=poly;, score=0.901 total time=   0.0s\n",
            "[CV 1/5] END svm__C=1, svm__degree=3, svm__gamma=1.0, svm__kernel=linear;, score=0.964 total time=   0.0s\n",
            "[CV 2/5] END svm__C=1, svm__degree=3, svm__gamma=1.0, svm__kernel=linear;, score=0.964 total time=   0.0s\n",
            "[CV 3/5] END svm__C=1, svm__degree=3, svm__gamma=1.0, svm__kernel=linear;, score=0.973 total time=   0.0s\n",
            "[CV 4/5] END svm__C=1, svm__degree=3, svm__gamma=1.0, svm__kernel=linear;, score=0.964 total time=   0.0s\n",
            "[CV 5/5] END svm__C=1, svm__degree=3, svm__gamma=1.0, svm__kernel=linear;, score=0.937 total time=   0.0s\n",
            "[CV 1/5] END svm__C=1, svm__degree=3, svm__gamma=1.0, svm__kernel=rbf;, score=0.964 total time=   0.0s\n",
            "[CV 2/5] END svm__C=1, svm__degree=3, svm__gamma=1.0, svm__kernel=rbf;, score=0.955 total time=   0.0s\n",
            "[CV 3/5] END svm__C=1, svm__degree=3, svm__gamma=1.0, svm__kernel=rbf;, score=0.964 total time=   0.0s\n",
            "[CV 4/5] END svm__C=1, svm__degree=3, svm__gamma=1.0, svm__kernel=rbf;, score=0.938 total time=   0.0s\n",
            "[CV 5/5] END svm__C=1, svm__degree=3, svm__gamma=1.0, svm__kernel=rbf;, score=0.928 total time=   0.0s\n",
            "[CV 1/5] END svm__C=1, svm__degree=3, svm__gamma=1.0, svm__kernel=poly;, score=0.920 total time=   0.0s\n",
            "[CV 2/5] END svm__C=1, svm__degree=3, svm__gamma=1.0, svm__kernel=poly;, score=0.929 total time=   0.0s\n",
            "[CV 3/5] END svm__C=1, svm__degree=3, svm__gamma=1.0, svm__kernel=poly;, score=0.929 total time=   0.0s\n",
            "[CV 4/5] END svm__C=1, svm__degree=3, svm__gamma=1.0, svm__kernel=poly;, score=0.929 total time=   0.0s\n",
            "[CV 5/5] END svm__C=1, svm__degree=3, svm__gamma=1.0, svm__kernel=poly;, score=0.892 total time=   0.0s\n",
            "[CV 1/5] END svm__C=1, svm__degree=3, svm__gamma=3.0, svm__kernel=linear;, score=0.964 total time=   0.0s\n",
            "[CV 2/5] END svm__C=1, svm__degree=3, svm__gamma=3.0, svm__kernel=linear;, score=0.964 total time=   0.0s\n",
            "[CV 3/5] END svm__C=1, svm__degree=3, svm__gamma=3.0, svm__kernel=linear;, score=0.973 total time=   0.0s\n",
            "[CV 4/5] END svm__C=1, svm__degree=3, svm__gamma=3.0, svm__kernel=linear;, score=0.964 total time=   0.0s\n",
            "[CV 5/5] END svm__C=1, svm__degree=3, svm__gamma=3.0, svm__kernel=linear;, score=0.937 total time=   0.0s\n",
            "[CV 1/5] END svm__C=1, svm__degree=3, svm__gamma=3.0, svm__kernel=rbf;, score=0.920 total time=   0.0s\n",
            "[CV 2/5] END svm__C=1, svm__degree=3, svm__gamma=3.0, svm__kernel=rbf;, score=0.946 total time=   0.0s\n",
            "[CV 3/5] END svm__C=1, svm__degree=3, svm__gamma=3.0, svm__kernel=rbf;, score=0.955 total time=   0.0s\n",
            "[CV 4/5] END svm__C=1, svm__degree=3, svm__gamma=3.0, svm__kernel=rbf;, score=0.911 total time=   0.0s\n",
            "[CV 5/5] END svm__C=1, svm__degree=3, svm__gamma=3.0, svm__kernel=rbf;, score=0.901 total time=   0.0s\n",
            "[CV 1/5] END svm__C=1, svm__degree=3, svm__gamma=3.0, svm__kernel=poly;, score=0.938 total time=   0.0s\n",
            "[CV 2/5] END svm__C=1, svm__degree=3, svm__gamma=3.0, svm__kernel=poly;, score=0.955 total time=   0.0s\n",
            "[CV 3/5] END svm__C=1, svm__degree=3, svm__gamma=3.0, svm__kernel=poly;, score=0.946 total time=   0.0s\n",
            "[CV 4/5] END svm__C=1, svm__degree=3, svm__gamma=3.0, svm__kernel=poly;, score=0.920 total time=   0.0s\n",
            "[CV 5/5] END svm__C=1, svm__degree=3, svm__gamma=3.0, svm__kernel=poly;, score=0.901 total time=   0.0s\n",
            "[CV 1/5] END svm__C=10, svm__degree=2, svm__gamma=0.01, svm__kernel=linear;, score=0.964 total time=   0.0s\n",
            "[CV 2/5] END svm__C=10, svm__degree=2, svm__gamma=0.01, svm__kernel=linear;, score=0.964 total time=   0.0s\n",
            "[CV 3/5] END svm__C=10, svm__degree=2, svm__gamma=0.01, svm__kernel=linear;, score=0.973 total time=   0.0s\n",
            "[CV 4/5] END svm__C=10, svm__degree=2, svm__gamma=0.01, svm__kernel=linear;, score=0.964 total time=   0.0s\n",
            "[CV 5/5] END svm__C=10, svm__degree=2, svm__gamma=0.01, svm__kernel=linear;, score=0.937 total time=   0.0s\n",
            "[CV 1/5] END svm__C=10, svm__degree=2, svm__gamma=0.01, svm__kernel=rbf;, score=0.973 total time=   0.0s\n",
            "[CV 2/5] END svm__C=10, svm__degree=2, svm__gamma=0.01, svm__kernel=rbf;, score=0.964 total time=   0.0s\n",
            "[CV 3/5] END svm__C=10, svm__degree=2, svm__gamma=0.01, svm__kernel=rbf;, score=0.973 total time=   0.0s\n",
            "[CV 4/5] END svm__C=10, svm__degree=2, svm__gamma=0.01, svm__kernel=rbf;, score=0.973 total time=   0.0s\n",
            "[CV 5/5] END svm__C=10, svm__degree=2, svm__gamma=0.01, svm__kernel=rbf;, score=0.946 total time=   0.0s\n",
            "[CV 1/5] END svm__C=10, svm__degree=2, svm__gamma=0.01, svm__kernel=poly;, score=0.884 total time=   0.0s\n",
            "[CV 2/5] END svm__C=10, svm__degree=2, svm__gamma=0.01, svm__kernel=poly;, score=0.830 total time=   0.0s\n",
            "[CV 3/5] END svm__C=10, svm__degree=2, svm__gamma=0.01, svm__kernel=poly;, score=0.884 total time=   0.0s\n",
            "[CV 4/5] END svm__C=10, svm__degree=2, svm__gamma=0.01, svm__kernel=poly;, score=0.830 total time=   0.0s\n",
            "[CV 5/5] END svm__C=10, svm__degree=2, svm__gamma=0.01, svm__kernel=poly;, score=0.865 total time=   0.0s\n",
            "[CV 1/5] END svm__C=10, svm__degree=2, svm__gamma=0.03, svm__kernel=linear;, score=0.964 total time=   0.0s\n",
            "[CV 2/5] END svm__C=10, svm__degree=2, svm__gamma=0.03, svm__kernel=linear;, score=0.964 total time=   0.0s\n",
            "[CV 3/5] END svm__C=10, svm__degree=2, svm__gamma=0.03, svm__kernel=linear;, score=0.973 total time=   0.0s\n",
            "[CV 4/5] END svm__C=10, svm__degree=2, svm__gamma=0.03, svm__kernel=linear;, score=0.964 total time=   0.0s\n",
            "[CV 5/5] END svm__C=10, svm__degree=2, svm__gamma=0.03, svm__kernel=linear;, score=0.937 total time=   0.0s\n",
            "[CV 1/5] END svm__C=10, svm__degree=2, svm__gamma=0.03, svm__kernel=rbf;, score=0.964 total time=   0.0s\n",
            "[CV 2/5] END svm__C=10, svm__degree=2, svm__gamma=0.03, svm__kernel=rbf;, score=0.964 total time=   0.0s\n",
            "[CV 3/5] END svm__C=10, svm__degree=2, svm__gamma=0.03, svm__kernel=rbf;, score=0.982 total time=   0.0s\n",
            "[CV 4/5] END svm__C=10, svm__degree=2, svm__gamma=0.03, svm__kernel=rbf;, score=0.973 total time=   0.0s\n",
            "[CV 5/5] END svm__C=10, svm__degree=2, svm__gamma=0.03, svm__kernel=rbf;, score=0.946 total time=   0.0s\n",
            "[CV 1/5] END svm__C=10, svm__degree=2, svm__gamma=0.03, svm__kernel=poly;, score=0.964 total time=   0.0s\n",
            "[CV 2/5] END svm__C=10, svm__degree=2, svm__gamma=0.03, svm__kernel=poly;, score=0.946 total time=   0.0s\n",
            "[CV 3/5] END svm__C=10, svm__degree=2, svm__gamma=0.03, svm__kernel=poly;, score=0.938 total time=   0.0s\n",
            "[CV 4/5] END svm__C=10, svm__degree=2, svm__gamma=0.03, svm__kernel=poly;, score=0.929 total time=   0.0s\n",
            "[CV 5/5] END svm__C=10, svm__degree=2, svm__gamma=0.03, svm__kernel=poly;, score=0.919 total time=   0.0s\n",
            "[CV 1/5] END svm__C=10, svm__degree=2, svm__gamma=0.1, svm__kernel=linear;, score=0.964 total time=   0.0s\n",
            "[CV 2/5] END svm__C=10, svm__degree=2, svm__gamma=0.1, svm__kernel=linear;, score=0.964 total time=   0.0s\n",
            "[CV 3/5] END svm__C=10, svm__degree=2, svm__gamma=0.1, svm__kernel=linear;, score=0.973 total time=   0.0s\n",
            "[CV 4/5] END svm__C=10, svm__degree=2, svm__gamma=0.1, svm__kernel=linear;, score=0.964 total time=   0.0s\n",
            "[CV 5/5] END svm__C=10, svm__degree=2, svm__gamma=0.1, svm__kernel=linear;, score=0.937 total time=   0.0s\n",
            "[CV 1/5] END svm__C=10, svm__degree=2, svm__gamma=0.1, svm__kernel=rbf;, score=0.955 total time=   0.0s\n",
            "[CV 2/5] END svm__C=10, svm__degree=2, svm__gamma=0.1, svm__kernel=rbf;, score=0.946 total time=   0.0s\n",
            "[CV 3/5] END svm__C=10, svm__degree=2, svm__gamma=0.1, svm__kernel=rbf;, score=0.973 total time=   0.0s\n",
            "[CV 4/5] END svm__C=10, svm__degree=2, svm__gamma=0.1, svm__kernel=rbf;, score=0.964 total time=   0.0s\n",
            "[CV 5/5] END svm__C=10, svm__degree=2, svm__gamma=0.1, svm__kernel=rbf;, score=0.937 total time=   0.0s\n",
            "[CV 1/5] END svm__C=10, svm__degree=2, svm__gamma=0.1, svm__kernel=poly;, score=0.964 total time=   0.0s\n",
            "[CV 2/5] END svm__C=10, svm__degree=2, svm__gamma=0.1, svm__kernel=poly;, score=0.920 total time=   0.0s\n",
            "[CV 3/5] END svm__C=10, svm__degree=2, svm__gamma=0.1, svm__kernel=poly;, score=0.964 total time=   0.0s\n",
            "[CV 4/5] END svm__C=10, svm__degree=2, svm__gamma=0.1, svm__kernel=poly;, score=0.920 total time=   0.0s\n",
            "[CV 5/5] END svm__C=10, svm__degree=2, svm__gamma=0.1, svm__kernel=poly;, score=0.928 total time=   0.0s\n",
            "[CV 1/5] END svm__C=10, svm__degree=2, svm__gamma=0.3, svm__kernel=linear;, score=0.964 total time=   0.0s\n",
            "[CV 2/5] END svm__C=10, svm__degree=2, svm__gamma=0.3, svm__kernel=linear;, score=0.964 total time=   0.0s\n",
            "[CV 3/5] END svm__C=10, svm__degree=2, svm__gamma=0.3, svm__kernel=linear;, score=0.973 total time=   0.0s\n",
            "[CV 4/5] END svm__C=10, svm__degree=2, svm__gamma=0.3, svm__kernel=linear;, score=0.964 total time=   0.0s\n",
            "[CV 5/5] END svm__C=10, svm__degree=2, svm__gamma=0.3, svm__kernel=linear;, score=0.937 total time=   0.0s\n",
            "[CV 1/5] END svm__C=10, svm__degree=2, svm__gamma=0.3, svm__kernel=rbf;, score=0.973 total time=   0.0s\n",
            "[CV 2/5] END svm__C=10, svm__degree=2, svm__gamma=0.3, svm__kernel=rbf;, score=0.946 total time=   0.0s\n",
            "[CV 3/5] END svm__C=10, svm__degree=2, svm__gamma=0.3, svm__kernel=rbf;, score=0.973 total time=   0.0s\n",
            "[CV 4/5] END svm__C=10, svm__degree=2, svm__gamma=0.3, svm__kernel=rbf;, score=0.929 total time=   0.0s\n",
            "[CV 5/5] END svm__C=10, svm__degree=2, svm__gamma=0.3, svm__kernel=rbf;, score=0.928 total time=   0.0s\n",
            "[CV 1/5] END svm__C=10, svm__degree=2, svm__gamma=0.3, svm__kernel=poly;, score=0.973 total time=   0.0s\n",
            "[CV 2/5] END svm__C=10, svm__degree=2, svm__gamma=0.3, svm__kernel=poly;, score=0.875 total time=   0.0s\n",
            "[CV 3/5] END svm__C=10, svm__degree=2, svm__gamma=0.3, svm__kernel=poly;, score=0.964 total time=   0.0s\n",
            "[CV 4/5] END svm__C=10, svm__degree=2, svm__gamma=0.3, svm__kernel=poly;, score=0.938 total time=   0.0s\n",
            "[CV 5/5] END svm__C=10, svm__degree=2, svm__gamma=0.3, svm__kernel=poly;, score=0.937 total time=   0.0s\n",
            "[CV 1/5] END svm__C=10, svm__degree=2, svm__gamma=1.0, svm__kernel=linear;, score=0.964 total time=   0.0s\n",
            "[CV 2/5] END svm__C=10, svm__degree=2, svm__gamma=1.0, svm__kernel=linear;, score=0.964 total time=   0.0s\n",
            "[CV 3/5] END svm__C=10, svm__degree=2, svm__gamma=1.0, svm__kernel=linear;, score=0.973 total time=   0.0s\n",
            "[CV 4/5] END svm__C=10, svm__degree=2, svm__gamma=1.0, svm__kernel=linear;, score=0.964 total time=   0.0s\n",
            "[CV 5/5] END svm__C=10, svm__degree=2, svm__gamma=1.0, svm__kernel=linear;, score=0.937 total time=   0.0s\n",
            "[CV 1/5] END svm__C=10, svm__degree=2, svm__gamma=1.0, svm__kernel=rbf;, score=0.982 total time=   0.0s\n",
            "[CV 2/5] END svm__C=10, svm__degree=2, svm__gamma=1.0, svm__kernel=rbf;, score=0.955 total time=   0.0s\n",
            "[CV 3/5] END svm__C=10, svm__degree=2, svm__gamma=1.0, svm__kernel=rbf;, score=0.964 total time=   0.0s\n",
            "[CV 4/5] END svm__C=10, svm__degree=2, svm__gamma=1.0, svm__kernel=rbf;, score=0.929 total time=   0.0s\n",
            "[CV 5/5] END svm__C=10, svm__degree=2, svm__gamma=1.0, svm__kernel=rbf;, score=0.937 total time=   0.0s\n",
            "[CV 1/5] END svm__C=10, svm__degree=2, svm__gamma=1.0, svm__kernel=poly;, score=0.938 total time=   0.0s\n",
            "[CV 2/5] END svm__C=10, svm__degree=2, svm__gamma=1.0, svm__kernel=poly;, score=0.884 total time=   0.0s\n",
            "[CV 3/5] END svm__C=10, svm__degree=2, svm__gamma=1.0, svm__kernel=poly;, score=0.955 total time=   0.1s\n",
            "[CV 4/5] END svm__C=10, svm__degree=2, svm__gamma=1.0, svm__kernel=poly;, score=0.920 total time=   0.0s\n",
            "[CV 5/5] END svm__C=10, svm__degree=2, svm__gamma=1.0, svm__kernel=poly;, score=0.910 total time=   0.0s\n",
            "[CV 1/5] END svm__C=10, svm__degree=2, svm__gamma=3.0, svm__kernel=linear;, score=0.964 total time=   0.0s\n",
            "[CV 2/5] END svm__C=10, svm__degree=2, svm__gamma=3.0, svm__kernel=linear;, score=0.964 total time=   0.0s\n",
            "[CV 3/5] END svm__C=10, svm__degree=2, svm__gamma=3.0, svm__kernel=linear;, score=0.973 total time=   0.0s\n",
            "[CV 4/5] END svm__C=10, svm__degree=2, svm__gamma=3.0, svm__kernel=linear;, score=0.964 total time=   0.0s\n",
            "[CV 5/5] END svm__C=10, svm__degree=2, svm__gamma=3.0, svm__kernel=linear;, score=0.937 total time=   0.0s\n",
            "[CV 1/5] END svm__C=10, svm__degree=2, svm__gamma=3.0, svm__kernel=rbf;, score=0.920 total time=   0.0s\n",
            "[CV 2/5] END svm__C=10, svm__degree=2, svm__gamma=3.0, svm__kernel=rbf;, score=0.946 total time=   0.0s\n",
            "[CV 3/5] END svm__C=10, svm__degree=2, svm__gamma=3.0, svm__kernel=rbf;, score=0.955 total time=   0.0s\n",
            "[CV 4/5] END svm__C=10, svm__degree=2, svm__gamma=3.0, svm__kernel=rbf;, score=0.911 total time=   0.0s\n",
            "[CV 5/5] END svm__C=10, svm__degree=2, svm__gamma=3.0, svm__kernel=rbf;, score=0.910 total time=   0.0s\n",
            "[CV 1/5] END svm__C=10, svm__degree=2, svm__gamma=3.0, svm__kernel=poly;, score=0.938 total time=   0.1s\n",
            "[CV 2/5] END svm__C=10, svm__degree=2, svm__gamma=3.0, svm__kernel=poly;, score=0.884 total time=   0.1s\n",
            "[CV 3/5] END svm__C=10, svm__degree=2, svm__gamma=3.0, svm__kernel=poly;, score=0.964 total time=   0.1s\n",
            "[CV 4/5] END svm__C=10, svm__degree=2, svm__gamma=3.0, svm__kernel=poly;, score=0.920 total time=   0.1s\n",
            "[CV 5/5] END svm__C=10, svm__degree=2, svm__gamma=3.0, svm__kernel=poly;, score=0.901 total time=   0.1s\n",
            "[CV 1/5] END svm__C=10, svm__degree=3, svm__gamma=0.01, svm__kernel=linear;, score=0.964 total time=   0.0s\n",
            "[CV 2/5] END svm__C=10, svm__degree=3, svm__gamma=0.01, svm__kernel=linear;, score=0.964 total time=   0.0s\n",
            "[CV 3/5] END svm__C=10, svm__degree=3, svm__gamma=0.01, svm__kernel=linear;, score=0.973 total time=   0.0s\n",
            "[CV 4/5] END svm__C=10, svm__degree=3, svm__gamma=0.01, svm__kernel=linear;, score=0.964 total time=   0.0s\n",
            "[CV 5/5] END svm__C=10, svm__degree=3, svm__gamma=0.01, svm__kernel=linear;, score=0.937 total time=   0.0s\n",
            "[CV 1/5] END svm__C=10, svm__degree=3, svm__gamma=0.01, svm__kernel=rbf;, score=0.973 total time=   0.0s\n",
            "[CV 2/5] END svm__C=10, svm__degree=3, svm__gamma=0.01, svm__kernel=rbf;, score=0.964 total time=   0.0s\n",
            "[CV 3/5] END svm__C=10, svm__degree=3, svm__gamma=0.01, svm__kernel=rbf;, score=0.973 total time=   0.0s\n",
            "[CV 4/5] END svm__C=10, svm__degree=3, svm__gamma=0.01, svm__kernel=rbf;, score=0.973 total time=   0.0s\n",
            "[CV 5/5] END svm__C=10, svm__degree=3, svm__gamma=0.01, svm__kernel=rbf;, score=0.946 total time=   0.0s\n",
            "[CV 1/5] END svm__C=10, svm__degree=3, svm__gamma=0.01, svm__kernel=poly;, score=0.857 total time=   0.0s\n",
            "[CV 2/5] END svm__C=10, svm__degree=3, svm__gamma=0.01, svm__kernel=poly;, score=0.839 total time=   0.0s\n",
            "[CV 3/5] END svm__C=10, svm__degree=3, svm__gamma=0.01, svm__kernel=poly;, score=0.866 total time=   0.0s\n",
            "[CV 4/5] END svm__C=10, svm__degree=3, svm__gamma=0.01, svm__kernel=poly;, score=0.786 total time=   0.0s\n",
            "[CV 5/5] END svm__C=10, svm__degree=3, svm__gamma=0.01, svm__kernel=poly;, score=0.811 total time=   0.0s\n",
            "[CV 1/5] END svm__C=10, svm__degree=3, svm__gamma=0.03, svm__kernel=linear;, score=0.964 total time=   0.0s\n",
            "[CV 2/5] END svm__C=10, svm__degree=3, svm__gamma=0.03, svm__kernel=linear;, score=0.964 total time=   0.0s\n",
            "[CV 3/5] END svm__C=10, svm__degree=3, svm__gamma=0.03, svm__kernel=linear;, score=0.973 total time=   0.0s\n",
            "[CV 4/5] END svm__C=10, svm__degree=3, svm__gamma=0.03, svm__kernel=linear;, score=0.964 total time=   0.0s\n",
            "[CV 5/5] END svm__C=10, svm__degree=3, svm__gamma=0.03, svm__kernel=linear;, score=0.937 total time=   0.0s\n",
            "[CV 1/5] END svm__C=10, svm__degree=3, svm__gamma=0.03, svm__kernel=rbf;, score=0.964 total time=   0.0s\n",
            "[CV 2/5] END svm__C=10, svm__degree=3, svm__gamma=0.03, svm__kernel=rbf;, score=0.964 total time=   0.0s\n",
            "[CV 3/5] END svm__C=10, svm__degree=3, svm__gamma=0.03, svm__kernel=rbf;, score=0.982 total time=   0.0s\n",
            "[CV 4/5] END svm__C=10, svm__degree=3, svm__gamma=0.03, svm__kernel=rbf;, score=0.973 total time=   0.0s\n",
            "[CV 5/5] END svm__C=10, svm__degree=3, svm__gamma=0.03, svm__kernel=rbf;, score=0.946 total time=   0.0s\n",
            "[CV 1/5] END svm__C=10, svm__degree=3, svm__gamma=0.03, svm__kernel=poly;, score=0.946 total time=   0.0s\n",
            "[CV 2/5] END svm__C=10, svm__degree=3, svm__gamma=0.03, svm__kernel=poly;, score=0.929 total time=   0.0s\n",
            "[CV 3/5] END svm__C=10, svm__degree=3, svm__gamma=0.03, svm__kernel=poly;, score=0.902 total time=   0.0s\n",
            "[CV 4/5] END svm__C=10, svm__degree=3, svm__gamma=0.03, svm__kernel=poly;, score=0.946 total time=   0.0s\n",
            "[CV 5/5] END svm__C=10, svm__degree=3, svm__gamma=0.03, svm__kernel=poly;, score=0.928 total time=   0.0s\n",
            "[CV 1/5] END svm__C=10, svm__degree=3, svm__gamma=0.1, svm__kernel=linear;, score=0.964 total time=   0.0s\n",
            "[CV 2/5] END svm__C=10, svm__degree=3, svm__gamma=0.1, svm__kernel=linear;, score=0.964 total time=   0.0s\n",
            "[CV 3/5] END svm__C=10, svm__degree=3, svm__gamma=0.1, svm__kernel=linear;, score=0.973 total time=   0.0s\n",
            "[CV 4/5] END svm__C=10, svm__degree=3, svm__gamma=0.1, svm__kernel=linear;, score=0.964 total time=   0.0s\n",
            "[CV 5/5] END svm__C=10, svm__degree=3, svm__gamma=0.1, svm__kernel=linear;, score=0.937 total time=   0.0s\n",
            "[CV 1/5] END svm__C=10, svm__degree=3, svm__gamma=0.1, svm__kernel=rbf;, score=0.955 total time=   0.0s\n",
            "[CV 2/5] END svm__C=10, svm__degree=3, svm__gamma=0.1, svm__kernel=rbf;, score=0.946 total time=   0.0s\n",
            "[CV 3/5] END svm__C=10, svm__degree=3, svm__gamma=0.1, svm__kernel=rbf;, score=0.973 total time=   0.0s\n",
            "[CV 4/5] END svm__C=10, svm__degree=3, svm__gamma=0.1, svm__kernel=rbf;, score=0.964 total time=   0.0s\n",
            "[CV 5/5] END svm__C=10, svm__degree=3, svm__gamma=0.1, svm__kernel=rbf;, score=0.937 total time=   0.0s\n",
            "[CV 1/5] END svm__C=10, svm__degree=3, svm__gamma=0.1, svm__kernel=poly;, score=0.946 total time=   0.0s\n",
            "[CV 2/5] END svm__C=10, svm__degree=3, svm__gamma=0.1, svm__kernel=poly;, score=0.946 total time=   0.0s\n",
            "[CV 3/5] END svm__C=10, svm__degree=3, svm__gamma=0.1, svm__kernel=poly;, score=0.955 total time=   0.0s\n",
            "[CV 4/5] END svm__C=10, svm__degree=3, svm__gamma=0.1, svm__kernel=poly;, score=0.973 total time=   0.0s\n",
            "[CV 5/5] END svm__C=10, svm__degree=3, svm__gamma=0.1, svm__kernel=poly;, score=0.910 total time=   0.0s\n",
            "[CV 1/5] END svm__C=10, svm__degree=3, svm__gamma=0.3, svm__kernel=linear;, score=0.964 total time=   0.0s\n",
            "[CV 2/5] END svm__C=10, svm__degree=3, svm__gamma=0.3, svm__kernel=linear;, score=0.964 total time=   0.0s\n",
            "[CV 3/5] END svm__C=10, svm__degree=3, svm__gamma=0.3, svm__kernel=linear;, score=0.973 total time=   0.0s\n",
            "[CV 4/5] END svm__C=10, svm__degree=3, svm__gamma=0.3, svm__kernel=linear;, score=0.964 total time=   0.0s\n",
            "[CV 5/5] END svm__C=10, svm__degree=3, svm__gamma=0.3, svm__kernel=linear;, score=0.937 total time=   0.0s\n",
            "[CV 1/5] END svm__C=10, svm__degree=3, svm__gamma=0.3, svm__kernel=rbf;, score=0.973 total time=   0.0s\n",
            "[CV 2/5] END svm__C=10, svm__degree=3, svm__gamma=0.3, svm__kernel=rbf;, score=0.946 total time=   0.0s\n",
            "[CV 3/5] END svm__C=10, svm__degree=3, svm__gamma=0.3, svm__kernel=rbf;, score=0.973 total time=   0.0s\n",
            "[CV 4/5] END svm__C=10, svm__degree=3, svm__gamma=0.3, svm__kernel=rbf;, score=0.929 total time=   0.0s\n",
            "[CV 5/5] END svm__C=10, svm__degree=3, svm__gamma=0.3, svm__kernel=rbf;, score=0.928 total time=   0.0s\n",
            "[CV 1/5] END svm__C=10, svm__degree=3, svm__gamma=0.3, svm__kernel=poly;, score=0.938 total time=   0.0s\n",
            "[CV 2/5] END svm__C=10, svm__degree=3, svm__gamma=0.3, svm__kernel=poly;, score=0.938 total time=   0.0s\n",
            "[CV 3/5] END svm__C=10, svm__degree=3, svm__gamma=0.3, svm__kernel=poly;, score=0.955 total time=   0.0s\n",
            "[CV 4/5] END svm__C=10, svm__degree=3, svm__gamma=0.3, svm__kernel=poly;, score=0.973 total time=   0.0s\n",
            "[CV 5/5] END svm__C=10, svm__degree=3, svm__gamma=0.3, svm__kernel=poly;, score=0.901 total time=   0.0s\n",
            "[CV 1/5] END svm__C=10, svm__degree=3, svm__gamma=1.0, svm__kernel=linear;, score=0.964 total time=   0.0s\n",
            "[CV 2/5] END svm__C=10, svm__degree=3, svm__gamma=1.0, svm__kernel=linear;, score=0.964 total time=   0.0s\n",
            "[CV 3/5] END svm__C=10, svm__degree=3, svm__gamma=1.0, svm__kernel=linear;, score=0.973 total time=   0.0s\n",
            "[CV 4/5] END svm__C=10, svm__degree=3, svm__gamma=1.0, svm__kernel=linear;, score=0.964 total time=   0.0s\n",
            "[CV 5/5] END svm__C=10, svm__degree=3, svm__gamma=1.0, svm__kernel=linear;, score=0.937 total time=   0.0s\n",
            "[CV 1/5] END svm__C=10, svm__degree=3, svm__gamma=1.0, svm__kernel=rbf;, score=0.982 total time=   0.0s\n",
            "[CV 2/5] END svm__C=10, svm__degree=3, svm__gamma=1.0, svm__kernel=rbf;, score=0.955 total time=   0.0s\n",
            "[CV 3/5] END svm__C=10, svm__degree=3, svm__gamma=1.0, svm__kernel=rbf;, score=0.964 total time=   0.0s\n",
            "[CV 4/5] END svm__C=10, svm__degree=3, svm__gamma=1.0, svm__kernel=rbf;, score=0.929 total time=   0.0s\n",
            "[CV 5/5] END svm__C=10, svm__degree=3, svm__gamma=1.0, svm__kernel=rbf;, score=0.937 total time=   0.0s\n",
            "[CV 1/5] END svm__C=10, svm__degree=3, svm__gamma=1.0, svm__kernel=poly;, score=0.938 total time=   0.0s\n",
            "[CV 2/5] END svm__C=10, svm__degree=3, svm__gamma=1.0, svm__kernel=poly;, score=0.955 total time=   0.0s\n",
            "[CV 3/5] END svm__C=10, svm__degree=3, svm__gamma=1.0, svm__kernel=poly;, score=0.946 total time=   0.0s\n",
            "[CV 4/5] END svm__C=10, svm__degree=3, svm__gamma=1.0, svm__kernel=poly;, score=0.920 total time=   0.0s\n",
            "[CV 5/5] END svm__C=10, svm__degree=3, svm__gamma=1.0, svm__kernel=poly;, score=0.901 total time=   0.0s\n",
            "[CV 1/5] END svm__C=10, svm__degree=3, svm__gamma=3.0, svm__kernel=linear;, score=0.964 total time=   0.0s\n",
            "[CV 2/5] END svm__C=10, svm__degree=3, svm__gamma=3.0, svm__kernel=linear;, score=0.964 total time=   0.0s\n",
            "[CV 3/5] END svm__C=10, svm__degree=3, svm__gamma=3.0, svm__kernel=linear;, score=0.973 total time=   0.0s\n",
            "[CV 4/5] END svm__C=10, svm__degree=3, svm__gamma=3.0, svm__kernel=linear;, score=0.964 total time=   0.0s\n",
            "[CV 5/5] END svm__C=10, svm__degree=3, svm__gamma=3.0, svm__kernel=linear;, score=0.937 total time=   0.0s\n",
            "[CV 1/5] END svm__C=10, svm__degree=3, svm__gamma=3.0, svm__kernel=rbf;, score=0.920 total time=   0.0s\n",
            "[CV 2/5] END svm__C=10, svm__degree=3, svm__gamma=3.0, svm__kernel=rbf;, score=0.946 total time=   0.0s\n",
            "[CV 3/5] END svm__C=10, svm__degree=3, svm__gamma=3.0, svm__kernel=rbf;, score=0.955 total time=   0.0s\n",
            "[CV 4/5] END svm__C=10, svm__degree=3, svm__gamma=3.0, svm__kernel=rbf;, score=0.911 total time=   0.0s\n",
            "[CV 5/5] END svm__C=10, svm__degree=3, svm__gamma=3.0, svm__kernel=rbf;, score=0.910 total time=   0.0s\n",
            "[CV 1/5] END svm__C=10, svm__degree=3, svm__gamma=3.0, svm__kernel=poly;, score=0.938 total time=   0.0s\n",
            "[CV 2/5] END svm__C=10, svm__degree=3, svm__gamma=3.0, svm__kernel=poly;, score=0.955 total time=   0.0s\n",
            "[CV 3/5] END svm__C=10, svm__degree=3, svm__gamma=3.0, svm__kernel=poly;, score=0.946 total time=   0.0s\n",
            "[CV 4/5] END svm__C=10, svm__degree=3, svm__gamma=3.0, svm__kernel=poly;, score=0.920 total time=   0.0s\n",
            "[CV 5/5] END svm__C=10, svm__degree=3, svm__gamma=3.0, svm__kernel=poly;, score=0.901 total time=   0.0s\n",
            "[CV 1/5] END svm__C=100, svm__degree=2, svm__gamma=0.01, svm__kernel=linear;, score=0.964 total time=   0.0s\n",
            "[CV 2/5] END svm__C=100, svm__degree=2, svm__gamma=0.01, svm__kernel=linear;, score=0.964 total time=   0.0s\n",
            "[CV 3/5] END svm__C=100, svm__degree=2, svm__gamma=0.01, svm__kernel=linear;, score=0.973 total time=   0.0s\n",
            "[CV 4/5] END svm__C=100, svm__degree=2, svm__gamma=0.01, svm__kernel=linear;, score=0.964 total time=   0.0s\n",
            "[CV 5/5] END svm__C=100, svm__degree=2, svm__gamma=0.01, svm__kernel=linear;, score=0.937 total time=   0.0s\n",
            "[CV 1/5] END svm__C=100, svm__degree=2, svm__gamma=0.01, svm__kernel=rbf;, score=0.964 total time=   0.0s\n",
            "[CV 2/5] END svm__C=100, svm__degree=2, svm__gamma=0.01, svm__kernel=rbf;, score=0.964 total time=   0.0s\n",
            "[CV 3/5] END svm__C=100, svm__degree=2, svm__gamma=0.01, svm__kernel=rbf;, score=0.982 total time=   0.0s\n",
            "[CV 4/5] END svm__C=100, svm__degree=2, svm__gamma=0.01, svm__kernel=rbf;, score=0.982 total time=   0.0s\n",
            "[CV 5/5] END svm__C=100, svm__degree=2, svm__gamma=0.01, svm__kernel=rbf;, score=0.937 total time=   0.0s\n",
            "[CV 1/5] END svm__C=100, svm__degree=2, svm__gamma=0.01, svm__kernel=poly;, score=0.964 total time=   0.0s\n",
            "[CV 2/5] END svm__C=100, svm__degree=2, svm__gamma=0.01, svm__kernel=poly;, score=0.946 total time=   0.0s\n",
            "[CV 3/5] END svm__C=100, svm__degree=2, svm__gamma=0.01, svm__kernel=poly;, score=0.938 total time=   0.0s\n",
            "[CV 4/5] END svm__C=100, svm__degree=2, svm__gamma=0.01, svm__kernel=poly;, score=0.938 total time=   0.0s\n",
            "[CV 5/5] END svm__C=100, svm__degree=2, svm__gamma=0.01, svm__kernel=poly;, score=0.919 total time=   0.0s\n",
            "[CV 1/5] END svm__C=100, svm__degree=2, svm__gamma=0.03, svm__kernel=linear;, score=0.964 total time=   0.0s\n",
            "[CV 2/5] END svm__C=100, svm__degree=2, svm__gamma=0.03, svm__kernel=linear;, score=0.964 total time=   0.0s\n",
            "[CV 3/5] END svm__C=100, svm__degree=2, svm__gamma=0.03, svm__kernel=linear;, score=0.973 total time=   0.0s\n",
            "[CV 4/5] END svm__C=100, svm__degree=2, svm__gamma=0.03, svm__kernel=linear;, score=0.964 total time=   0.0s\n",
            "[CV 5/5] END svm__C=100, svm__degree=2, svm__gamma=0.03, svm__kernel=linear;, score=0.937 total time=   0.0s\n",
            "[CV 1/5] END svm__C=100, svm__degree=2, svm__gamma=0.03, svm__kernel=rbf;, score=0.964 total time=   0.0s\n",
            "[CV 2/5] END svm__C=100, svm__degree=2, svm__gamma=0.03, svm__kernel=rbf;, score=0.938 total time=   0.0s\n",
            "[CV 3/5] END svm__C=100, svm__degree=2, svm__gamma=0.03, svm__kernel=rbf;, score=0.973 total time=   0.0s\n",
            "[CV 4/5] END svm__C=100, svm__degree=2, svm__gamma=0.03, svm__kernel=rbf;, score=0.946 total time=   0.0s\n",
            "[CV 5/5] END svm__C=100, svm__degree=2, svm__gamma=0.03, svm__kernel=rbf;, score=0.937 total time=   0.0s\n",
            "[CV 1/5] END svm__C=100, svm__degree=2, svm__gamma=0.03, svm__kernel=poly;, score=0.964 total time=   0.0s\n",
            "[CV 2/5] END svm__C=100, svm__degree=2, svm__gamma=0.03, svm__kernel=poly;, score=0.929 total time=   0.0s\n",
            "[CV 3/5] END svm__C=100, svm__degree=2, svm__gamma=0.03, svm__kernel=poly;, score=0.973 total time=   0.0s\n",
            "[CV 4/5] END svm__C=100, svm__degree=2, svm__gamma=0.03, svm__kernel=poly;, score=0.929 total time=   0.0s\n",
            "[CV 5/5] END svm__C=100, svm__degree=2, svm__gamma=0.03, svm__kernel=poly;, score=0.928 total time=   0.0s\n",
            "[CV 1/5] END svm__C=100, svm__degree=2, svm__gamma=0.1, svm__kernel=linear;, score=0.964 total time=   0.0s\n",
            "[CV 2/5] END svm__C=100, svm__degree=2, svm__gamma=0.1, svm__kernel=linear;, score=0.964 total time=   0.0s\n",
            "[CV 3/5] END svm__C=100, svm__degree=2, svm__gamma=0.1, svm__kernel=linear;, score=0.973 total time=   0.0s\n",
            "[CV 4/5] END svm__C=100, svm__degree=2, svm__gamma=0.1, svm__kernel=linear;, score=0.964 total time=   0.0s\n",
            "[CV 5/5] END svm__C=100, svm__degree=2, svm__gamma=0.1, svm__kernel=linear;, score=0.937 total time=   0.0s\n",
            "[CV 1/5] END svm__C=100, svm__degree=2, svm__gamma=0.1, svm__kernel=rbf;, score=0.955 total time=   0.0s\n",
            "[CV 2/5] END svm__C=100, svm__degree=2, svm__gamma=0.1, svm__kernel=rbf;, score=0.955 total time=   0.0s\n",
            "[CV 3/5] END svm__C=100, svm__degree=2, svm__gamma=0.1, svm__kernel=rbf;, score=0.946 total time=   0.0s\n",
            "[CV 4/5] END svm__C=100, svm__degree=2, svm__gamma=0.1, svm__kernel=rbf;, score=0.938 total time=   0.0s\n",
            "[CV 5/5] END svm__C=100, svm__degree=2, svm__gamma=0.1, svm__kernel=rbf;, score=0.910 total time=   0.0s\n",
            "[CV 1/5] END svm__C=100, svm__degree=2, svm__gamma=0.1, svm__kernel=poly;, score=0.973 total time=   0.0s\n",
            "[CV 2/5] END svm__C=100, svm__degree=2, svm__gamma=0.1, svm__kernel=poly;, score=0.875 total time=   0.0s\n",
            "[CV 3/5] END svm__C=100, svm__degree=2, svm__gamma=0.1, svm__kernel=poly;, score=0.964 total time=   0.0s\n",
            "[CV 4/5] END svm__C=100, svm__degree=2, svm__gamma=0.1, svm__kernel=poly;, score=0.938 total time=   0.0s\n",
            "[CV 5/5] END svm__C=100, svm__degree=2, svm__gamma=0.1, svm__kernel=poly;, score=0.937 total time=   0.0s\n",
            "[CV 1/5] END svm__C=100, svm__degree=2, svm__gamma=0.3, svm__kernel=linear;, score=0.964 total time=   0.0s\n",
            "[CV 2/5] END svm__C=100, svm__degree=2, svm__gamma=0.3, svm__kernel=linear;, score=0.964 total time=   0.0s\n",
            "[CV 3/5] END svm__C=100, svm__degree=2, svm__gamma=0.3, svm__kernel=linear;, score=0.973 total time=   0.0s\n",
            "[CV 4/5] END svm__C=100, svm__degree=2, svm__gamma=0.3, svm__kernel=linear;, score=0.964 total time=   0.0s\n",
            "[CV 5/5] END svm__C=100, svm__degree=2, svm__gamma=0.3, svm__kernel=linear;, score=0.937 total time=   0.0s\n",
            "[CV 1/5] END svm__C=100, svm__degree=2, svm__gamma=0.3, svm__kernel=rbf;, score=0.973 total time=   0.0s\n",
            "[CV 2/5] END svm__C=100, svm__degree=2, svm__gamma=0.3, svm__kernel=rbf;, score=0.964 total time=   0.0s\n",
            "[CV 3/5] END svm__C=100, svm__degree=2, svm__gamma=0.3, svm__kernel=rbf;, score=0.973 total time=   0.0s\n",
            "[CV 4/5] END svm__C=100, svm__degree=2, svm__gamma=0.3, svm__kernel=rbf;, score=0.929 total time=   0.0s\n",
            "[CV 5/5] END svm__C=100, svm__degree=2, svm__gamma=0.3, svm__kernel=rbf;, score=0.928 total time=   0.0s\n",
            "[CV 1/5] END svm__C=100, svm__degree=2, svm__gamma=0.3, svm__kernel=poly;, score=0.938 total time=   0.1s\n",
            "[CV 2/5] END svm__C=100, svm__degree=2, svm__gamma=0.3, svm__kernel=poly;, score=0.875 total time=   0.0s\n",
            "[CV 3/5] END svm__C=100, svm__degree=2, svm__gamma=0.3, svm__kernel=poly;, score=0.955 total time=   0.0s\n",
            "[CV 4/5] END svm__C=100, svm__degree=2, svm__gamma=0.3, svm__kernel=poly;, score=0.920 total time=   0.0s\n",
            "[CV 5/5] END svm__C=100, svm__degree=2, svm__gamma=0.3, svm__kernel=poly;, score=0.919 total time=   0.0s\n",
            "[CV 1/5] END svm__C=100, svm__degree=2, svm__gamma=1.0, svm__kernel=linear;, score=0.964 total time=   0.0s\n",
            "[CV 2/5] END svm__C=100, svm__degree=2, svm__gamma=1.0, svm__kernel=linear;, score=0.964 total time=   0.0s\n",
            "[CV 3/5] END svm__C=100, svm__degree=2, svm__gamma=1.0, svm__kernel=linear;, score=0.973 total time=   0.0s\n",
            "[CV 4/5] END svm__C=100, svm__degree=2, svm__gamma=1.0, svm__kernel=linear;, score=0.964 total time=   0.0s\n",
            "[CV 5/5] END svm__C=100, svm__degree=2, svm__gamma=1.0, svm__kernel=linear;, score=0.937 total time=   0.0s\n",
            "[CV 1/5] END svm__C=100, svm__degree=2, svm__gamma=1.0, svm__kernel=rbf;, score=0.982 total time=   0.0s\n",
            "[CV 2/5] END svm__C=100, svm__degree=2, svm__gamma=1.0, svm__kernel=rbf;, score=0.955 total time=   0.0s\n",
            "[CV 3/5] END svm__C=100, svm__degree=2, svm__gamma=1.0, svm__kernel=rbf;, score=0.964 total time=   0.0s\n",
            "[CV 4/5] END svm__C=100, svm__degree=2, svm__gamma=1.0, svm__kernel=rbf;, score=0.929 total time=   0.0s\n",
            "[CV 5/5] END svm__C=100, svm__degree=2, svm__gamma=1.0, svm__kernel=rbf;, score=0.937 total time=   0.0s\n",
            "[CV 1/5] END svm__C=100, svm__degree=2, svm__gamma=1.0, svm__kernel=poly;, score=0.946 total time=   0.1s\n",
            "[CV 2/5] END svm__C=100, svm__degree=2, svm__gamma=1.0, svm__kernel=poly;, score=0.884 total time=   0.1s\n",
            "[CV 3/5] END svm__C=100, svm__degree=2, svm__gamma=1.0, svm__kernel=poly;, score=0.964 total time=   0.1s\n",
            "[CV 4/5] END svm__C=100, svm__degree=2, svm__gamma=1.0, svm__kernel=poly;, score=0.920 total time=   0.1s\n",
            "[CV 5/5] END svm__C=100, svm__degree=2, svm__gamma=1.0, svm__kernel=poly;, score=0.901 total time=   0.1s\n",
            "[CV 1/5] END svm__C=100, svm__degree=2, svm__gamma=3.0, svm__kernel=linear;, score=0.964 total time=   0.0s\n",
            "[CV 2/5] END svm__C=100, svm__degree=2, svm__gamma=3.0, svm__kernel=linear;, score=0.964 total time=   0.0s\n",
            "[CV 3/5] END svm__C=100, svm__degree=2, svm__gamma=3.0, svm__kernel=linear;, score=0.973 total time=   0.0s\n",
            "[CV 4/5] END svm__C=100, svm__degree=2, svm__gamma=3.0, svm__kernel=linear;, score=0.964 total time=   0.0s\n",
            "[CV 5/5] END svm__C=100, svm__degree=2, svm__gamma=3.0, svm__kernel=linear;, score=0.937 total time=   0.0s\n",
            "[CV 1/5] END svm__C=100, svm__degree=2, svm__gamma=3.0, svm__kernel=rbf;, score=0.920 total time=   0.0s\n",
            "[CV 2/5] END svm__C=100, svm__degree=2, svm__gamma=3.0, svm__kernel=rbf;, score=0.946 total time=   0.0s\n",
            "[CV 3/5] END svm__C=100, svm__degree=2, svm__gamma=3.0, svm__kernel=rbf;, score=0.955 total time=   0.0s\n",
            "[CV 4/5] END svm__C=100, svm__degree=2, svm__gamma=3.0, svm__kernel=rbf;, score=0.911 total time=   0.0s\n",
            "[CV 5/5] END svm__C=100, svm__degree=2, svm__gamma=3.0, svm__kernel=rbf;, score=0.910 total time=   0.0s\n",
            "[CV 1/5] END svm__C=100, svm__degree=2, svm__gamma=3.0, svm__kernel=poly;, score=0.938 total time=   3.2s\n",
            "[CV 2/5] END svm__C=100, svm__degree=2, svm__gamma=3.0, svm__kernel=poly;, score=0.848 total time=   0.5s\n",
            "[CV 3/5] END svm__C=100, svm__degree=2, svm__gamma=3.0, svm__kernel=poly;, score=0.955 total time=   0.8s\n",
            "[CV 4/5] END svm__C=100, svm__degree=2, svm__gamma=3.0, svm__kernel=poly;, score=0.920 total time=   0.2s\n",
            "[CV 5/5] END svm__C=100, svm__degree=2, svm__gamma=3.0, svm__kernel=poly;, score=0.892 total time=   0.3s\n",
            "[CV 1/5] END svm__C=100, svm__degree=3, svm__gamma=0.01, svm__kernel=linear;, score=0.964 total time=   0.0s\n",
            "[CV 2/5] END svm__C=100, svm__degree=3, svm__gamma=0.01, svm__kernel=linear;, score=0.964 total time=   0.0s\n",
            "[CV 3/5] END svm__C=100, svm__degree=3, svm__gamma=0.01, svm__kernel=linear;, score=0.973 total time=   0.0s\n",
            "[CV 4/5] END svm__C=100, svm__degree=3, svm__gamma=0.01, svm__kernel=linear;, score=0.964 total time=   0.0s\n",
            "[CV 5/5] END svm__C=100, svm__degree=3, svm__gamma=0.01, svm__kernel=linear;, score=0.937 total time=   0.0s\n",
            "[CV 1/5] END svm__C=100, svm__degree=3, svm__gamma=0.01, svm__kernel=rbf;, score=0.964 total time=   0.0s\n",
            "[CV 2/5] END svm__C=100, svm__degree=3, svm__gamma=0.01, svm__kernel=rbf;, score=0.964 total time=   0.0s\n",
            "[CV 3/5] END svm__C=100, svm__degree=3, svm__gamma=0.01, svm__kernel=rbf;, score=0.982 total time=   0.0s\n",
            "[CV 4/5] END svm__C=100, svm__degree=3, svm__gamma=0.01, svm__kernel=rbf;, score=0.982 total time=   0.0s\n",
            "[CV 5/5] END svm__C=100, svm__degree=3, svm__gamma=0.01, svm__kernel=rbf;, score=0.937 total time=   0.0s\n",
            "[CV 1/5] END svm__C=100, svm__degree=3, svm__gamma=0.01, svm__kernel=poly;, score=0.920 total time=   0.0s\n",
            "[CV 2/5] END svm__C=100, svm__degree=3, svm__gamma=0.01, svm__kernel=poly;, score=0.920 total time=   0.0s\n",
            "[CV 3/5] END svm__C=100, svm__degree=3, svm__gamma=0.01, svm__kernel=poly;, score=0.902 total time=   0.0s\n",
            "[CV 4/5] END svm__C=100, svm__degree=3, svm__gamma=0.01, svm__kernel=poly;, score=0.902 total time=   0.0s\n",
            "[CV 5/5] END svm__C=100, svm__degree=3, svm__gamma=0.01, svm__kernel=poly;, score=0.883 total time=   0.0s\n",
            "[CV 1/5] END svm__C=100, svm__degree=3, svm__gamma=0.03, svm__kernel=linear;, score=0.964 total time=   0.0s\n",
            "[CV 2/5] END svm__C=100, svm__degree=3, svm__gamma=0.03, svm__kernel=linear;, score=0.964 total time=   0.0s\n",
            "[CV 3/5] END svm__C=100, svm__degree=3, svm__gamma=0.03, svm__kernel=linear;, score=0.973 total time=   0.0s\n",
            "[CV 4/5] END svm__C=100, svm__degree=3, svm__gamma=0.03, svm__kernel=linear;, score=0.964 total time=   0.0s\n",
            "[CV 5/5] END svm__C=100, svm__degree=3, svm__gamma=0.03, svm__kernel=linear;, score=0.937 total time=   0.0s\n",
            "[CV 1/5] END svm__C=100, svm__degree=3, svm__gamma=0.03, svm__kernel=rbf;, score=0.964 total time=   0.0s\n",
            "[CV 2/5] END svm__C=100, svm__degree=3, svm__gamma=0.03, svm__kernel=rbf;, score=0.938 total time=   0.0s\n",
            "[CV 3/5] END svm__C=100, svm__degree=3, svm__gamma=0.03, svm__kernel=rbf;, score=0.973 total time=   0.0s\n",
            "[CV 4/5] END svm__C=100, svm__degree=3, svm__gamma=0.03, svm__kernel=rbf;, score=0.946 total time=   0.0s\n",
            "[CV 5/5] END svm__C=100, svm__degree=3, svm__gamma=0.03, svm__kernel=rbf;, score=0.937 total time=   0.0s\n",
            "[CV 1/5] END svm__C=100, svm__degree=3, svm__gamma=0.03, svm__kernel=poly;, score=0.946 total time=   0.0s\n",
            "[CV 2/5] END svm__C=100, svm__degree=3, svm__gamma=0.03, svm__kernel=poly;, score=0.955 total time=   0.0s\n",
            "[CV 3/5] END svm__C=100, svm__degree=3, svm__gamma=0.03, svm__kernel=poly;, score=0.946 total time=   0.0s\n",
            "[CV 4/5] END svm__C=100, svm__degree=3, svm__gamma=0.03, svm__kernel=poly;, score=0.973 total time=   0.0s\n",
            "[CV 5/5] END svm__C=100, svm__degree=3, svm__gamma=0.03, svm__kernel=poly;, score=0.928 total time=   0.0s\n",
            "[CV 1/5] END svm__C=100, svm__degree=3, svm__gamma=0.1, svm__kernel=linear;, score=0.964 total time=   0.0s\n",
            "[CV 2/5] END svm__C=100, svm__degree=3, svm__gamma=0.1, svm__kernel=linear;, score=0.964 total time=   0.0s\n",
            "[CV 3/5] END svm__C=100, svm__degree=3, svm__gamma=0.1, svm__kernel=linear;, score=0.973 total time=   0.0s\n",
            "[CV 4/5] END svm__C=100, svm__degree=3, svm__gamma=0.1, svm__kernel=linear;, score=0.964 total time=   0.0s\n",
            "[CV 5/5] END svm__C=100, svm__degree=3, svm__gamma=0.1, svm__kernel=linear;, score=0.937 total time=   0.0s\n",
            "[CV 1/5] END svm__C=100, svm__degree=3, svm__gamma=0.1, svm__kernel=rbf;, score=0.955 total time=   0.0s\n",
            "[CV 2/5] END svm__C=100, svm__degree=3, svm__gamma=0.1, svm__kernel=rbf;, score=0.955 total time=   0.0s\n",
            "[CV 3/5] END svm__C=100, svm__degree=3, svm__gamma=0.1, svm__kernel=rbf;, score=0.946 total time=   0.0s\n",
            "[CV 4/5] END svm__C=100, svm__degree=3, svm__gamma=0.1, svm__kernel=rbf;, score=0.938 total time=   0.0s\n",
            "[CV 5/5] END svm__C=100, svm__degree=3, svm__gamma=0.1, svm__kernel=rbf;, score=0.910 total time=   0.0s\n",
            "[CV 1/5] END svm__C=100, svm__degree=3, svm__gamma=0.1, svm__kernel=poly;, score=0.938 total time=   0.0s\n",
            "[CV 2/5] END svm__C=100, svm__degree=3, svm__gamma=0.1, svm__kernel=poly;, score=0.929 total time=   0.0s\n",
            "[CV 3/5] END svm__C=100, svm__degree=3, svm__gamma=0.1, svm__kernel=poly;, score=0.946 total time=   0.0s\n",
            "[CV 4/5] END svm__C=100, svm__degree=3, svm__gamma=0.1, svm__kernel=poly;, score=0.955 total time=   0.0s\n",
            "[CV 5/5] END svm__C=100, svm__degree=3, svm__gamma=0.1, svm__kernel=poly;, score=0.910 total time=   0.0s\n",
            "[CV 1/5] END svm__C=100, svm__degree=3, svm__gamma=0.3, svm__kernel=linear;, score=0.964 total time=   0.0s\n",
            "[CV 2/5] END svm__C=100, svm__degree=3, svm__gamma=0.3, svm__kernel=linear;, score=0.964 total time=   0.0s\n",
            "[CV 3/5] END svm__C=100, svm__degree=3, svm__gamma=0.3, svm__kernel=linear;, score=0.973 total time=   0.0s\n",
            "[CV 4/5] END svm__C=100, svm__degree=3, svm__gamma=0.3, svm__kernel=linear;, score=0.964 total time=   0.0s\n",
            "[CV 5/5] END svm__C=100, svm__degree=3, svm__gamma=0.3, svm__kernel=linear;, score=0.937 total time=   0.0s\n",
            "[CV 1/5] END svm__C=100, svm__degree=3, svm__gamma=0.3, svm__kernel=rbf;, score=0.973 total time=   0.0s\n",
            "[CV 2/5] END svm__C=100, svm__degree=3, svm__gamma=0.3, svm__kernel=rbf;, score=0.964 total time=   0.0s\n",
            "[CV 3/5] END svm__C=100, svm__degree=3, svm__gamma=0.3, svm__kernel=rbf;, score=0.973 total time=   0.0s\n",
            "[CV 4/5] END svm__C=100, svm__degree=3, svm__gamma=0.3, svm__kernel=rbf;, score=0.929 total time=   0.0s\n",
            "[CV 5/5] END svm__C=100, svm__degree=3, svm__gamma=0.3, svm__kernel=rbf;, score=0.928 total time=   0.0s\n",
            "[CV 1/5] END svm__C=100, svm__degree=3, svm__gamma=0.3, svm__kernel=poly;, score=0.938 total time=   0.0s\n",
            "[CV 2/5] END svm__C=100, svm__degree=3, svm__gamma=0.3, svm__kernel=poly;, score=0.955 total time=   0.0s\n",
            "[CV 3/5] END svm__C=100, svm__degree=3, svm__gamma=0.3, svm__kernel=poly;, score=0.955 total time=   0.0s\n",
            "[CV 4/5] END svm__C=100, svm__degree=3, svm__gamma=0.3, svm__kernel=poly;, score=0.929 total time=   0.0s\n",
            "[CV 5/5] END svm__C=100, svm__degree=3, svm__gamma=0.3, svm__kernel=poly;, score=0.910 total time=   0.0s\n",
            "[CV 1/5] END svm__C=100, svm__degree=3, svm__gamma=1.0, svm__kernel=linear;, score=0.964 total time=   0.0s\n",
            "[CV 2/5] END svm__C=100, svm__degree=3, svm__gamma=1.0, svm__kernel=linear;, score=0.964 total time=   0.0s\n",
            "[CV 3/5] END svm__C=100, svm__degree=3, svm__gamma=1.0, svm__kernel=linear;, score=0.973 total time=   0.0s\n",
            "[CV 4/5] END svm__C=100, svm__degree=3, svm__gamma=1.0, svm__kernel=linear;, score=0.964 total time=   0.0s\n",
            "[CV 5/5] END svm__C=100, svm__degree=3, svm__gamma=1.0, svm__kernel=linear;, score=0.937 total time=   0.0s\n",
            "[CV 1/5] END svm__C=100, svm__degree=3, svm__gamma=1.0, svm__kernel=rbf;, score=0.982 total time=   0.0s\n",
            "[CV 2/5] END svm__C=100, svm__degree=3, svm__gamma=1.0, svm__kernel=rbf;, score=0.955 total time=   0.0s\n",
            "[CV 3/5] END svm__C=100, svm__degree=3, svm__gamma=1.0, svm__kernel=rbf;, score=0.964 total time=   0.0s\n",
            "[CV 4/5] END svm__C=100, svm__degree=3, svm__gamma=1.0, svm__kernel=rbf;, score=0.929 total time=   0.0s\n",
            "[CV 5/5] END svm__C=100, svm__degree=3, svm__gamma=1.0, svm__kernel=rbf;, score=0.937 total time=   0.0s\n",
            "[CV 1/5] END svm__C=100, svm__degree=3, svm__gamma=1.0, svm__kernel=poly;, score=0.938 total time=   0.0s\n",
            "[CV 2/5] END svm__C=100, svm__degree=3, svm__gamma=1.0, svm__kernel=poly;, score=0.955 total time=   0.0s\n",
            "[CV 3/5] END svm__C=100, svm__degree=3, svm__gamma=1.0, svm__kernel=poly;, score=0.946 total time=   0.0s\n",
            "[CV 4/5] END svm__C=100, svm__degree=3, svm__gamma=1.0, svm__kernel=poly;, score=0.920 total time=   0.0s\n",
            "[CV 5/5] END svm__C=100, svm__degree=3, svm__gamma=1.0, svm__kernel=poly;, score=0.901 total time=   0.0s\n",
            "[CV 1/5] END svm__C=100, svm__degree=3, svm__gamma=3.0, svm__kernel=linear;, score=0.964 total time=   0.0s\n",
            "[CV 2/5] END svm__C=100, svm__degree=3, svm__gamma=3.0, svm__kernel=linear;, score=0.964 total time=   0.0s\n",
            "[CV 3/5] END svm__C=100, svm__degree=3, svm__gamma=3.0, svm__kernel=linear;, score=0.973 total time=   0.0s\n",
            "[CV 4/5] END svm__C=100, svm__degree=3, svm__gamma=3.0, svm__kernel=linear;, score=0.964 total time=   0.0s\n",
            "[CV 5/5] END svm__C=100, svm__degree=3, svm__gamma=3.0, svm__kernel=linear;, score=0.937 total time=   0.0s\n",
            "[CV 1/5] END svm__C=100, svm__degree=3, svm__gamma=3.0, svm__kernel=rbf;, score=0.920 total time=   0.0s\n",
            "[CV 2/5] END svm__C=100, svm__degree=3, svm__gamma=3.0, svm__kernel=rbf;, score=0.946 total time=   0.0s\n",
            "[CV 3/5] END svm__C=100, svm__degree=3, svm__gamma=3.0, svm__kernel=rbf;, score=0.955 total time=   0.0s\n",
            "[CV 4/5] END svm__C=100, svm__degree=3, svm__gamma=3.0, svm__kernel=rbf;, score=0.911 total time=   0.0s\n",
            "[CV 5/5] END svm__C=100, svm__degree=3, svm__gamma=3.0, svm__kernel=rbf;, score=0.910 total time=   0.0s\n",
            "[CV 1/5] END svm__C=100, svm__degree=3, svm__gamma=3.0, svm__kernel=poly;, score=0.938 total time=   0.0s\n",
            "[CV 2/5] END svm__C=100, svm__degree=3, svm__gamma=3.0, svm__kernel=poly;, score=0.955 total time=   0.0s\n",
            "[CV 3/5] END svm__C=100, svm__degree=3, svm__gamma=3.0, svm__kernel=poly;, score=0.946 total time=   0.0s\n",
            "[CV 4/5] END svm__C=100, svm__degree=3, svm__gamma=3.0, svm__kernel=poly;, score=0.920 total time=   0.0s\n",
            "[CV 5/5] END svm__C=100, svm__degree=3, svm__gamma=3.0, svm__kernel=poly;, score=0.901 total time=   0.0s\n"
          ]
        },
        {
          "output_type": "execute_result",
          "data": {
            "text/plain": [
              "GridSearchCV(estimator=Pipeline(steps=[('num_pipe',\n",
              "                                        Pipeline(steps=[('imputer',\n",
              "                                                         SimpleImputer()),\n",
              "                                                        ('scaler',\n",
              "                                                         StandardScaler())])),\n",
              "                                       ('svm', SVC(random_state=42))]),\n",
              "             param_grid={'svm__C': [0.01, 0.1, 1, 10, 100],\n",
              "                         'svm__degree': [2, 3],\n",
              "                         'svm__gamma': [0.01, 0.03, 0.1, 0.3, 1.0, 3.0],\n",
              "                         'svm__kernel': ['linear', 'rbf', 'poly']},\n",
              "             scoring='accuracy', verbose=3)"
            ],
            "text/html": [
              "<style>#sk-container-id-5 {color: black;background-color: white;}#sk-container-id-5 pre{padding: 0;}#sk-container-id-5 div.sk-toggleable {background-color: white;}#sk-container-id-5 label.sk-toggleable__label {cursor: pointer;display: block;width: 100%;margin-bottom: 0;padding: 0.3em;box-sizing: border-box;text-align: center;}#sk-container-id-5 label.sk-toggleable__label-arrow:before {content: \"▸\";float: left;margin-right: 0.25em;color: #696969;}#sk-container-id-5 label.sk-toggleable__label-arrow:hover:before {color: black;}#sk-container-id-5 div.sk-estimator:hover label.sk-toggleable__label-arrow:before {color: black;}#sk-container-id-5 div.sk-toggleable__content {max-height: 0;max-width: 0;overflow: hidden;text-align: left;background-color: #f0f8ff;}#sk-container-id-5 div.sk-toggleable__content pre {margin: 0.2em;color: black;border-radius: 0.25em;background-color: #f0f8ff;}#sk-container-id-5 input.sk-toggleable__control:checked~div.sk-toggleable__content {max-height: 200px;max-width: 100%;overflow: auto;}#sk-container-id-5 input.sk-toggleable__control:checked~label.sk-toggleable__label-arrow:before {content: \"▾\";}#sk-container-id-5 div.sk-estimator input.sk-toggleable__control:checked~label.sk-toggleable__label {background-color: #d4ebff;}#sk-container-id-5 div.sk-label input.sk-toggleable__control:checked~label.sk-toggleable__label {background-color: #d4ebff;}#sk-container-id-5 input.sk-hidden--visually {border: 0;clip: rect(1px 1px 1px 1px);clip: rect(1px, 1px, 1px, 1px);height: 1px;margin: -1px;overflow: hidden;padding: 0;position: absolute;width: 1px;}#sk-container-id-5 div.sk-estimator {font-family: monospace;background-color: #f0f8ff;border: 1px dotted black;border-radius: 0.25em;box-sizing: border-box;margin-bottom: 0.5em;}#sk-container-id-5 div.sk-estimator:hover {background-color: #d4ebff;}#sk-container-id-5 div.sk-parallel-item::after {content: \"\";width: 100%;border-bottom: 1px solid gray;flex-grow: 1;}#sk-container-id-5 div.sk-label:hover label.sk-toggleable__label {background-color: #d4ebff;}#sk-container-id-5 div.sk-serial::before {content: \"\";position: absolute;border-left: 1px solid gray;box-sizing: border-box;top: 0;bottom: 0;left: 50%;z-index: 0;}#sk-container-id-5 div.sk-serial {display: flex;flex-direction: column;align-items: center;background-color: white;padding-right: 0.2em;padding-left: 0.2em;position: relative;}#sk-container-id-5 div.sk-item {position: relative;z-index: 1;}#sk-container-id-5 div.sk-parallel {display: flex;align-items: stretch;justify-content: center;background-color: white;position: relative;}#sk-container-id-5 div.sk-item::before, #sk-container-id-5 div.sk-parallel-item::before {content: \"\";position: absolute;border-left: 1px solid gray;box-sizing: border-box;top: 0;bottom: 0;left: 50%;z-index: -1;}#sk-container-id-5 div.sk-parallel-item {display: flex;flex-direction: column;z-index: 1;position: relative;background-color: white;}#sk-container-id-5 div.sk-parallel-item:first-child::after {align-self: flex-end;width: 50%;}#sk-container-id-5 div.sk-parallel-item:last-child::after {align-self: flex-start;width: 50%;}#sk-container-id-5 div.sk-parallel-item:only-child::after {width: 0;}#sk-container-id-5 div.sk-dashed-wrapped {border: 1px dashed gray;margin: 0 0.4em 0.5em 0.4em;box-sizing: border-box;padding-bottom: 0.4em;background-color: white;}#sk-container-id-5 div.sk-label label {font-family: monospace;font-weight: bold;display: inline-block;line-height: 1.2em;}#sk-container-id-5 div.sk-label-container {text-align: center;}#sk-container-id-5 div.sk-container {/* jupyter's `normalize.less` sets `[hidden] { display: none; }` but bootstrap.min.css set `[hidden] { display: none !important; }` so we also need the `!important` here to be able to override the default hidden behavior on the sphinx rendered scikit-learn.org. See: https://github.com/scikit-learn/scikit-learn/issues/21755 */display: inline-block !important;position: relative;}#sk-container-id-5 div.sk-text-repr-fallback {display: none;}</style><div id=\"sk-container-id-5\" class=\"sk-top-container\"><div class=\"sk-text-repr-fallback\"><pre>GridSearchCV(estimator=Pipeline(steps=[(&#x27;num_pipe&#x27;,\n",
              "                                        Pipeline(steps=[(&#x27;imputer&#x27;,\n",
              "                                                         SimpleImputer()),\n",
              "                                                        (&#x27;scaler&#x27;,\n",
              "                                                         StandardScaler())])),\n",
              "                                       (&#x27;svm&#x27;, SVC(random_state=42))]),\n",
              "             param_grid={&#x27;svm__C&#x27;: [0.01, 0.1, 1, 10, 100],\n",
              "                         &#x27;svm__degree&#x27;: [2, 3],\n",
              "                         &#x27;svm__gamma&#x27;: [0.01, 0.03, 0.1, 0.3, 1.0, 3.0],\n",
              "                         &#x27;svm__kernel&#x27;: [&#x27;linear&#x27;, &#x27;rbf&#x27;, &#x27;poly&#x27;]},\n",
              "             scoring=&#x27;accuracy&#x27;, verbose=3)</pre><b>In a Jupyter environment, please rerun this cell to show the HTML representation or trust the notebook. <br />On GitHub, the HTML representation is unable to render, please try loading this page with nbviewer.org.</b></div><div class=\"sk-container\" hidden><div class=\"sk-item sk-dashed-wrapped\"><div class=\"sk-label-container\"><div class=\"sk-label sk-toggleable\"><input class=\"sk-toggleable__control sk-hidden--visually\" id=\"sk-estimator-id-21\" type=\"checkbox\" ><label for=\"sk-estimator-id-21\" class=\"sk-toggleable__label sk-toggleable__label-arrow\">GridSearchCV</label><div class=\"sk-toggleable__content\"><pre>GridSearchCV(estimator=Pipeline(steps=[(&#x27;num_pipe&#x27;,\n",
              "                                        Pipeline(steps=[(&#x27;imputer&#x27;,\n",
              "                                                         SimpleImputer()),\n",
              "                                                        (&#x27;scaler&#x27;,\n",
              "                                                         StandardScaler())])),\n",
              "                                       (&#x27;svm&#x27;, SVC(random_state=42))]),\n",
              "             param_grid={&#x27;svm__C&#x27;: [0.01, 0.1, 1, 10, 100],\n",
              "                         &#x27;svm__degree&#x27;: [2, 3],\n",
              "                         &#x27;svm__gamma&#x27;: [0.01, 0.03, 0.1, 0.3, 1.0, 3.0],\n",
              "                         &#x27;svm__kernel&#x27;: [&#x27;linear&#x27;, &#x27;rbf&#x27;, &#x27;poly&#x27;]},\n",
              "             scoring=&#x27;accuracy&#x27;, verbose=3)</pre></div></div></div><div class=\"sk-parallel\"><div class=\"sk-parallel-item\"><div class=\"sk-item\"><div class=\"sk-label-container\"><div class=\"sk-label sk-toggleable\"><input class=\"sk-toggleable__control sk-hidden--visually\" id=\"sk-estimator-id-22\" type=\"checkbox\" ><label for=\"sk-estimator-id-22\" class=\"sk-toggleable__label sk-toggleable__label-arrow\">estimator: Pipeline</label><div class=\"sk-toggleable__content\"><pre>Pipeline(steps=[(&#x27;num_pipe&#x27;,\n",
              "                 Pipeline(steps=[(&#x27;imputer&#x27;, SimpleImputer()),\n",
              "                                 (&#x27;scaler&#x27;, StandardScaler())])),\n",
              "                (&#x27;svm&#x27;, SVC(random_state=42))])</pre></div></div></div><div class=\"sk-serial\"><div class=\"sk-item\"><div class=\"sk-serial\"><div class=\"sk-item\"><div class=\"sk-label-container\"><div class=\"sk-label sk-toggleable\"><input class=\"sk-toggleable__control sk-hidden--visually\" id=\"sk-estimator-id-23\" type=\"checkbox\" ><label for=\"sk-estimator-id-23\" class=\"sk-toggleable__label sk-toggleable__label-arrow\">num_pipe: Pipeline</label><div class=\"sk-toggleable__content\"><pre>Pipeline(steps=[(&#x27;imputer&#x27;, SimpleImputer()), (&#x27;scaler&#x27;, StandardScaler())])</pre></div></div></div><div class=\"sk-serial\"><div class=\"sk-item\"><div class=\"sk-estimator sk-toggleable\"><input class=\"sk-toggleable__control sk-hidden--visually\" id=\"sk-estimator-id-24\" type=\"checkbox\" ><label for=\"sk-estimator-id-24\" class=\"sk-toggleable__label sk-toggleable__label-arrow\">SimpleImputer</label><div class=\"sk-toggleable__content\"><pre>SimpleImputer()</pre></div></div></div><div class=\"sk-item\"><div class=\"sk-estimator sk-toggleable\"><input class=\"sk-toggleable__control sk-hidden--visually\" id=\"sk-estimator-id-25\" type=\"checkbox\" ><label for=\"sk-estimator-id-25\" class=\"sk-toggleable__label sk-toggleable__label-arrow\">StandardScaler</label><div class=\"sk-toggleable__content\"><pre>StandardScaler()</pre></div></div></div></div></div><div class=\"sk-item\"><div class=\"sk-estimator sk-toggleable\"><input class=\"sk-toggleable__control sk-hidden--visually\" id=\"sk-estimator-id-26\" type=\"checkbox\" ><label for=\"sk-estimator-id-26\" class=\"sk-toggleable__label sk-toggleable__label-arrow\">SVC</label><div class=\"sk-toggleable__content\"><pre>SVC(random_state=42)</pre></div></div></div></div></div></div></div></div></div></div></div></div>"
            ]
          },
          "metadata": {},
          "execution_count": 41
        }
      ]
    },
    {
      "cell_type": "code",
      "source": [
        "# 15.\tPrint out the best parameters and note it in your written response\n",
        "print(\"Best parameters:\", grid_search_juan.best_params_)"
      ],
      "metadata": {
        "colab": {
          "base_uri": "https://localhost:8080/"
        },
        "id": "uxxjaQbu--md",
        "outputId": "a6e64477-ef55-4361-9fd0-b4bedc19feb3"
      },
      "execution_count": null,
      "outputs": [
        {
          "output_type": "stream",
          "name": "stdout",
          "text": [
            "Best parameters: {'svm__C': 0.1, 'svm__degree': 2, 'svm__gamma': 0.03, 'svm__kernel': 'rbf'}\n"
          ]
        }
      ]
    },
    {
      "cell_type": "code",
      "source": [
        "# 16.\tPrintout the best estimator and note it in your written response\n",
        "print(\"Best estimator:\", grid_search_juan.best_estimator_)"
      ],
      "metadata": {
        "colab": {
          "base_uri": "https://localhost:8080/"
        },
        "id": "clpgni-N_oRZ",
        "outputId": "a8741caf-85e2-4c32-e7d3-abbefd7e020a"
      },
      "execution_count": null,
      "outputs": [
        {
          "output_type": "stream",
          "name": "stdout",
          "text": [
            "Best estimator: Pipeline(steps=[('num_pipe',\n",
            "                 Pipeline(steps=[('imputer', SimpleImputer()),\n",
            "                                 ('scaler', StandardScaler())])),\n",
            "                ('svm', SVC(C=0.1, degree=2, gamma=0.03, random_state=42))])\n"
          ]
        }
      ]
    },
    {
      "cell_type": "code",
      "source": [
        "# 17.\tFit the test data the grid search object\n",
        "grid_search_juan.predict(X_test)"
      ],
      "metadata": {
        "colab": {
          "base_uri": "https://localhost:8080/"
        },
        "id": "u39Frb9g_zOF",
        "outputId": "79a9b16f-62c8-4842-af80-3871e70e36ed"
      },
      "execution_count": null,
      "outputs": [
        {
          "output_type": "execute_result",
          "data": {
            "text/plain": [
              "array([2, 2, 2, 4, 2, 2, 2, 4, 4, 2, 2, 4, 2, 2, 2, 4, 2, 4, 4, 4, 4, 2,\n",
              "       4, 2, 4, 2, 2, 4, 2, 4, 2, 2, 2, 4, 2, 2, 2, 4, 2, 4, 2, 2, 4, 2,\n",
              "       2, 2, 2, 4, 2, 2, 2, 2, 4, 2, 4, 2, 2, 4, 2, 2, 2, 2, 4, 2, 2, 2,\n",
              "       4, 4, 2, 2, 4, 2, 4, 2, 2, 2, 2, 4, 2, 2, 2, 2, 2, 2, 2, 4, 4, 2,\n",
              "       2, 2, 2, 2, 4, 2, 2, 4, 2, 2, 2, 2, 2, 2, 2, 4, 4, 2, 4, 2, 2, 4,\n",
              "       4, 2, 2, 2, 2, 4, 2, 2, 2, 2, 2, 4, 2, 2, 4, 4, 2, 2, 4, 4, 2, 2,\n",
              "       4, 2, 4, 2, 4, 2, 2, 2])"
            ]
          },
          "metadata": {},
          "execution_count": 44
        }
      ]
    },
    {
      "cell_type": "code",
      "source": [
        "# 18.\tPrintout the accuracy score\n",
        "print(\"Accuracy score:\", grid_search_juan.score(X_test, y_test))"
      ],
      "metadata": {
        "colab": {
          "base_uri": "https://localhost:8080/"
        },
        "id": "POzKHiFX_6Zd",
        "outputId": "4cd9aaa5-daa6-4f08-b96c-8abc701d115b"
      },
      "execution_count": null,
      "outputs": [
        {
          "output_type": "stream",
          "name": "stdout",
          "text": [
            "Accuracy score: 0.9714285714285714\n"
          ]
        }
      ]
    },
    {
      "cell_type": "code",
      "source": [
        "# Create an object that holds the best model i.e. best estimator to an object named best_model_juan\n",
        "best_model_juan = grid_search_juan.best_estimator_"
      ],
      "metadata": {
        "id": "R3fI2YsPAAcG"
      },
      "execution_count": null,
      "outputs": []
    },
    {
      "cell_type": "code",
      "source": [
        "# 20.\tSave the model using the joblib  (dump)\n",
        "import joblib\n",
        "\n",
        "joblib.dump(best_model_juan, 'best_model_juan.pkl')\n",
        "loaded_model = joblib.load('best_model_juan.pkl')\n",
        "print(loaded_model)"
      ],
      "metadata": {
        "colab": {
          "base_uri": "https://localhost:8080/"
        },
        "id": "K9uRu_XPAKcp",
        "outputId": "7a606b72-12de-4661-8c06-a9b386b2d039"
      },
      "execution_count": null,
      "outputs": [
        {
          "output_type": "stream",
          "name": "stdout",
          "text": [
            "Pipeline(steps=[('num_pipe',\n",
            "                 Pipeline(steps=[('imputer', SimpleImputer()),\n",
            "                                 ('scaler', StandardScaler())])),\n",
            "                ('svm', SVC(C=0.1, degree=2, gamma=0.03, random_state=42))])\n"
          ]
        }
      ]
    },
    {
      "cell_type": "code",
      "source": [
        "# 21.\tSave the full pipeline using the joblib – (dump)\n",
        "joblib.dump(num_pipe_juan, 'num_pipe_juan.pkl')\n",
        "loaded_num_pipe = joblib.load('num_pipe_juan.pkl')\n",
        "print(loaded_num_pipe)"
      ],
      "metadata": {
        "colab": {
          "base_uri": "https://localhost:8080/"
        },
        "id": "VkSIhKxrAQFG",
        "outputId": "d57e5468-cda3-44b0-e616-5c876f6f698f"
      },
      "execution_count": null,
      "outputs": [
        {
          "output_type": "stream",
          "name": "stdout",
          "text": [
            "Pipeline(steps=[('imputer', SimpleImputer()), ('scaler', StandardScaler())])\n"
          ]
        }
      ]
    },
    {
      "cell_type": "code",
      "source": [],
      "metadata": {
        "id": "T-LPM49uAhCG"
      },
      "execution_count": null,
      "outputs": []
    }
  ]
}